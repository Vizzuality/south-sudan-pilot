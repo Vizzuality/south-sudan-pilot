{
 "cells": [
  {
   "attachments": {},
   "cell_type": "markdown",
   "metadata": {
    "collapsed": false
   },
   "source": [
    "# South Sudan Data Layers\n",
    "\n",
    "This notebook is used to prepare the data layers for South Sudan. The data layers will be processed and upload to Mapbox.\n",
    "\n",
    "## Data Hierarchy\n",
    "\n",
    "The data is organized in the following hierarchy:\n",
    "\n",
    "- [This](https://docs.google.com/spreadsheets/d/1RdJCjygAiWu2zBMGRF0ayigzrA2WhaObWMNdlkllgSQ/edit?usp=sharing) is the link to the data hierarchy spreadsheet.\n",
    "\n",
    "## Data Access\n",
    "**Input Data**\n",
    "\n",
    "The data is stored in the following Google Cloud Storage bucket (source from GMV):\n",
    "- https://console.cloud.google.com/storage/browser/wbhydross_deliverables\n",
    "\n",
    "**Output Data**\n",
    "- Raster layers: s3 bucket\n",
    "- Vector layers: Mapbox\n"
   ]
  },
  {
   "attachments": {},
   "cell_type": "markdown",
   "metadata": {},
   "source": [
    "## Setup\n",
    "\n",
    "### Library import\n"
   ]
  },
  {
   "cell_type": "code",
   "execution_count": 1,
   "metadata": {
    "collapsed": false
   },
   "outputs": [],
   "source": [
    "# imports\n",
    "import os\n",
    "import sys\n",
    "from pathlib import Path\n",
    "from pprint import pprint\n",
    "\n",
    "# Include local library paths if you have ../src/utils.py\n",
    "sys.path.append(\"../src/\")\n",
    "sys.path.append(\"../src/datasets\")\n",
    "sys.path.append(\"../src/helpers\")\n",
    "sys.path.append(\"../src/datasets/factory\")\n",
    "\n",
    "from datasets.datasets import dataset_database\n",
    "from datasets.processing import LayerProcessing\n",
    "from helpers.mapbox_uploader import upload_to_mapbox\n",
    "from helpers.s3_uploader import upload_directory_to_s3\n",
    "from helpers.settings import get_settings"
   ]
  },
  {
   "cell_type": "code",
   "execution_count": 2,
   "metadata": {},
   "outputs": [],
   "source": [
    "# Load settings with environment variables\n",
    "settings = get_settings()"
   ]
  },
  {
   "attachments": {},
   "cell_type": "markdown",
   "metadata": {
    "collapsed": false
   },
   "source": [
    "# Data Acquisition"
   ]
  },
  {
   "cell_type": "markdown",
   "metadata": {},
   "source": [
    "## Dataset information"
   ]
  },
  {
   "cell_type": "code",
   "execution_count": 3,
   "metadata": {},
   "outputs": [
    {
     "name": "stdout",
     "output_type": "stream",
     "text": [
      "{'Agricultural drought exposure': <datasets.datasets.Dataset object at 0x7f8c35ef17f0>,\n",
      " 'Agricultural drought hazard': <datasets.datasets.Dataset object at 0x7f8c35ef1760>,\n",
      " 'Boundaries': <datasets.datasets.Dataset object at 0x7f8c35ef1790>,\n",
      " 'Contextual layers': <datasets.datasets.Dataset object at 0x7f8c35ef1730>,\n",
      " 'EO-based flood exposure': <datasets.datasets.Dataset object at 0x7f8c35ef1700>,\n",
      " 'EO-based flood hazard': <datasets.datasets.Dataset object at 0x7f8c35ef16d0>,\n",
      " 'Hydrographic data': <datasets.datasets.Dataset object at 0x7f8c35ef16a0>,\n",
      " 'Hydrometeorological Data': <datasets.datasets.Dataset object at 0x7f8c35ef1670>,\n",
      " 'Meteorological drought exposure': <datasets.datasets.Dataset object at 0x7f8c35ef1640>,\n",
      " 'Meteorological drought hazard': <datasets.datasets.Dataset object at 0x7f8c35ef1610>,\n",
      " 'Model-based flood exposure': <datasets.datasets.Dataset object at 0x7f8c35ef15e0>,\n",
      " 'Model-based flood hazard': <datasets.datasets.Dataset object at 0x7f8c35ef1520>,\n",
      " 'Populated infrastructures': <datasets.datasets.Dataset object at 0x7f8c35ef15b0>,\n",
      " 'Transportation Network Infrastructures': <datasets.datasets.Dataset object at 0x7f8c35ef1550>,\n",
      " 'Water-related infrastructures': <datasets.datasets.Dataset object at 0x7f8c35ef1580>}\n"
     ]
    }
   ],
   "source": [
    "datasets = dataset_database.datasets()\n",
    "pprint(datasets)"
   ]
  },
  {
   "cell_type": "markdown",
   "metadata": {},
   "source": [
    "## Floods and Droughts Layers\n",
    "### Create layers"
   ]
  },
  {
   "cell_type": "code",
   "execution_count": 4,
   "metadata": {},
   "outputs": [
    {
     "name": "stderr",
     "output_type": "stream",
     "text": [
      "  0%|          | 0/8 [00:00<?, ?it/s]"
     ]
    },
    {
     "name": "stdout",
     "output_type": "stream",
     "text": [
      "Model-based flood hazard\n"
     ]
    },
    {
     "name": "stderr",
     "output_type": "stream",
     "text": [
      "100%|██████████| 10/10 [00:00<00:00, 105384.52it/s]\n"
     ]
    },
    {
     "name": "stdout",
     "output_type": "stream",
     "text": [
      "EO-based flood hazard\n"
     ]
    },
    {
     "name": "stderr",
     "output_type": "stream",
     "text": [
      "100%|██████████| 2/2 [00:00<00:00, 57456.22it/s]\n"
     ]
    },
    {
     "name": "stdout",
     "output_type": "stream",
     "text": [
      "Meteorological drought hazard\n"
     ]
    },
    {
     "name": "stderr",
     "output_type": "stream",
     "text": [
      "100%|██████████| 1/1 [00:00<00:00, 39568.91it/s]\n"
     ]
    },
    {
     "name": "stdout",
     "output_type": "stream",
     "text": [
      "Agricultural drought hazard\n"
     ]
    },
    {
     "name": "stderr",
     "output_type": "stream",
     "text": [
      "INFO:helpers.raster_processor:Applying styles\n",
      "Application path not initialized\n",
      "Application path not initialized\n",
      "Application path not initialized\n",
      "Application path not initialized\n"
     ]
    },
    {
     "name": "stdout",
     "output_type": "stream",
     "text": [
      "Processing Combined SNDVI and SMA indices from Agricultural drought hazard\n"
     ]
    },
    {
     "name": "stderr",
     "output_type": "stream",
     "text": [
      "Application path not initialized\n",
      "Application path not initialized\n",
      "INFO:helpers.raster_processor:Converting to GeoTIFF\n",
      "INFO:helpers.raster_processor:Converting to Cloud-Optimized GeoTIFF\n",
      "Reading input: /home/iker/Vizzuality/Proiektuak/wims-south-sudan/data-processing/data/processed/RasterLayers/ADH_combined_sndvi_and_sma_indices.tif\n",
      "\n",
      "Adding overviews...\n",
      "Updating dataset tags...\n",
      "Writing output to: /home/iker/Vizzuality/Proiektuak/wims-south-sudan/data-processing/data/processed/RasterLayers/ADH_combined_sndvi_and_sma_indices.tif\n",
      "INFO:helpers.raster_processor:Processing complete. Output saved to ../data/processed/RasterLayers/ADH_combined_sndvi_and_sma_indices.tif\n"
     ]
    },
    {
     "name": "stdout",
     "output_type": "stream",
     "text": [
      "Creating tiles ...\n"
     ]
    },
    {
     "name": "stderr",
     "output_type": "stream",
     "text": [
      "100%|██████████| 1/1 [02:43<00:00, 163.32s/it]\n",
      " 50%|█████     | 4/8 [02:43<02:43, 40.83s/it]"
     ]
    },
    {
     "name": "stdout",
     "output_type": "stream",
     "text": [
      "Model-based flood exposure\n"
     ]
    },
    {
     "name": "stderr",
     "output_type": "stream",
     "text": [
      "100%|██████████| 20/20 [00:00<00:00, 671088.64it/s]\n"
     ]
    },
    {
     "name": "stdout",
     "output_type": "stream",
     "text": [
      "EO-based flood exposure\n"
     ]
    },
    {
     "name": "stderr",
     "output_type": "stream",
     "text": [
      "100%|██████████| 10/10 [00:00<00:00, 391991.03it/s]\n"
     ]
    },
    {
     "name": "stdout",
     "output_type": "stream",
     "text": [
      "Meteorological drought exposure\n"
     ]
    },
    {
     "name": "stderr",
     "output_type": "stream",
     "text": [
      "100%|██████████| 8/8 [00:00<00:00, 316551.25it/s]\n"
     ]
    },
    {
     "name": "stdout",
     "output_type": "stream",
     "text": [
      "Agricultural drought exposure\n"
     ]
    },
    {
     "name": "stderr",
     "output_type": "stream",
     "text": [
      "100%|██████████| 8/8 [00:00<00:00, 316551.25it/s]\n",
      "100%|██████████| 8/8 [02:43<00:00, 20.42s/it]\n"
     ]
    }
   ],
   "source": [
    "datasets_list = [\n",
    "    \"Model-based flood hazard\",\n",
    "    \"EO-based flood hazard\",\n",
    "    \"Meteorological drought hazard\",\n",
    "    \"Agricultural drought hazard\",\n",
    "    \"Model-based flood exposure\",\n",
    "    \"EO-based flood exposure\",\n",
    "    \"Meteorological drought exposure\",\n",
    "    \"Agricultural drought exposure\",\n",
    "]\n",
    "\n",
    "dict_path = \"../data/processed/datasets_dict.json\"\n",
    "\n",
    "layer_processing = LayerProcessing(datasets, datasets_list, dict_path)\n",
    "layer_processing.create_layers()"
   ]
  },
  {
   "cell_type": "markdown",
   "metadata": {},
   "source": [
    "### Raster layers"
   ]
  },
  {
   "cell_type": "markdown",
   "metadata": {},
   "source": [
    "#### Upload raster tiles to S3 bucket"
   ]
  },
  {
   "cell_type": "code",
   "execution_count": null,
   "metadata": {},
   "outputs": [],
   "source": [
    "directory_path = Path(\"../data/processed/RasterTiles/\")\n",
    "bucket_name = \"wims-ss-staging-assets-bucket\"\n",
    "bucket_folder = \"raster-tiles\"\n",
    "\n",
    "all_folders = os.listdir(directory_path)\n",
    "\n",
    "for folder in all_folders:\n",
    "    local_directory = directory_path / Path(folder)\n",
    "    if os.path.isdir(local_directory):\n",
    "        upload_directory_to_s3(local_directory, bucket_name, f\"{bucket_folder}/{folder}\")\n",
    "        print(folder)"
   ]
  },
  {
   "cell_type": "markdown",
   "metadata": {},
   "source": [
    "### Vector layers"
   ]
  },
  {
   "cell_type": "markdown",
   "metadata": {},
   "source": [
    "#### Upload layers to Mapbox"
   ]
  },
  {
   "cell_type": "code",
   "execution_count": 5,
   "metadata": {},
   "outputs": [],
   "source": [
    "directory_path = Path(\"../data/processed/VectorLayers/\")\n",
    "\n",
    "all_files = os.listdir(directory_path)\n",
    "\n",
    "for file_name in all_files:\n",
    "    local_file = directory_path / Path(file_name)\n",
    "\n",
    "    # Upload to Mapbox\n",
    "    upload_name = upload_to_mapbox(\n",
    "        local_file,\n",
    "        file_name,\n",
    "        settings.MAPBOX_USER,\n",
    "        settings.MAPBOX_TOKEN,\n",
    "    )"
   ]
  },
  {
   "cell_type": "markdown",
   "metadata": {},
   "source": [
    "## Animated raster data"
   ]
  },
  {
   "cell_type": "code",
   "execution_count": null,
   "metadata": {},
   "outputs": [],
   "source": [
    "raster_layers = {}\n",
    "for dataset_name, dataset in datasets.items():\n",
    "    layers = dataset.layers()\n",
    "    dataset_layers = {}\n",
    "    for layer_name, layer in layers.items():\n",
    "        if layer.type == \"raster\" and layer.format == \"Zarr\":\n",
    "            dataset_layers[layer_name] = layer\n",
    "    if dataset_layers:\n",
    "        raster_layers[dataset_name] = dataset_layers\n",
    "\n",
    "raster_layers"
   ]
  },
  {
   "cell_type": "code",
   "execution_count": null,
   "metadata": {},
   "outputs": [],
   "source": [
    "layer = raster_layers[\"Hydrometeorological Data\"][\"Evapotranspiration\"]\n",
    "ds = layer.get_data()"
   ]
  },
  {
   "cell_type": "code",
   "execution_count": null,
   "metadata": {},
   "outputs": [],
   "source": [
    "ds"
   ]
  },
  {
   "cell_type": "code",
   "execution_count": null,
   "metadata": {},
   "outputs": [],
   "source": [
    "data = ds.isel(months=0)\n",
    "data = data.rio.write_crs(\"EPSG:4326\")\n",
    "# Save as COG\n",
    "output_path = \"../data/processed/evapotranspiration.tif\"\n",
    "data.rio.to_raster(output_path, driver=\"COG\")"
   ]
  }
 ],
 "metadata": {
  "kernelspec": {
   "display_name": "qgis",
   "language": "python",
   "name": "python3"
  },
  "language_info": {
   "codemirror_mode": {
    "name": "ipython",
    "version": 3
   },
   "file_extension": ".py",
   "mimetype": "text/x-python",
   "name": "python",
   "nbconvert_exporter": "python",
   "pygments_lexer": "ipython3",
   "version": "3.12.5"
  }
 },
 "nbformat": 4,
 "nbformat_minor": 0
}
