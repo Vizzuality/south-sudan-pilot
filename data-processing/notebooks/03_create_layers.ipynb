{
 "cells": [
  {
   "attachments": {},
   "cell_type": "markdown",
   "metadata": {
    "collapsed": false
   },
   "source": [
    "# South Sudan Data Layers\n",
    "\n",
    "This notebook is used to prepare the data layers for South Sudan. The data layers will be processed and upload to Mapbox.\n",
    "\n",
    "## Data Hierarchy\n",
    "\n",
    "The data is organized in the following hierarchy:\n",
    "\n",
    "- [This](https://docs.google.com/spreadsheets/d/1RdJCjygAiWu2zBMGRF0ayigzrA2WhaObWMNdlkllgSQ/edit?usp=sharing) is the link to the data hierarchy spreadsheet.\n",
    "\n",
    "## Data Access\n",
    "**Input Data**\n",
    "\n",
    "The data is stored in the following Google Cloud Storage bucket (source from GMV):\n",
    "- https://console.cloud.google.com/storage/browser/wbhydross_deliverables\n",
    "\n",
    "**Output Data**\n",
    "- Raster layers: s3 bucket\n",
    "- Vector layers: Mapbox\n"
   ]
  },
  {
   "attachments": {},
   "cell_type": "markdown",
   "metadata": {},
   "source": [
    "## Setup\n",
    "\n",
    "### Library import\n"
   ]
  },
  {
   "cell_type": "code",
   "execution_count": 1,
   "metadata": {
    "collapsed": false
   },
   "outputs": [],
   "source": [
    "# imports\n",
    "import os\n",
    "import sys\n",
    "from pathlib import Path\n",
    "from pprint import pprint\n",
    "\n",
    "# Include local library paths if you have ../src/utils.py\n",
    "sys.path.append(\"../src/\")\n",
    "sys.path.append(\"../src/animations\")\n",
    "sys.path.append(\"../src/datasets\")\n",
    "sys.path.append(\"../src/helpers\")\n",
    "sys.path.append(\"../src/datasets/factory\")\n",
    "\n",
    "from datasets.datasets import dataset_database\n",
    "from datasets.processing import LayerProcessing\n",
    "from helpers.mapbox_uploader import upload_to_mapbox\n",
    "from helpers.s3_uploader import upload_files_to_s3_parallel\n",
    "from helpers.settings import get_settings"
   ]
  },
  {
   "cell_type": "code",
   "execution_count": 2,
   "metadata": {},
   "outputs": [],
   "source": [
    "# Load settings with environment variables\n",
    "settings = get_settings()"
   ]
  },
  {
   "attachments": {},
   "cell_type": "markdown",
   "metadata": {
    "collapsed": false
   },
   "source": [
    "# Data Acquisition"
   ]
  },
  {
   "cell_type": "markdown",
   "metadata": {},
   "source": [
    "## Dataset information"
   ]
  },
  {
   "cell_type": "code",
   "execution_count": 3,
   "metadata": {},
   "outputs": [
    {
     "name": "stdout",
     "output_type": "stream",
     "text": [
      "{'Agricultural drought exposure': <datasets.datasets.Dataset object at 0x7f47e9f27b90>,\n",
      " 'Agricultural drought hazard': <datasets.datasets.Dataset object at 0x7f47e9f27c20>,\n",
      " 'Boundaries': <datasets.datasets.Dataset object at 0x7f47e9f27bc0>,\n",
      " 'Contextual layers': <datasets.datasets.Dataset object at 0x7f47e9f27b60>,\n",
      " 'EO-based flood exposure': <datasets.datasets.Dataset object at 0x7f47e9f27b30>,\n",
      " 'EO-based flood hazard': <datasets.datasets.Dataset object at 0x7f47e9f27b00>,\n",
      " 'Hydrographic data': <datasets.datasets.Dataset object at 0x7f47e9f27ad0>,\n",
      " 'Hydrometeorological Data': <datasets.datasets.Dataset object at 0x7f47e9f27aa0>,\n",
      " 'Meteorological drought exposure': <datasets.datasets.Dataset object at 0x7f47e9f27a70>,\n",
      " 'Meteorological drought hazard': <datasets.datasets.Dataset object at 0x7f47e9f27a40>,\n",
      " 'Model-based flood exposure': <datasets.datasets.Dataset object at 0x7f47e9f27a10>,\n",
      " 'Model-based flood hazard': <datasets.datasets.Dataset object at 0x7f47e9f27950>,\n",
      " 'Populated infrastructures': <datasets.datasets.Dataset object at 0x7f47e9f279e0>,\n",
      " 'Transportation Network Infrastructures': <datasets.datasets.Dataset object at 0x7f47e9f27980>,\n",
      " 'Water-related infrastructures': <datasets.datasets.Dataset object at 0x7f47e9f279b0>}\n"
     ]
    }
   ],
   "source": [
    "datasets = dataset_database.datasets()\n",
    "pprint(datasets)"
   ]
  },
  {
   "cell_type": "markdown",
   "metadata": {},
   "source": [
    "# Static Layers\n",
    "## Floods and Droughts Layers\n",
    "### Create layers"
   ]
  },
  {
   "cell_type": "code",
   "execution_count": 4,
   "metadata": {},
   "outputs": [
    {
     "name": "stderr",
     "output_type": "stream",
     "text": [
      "  0%|          | 0/8 [00:00<?, ?it/s]"
     ]
    },
    {
     "name": "stdout",
     "output_type": "stream",
     "text": [
      "Model-based flood hazard\n"
     ]
    },
    {
     "name": "stderr",
     "output_type": "stream",
     "text": [
      "100%|██████████| 10/10 [00:00<00:00, 180013.05it/s]\n"
     ]
    },
    {
     "name": "stdout",
     "output_type": "stream",
     "text": [
      "EO-based flood hazard\n"
     ]
    },
    {
     "name": "stderr",
     "output_type": "stream",
     "text": [
      "100%|██████████| 2/2 [00:00<00:00, 50533.78it/s]\n"
     ]
    },
    {
     "name": "stdout",
     "output_type": "stream",
     "text": [
      "Meteorological drought hazard\n"
     ]
    },
    {
     "name": "stderr",
     "output_type": "stream",
     "text": [
      "100%|██████████| 1/1 [00:00<00:00, 28149.69it/s]\n"
     ]
    },
    {
     "name": "stdout",
     "output_type": "stream",
     "text": [
      "Agricultural drought hazard\n"
     ]
    },
    {
     "name": "stderr",
     "output_type": "stream",
     "text": [
      "100%|██████████| 1/1 [00:00<00:00, 16008.79it/s]\n"
     ]
    },
    {
     "name": "stdout",
     "output_type": "stream",
     "text": [
      "Model-based flood exposure\n"
     ]
    },
    {
     "name": "stderr",
     "output_type": "stream",
     "text": [
      "100%|██████████| 20/20 [00:00<00:00, 321402.61it/s]\n"
     ]
    },
    {
     "name": "stdout",
     "output_type": "stream",
     "text": [
      "EO-based flood exposure\n"
     ]
    },
    {
     "name": "stderr",
     "output_type": "stream",
     "text": [
      "100%|██████████| 10/10 [00:00<00:00, 283398.92it/s]\n"
     ]
    },
    {
     "name": "stdout",
     "output_type": "stream",
     "text": [
      "Meteorological drought exposure\n"
     ]
    },
    {
     "name": "stderr",
     "output_type": "stream",
     "text": [
      "100%|██████████| 8/8 [00:00<00:00, 277309.36it/s]\n"
     ]
    },
    {
     "name": "stdout",
     "output_type": "stream",
     "text": [
      "Agricultural drought exposure\n"
     ]
    },
    {
     "name": "stderr",
     "output_type": "stream",
     "text": [
      "100%|██████████| 8/8 [00:00<00:00, 138084.08it/s]\n",
      "100%|██████████| 8/8 [00:00<00:00, 536.48it/s]\n"
     ]
    }
   ],
   "source": [
    "datasets_list = [\n",
    "    \"Model-based flood hazard\",\n",
    "    \"EO-based flood hazard\",\n",
    "    \"Meteorological drought hazard\",\n",
    "    \"Agricultural drought hazard\",\n",
    "    \"Model-based flood exposure\",\n",
    "    \"EO-based flood exposure\",\n",
    "    \"Meteorological drought exposure\",\n",
    "    \"Agricultural drought exposure\",\n",
    "]\n",
    "\n",
    "dict_path = \"../data/processed/datasets_dict.json\"\n",
    "\n",
    "layer_processing = LayerProcessing(datasets, datasets_list, dict_path)\n",
    "layer_processing.create_layers()"
   ]
  },
  {
   "cell_type": "markdown",
   "metadata": {},
   "source": [
    "### Raster layers"
   ]
  },
  {
   "cell_type": "markdown",
   "metadata": {},
   "source": [
    "#### Upload raster tiles to S3 bucket"
   ]
  },
  {
   "cell_type": "code",
   "execution_count": 4,
   "metadata": {},
   "outputs": [
    {
     "name": "stdout",
     "output_type": "stream",
     "text": [
      "Uploading folder EFH_flood_extent_(2017-2022):\n"
     ]
    },
    {
     "name": "stderr",
     "output_type": "stream",
     "text": [
      "100%|██████████| 21320/21320 [02:13<00:00, 159.98it/s]\n"
     ]
    },
    {
     "name": "stdout",
     "output_type": "stream",
     "text": [
      "Uploading folder ADE_cropland_and_grassland:\n"
     ]
    },
    {
     "name": "stderr",
     "output_type": "stream",
     "text": [
      "100%|██████████| 21125/21125 [02:14<00:00, 157.64it/s]\n"
     ]
    },
    {
     "name": "stdout",
     "output_type": "stream",
     "text": [
      "Uploading folder EFE_population:\n"
     ]
    },
    {
     "name": "stderr",
     "output_type": "stream",
     "text": [
      "100%|██████████| 20221/20221 [02:06<00:00, 160.39it/s]\n"
     ]
    },
    {
     "name": "stdout",
     "output_type": "stream",
     "text": [
      "Uploading folder MDE_built-up_surface:\n"
     ]
    },
    {
     "name": "stderr",
     "output_type": "stream",
     "text": [
      "100%|██████████| 21125/21125 [02:10<00:00, 161.58it/s]\n"
     ]
    },
    {
     "name": "stdout",
     "output_type": "stream",
     "text": [
      "Uploading folder MFH_fluvial_flood_depth_10-yr_rp:\n"
     ]
    },
    {
     "name": "stderr",
     "output_type": "stream",
     "text": [
      "100%|██████████| 23061/23061 [02:22<00:00, 162.24it/s]\n"
     ]
    },
    {
     "name": "stdout",
     "output_type": "stream",
     "text": [
      "Uploading folder MDH_combined_spi_and_spei_indices:\n"
     ]
    },
    {
     "name": "stderr",
     "output_type": "stream",
     "text": [
      "100%|██████████| 24929/24929 [02:33<00:00, 162.01it/s]\n"
     ]
    },
    {
     "name": "stdout",
     "output_type": "stream",
     "text": [
      "Uploading folder MFH_fluvial_flood_depth_50-yr_rp:\n"
     ]
    },
    {
     "name": "stderr",
     "output_type": "stream",
     "text": [
      "100%|██████████| 23061/23061 [02:23<00:00, 161.16it/s]\n"
     ]
    },
    {
     "name": "stdout",
     "output_type": "stream",
     "text": [
      "Uploading folder MFH_pluvial_flood_depth_20-yr_rp:\n"
     ]
    },
    {
     "name": "stderr",
     "output_type": "stream",
     "text": [
      "100%|██████████| 23061/23061 [02:23<00:00, 161.19it/s]\n"
     ]
    },
    {
     "name": "stdout",
     "output_type": "stream",
     "text": [
      "Uploading folder ADH_combined_sndvi_and_sma_indices:\n"
     ]
    },
    {
     "name": "stderr",
     "output_type": "stream",
     "text": [
      "100%|██████████| 21125/21125 [02:10<00:00, 161.28it/s]\n"
     ]
    },
    {
     "name": "stdout",
     "output_type": "stream",
     "text": [
      "Uploading folder MFE_population_5-yr_rp:\n"
     ]
    },
    {
     "name": "stderr",
     "output_type": "stream",
     "text": [
      "100%|██████████| 20799/20799 [02:08<00:00, 162.24it/s]\n"
     ]
    },
    {
     "name": "stdout",
     "output_type": "stream",
     "text": [
      "Uploading folder MFE_cropland_and_grassland_5-yr_rp:\n"
     ]
    },
    {
     "name": "stderr",
     "output_type": "stream",
     "text": [
      "100%|██████████| 20799/20799 [02:21<00:00, 146.77it/s]\n"
     ]
    },
    {
     "name": "stdout",
     "output_type": "stream",
     "text": [
      "Uploading folder MFH_pluvial_flood_depth_100-yr_rp:\n"
     ]
    },
    {
     "name": "stderr",
     "output_type": "stream",
     "text": [
      "100%|██████████| 23061/23061 [02:24<00:00, 159.83it/s]\n"
     ]
    },
    {
     "name": "stdout",
     "output_type": "stream",
     "text": [
      "Uploading folder MFH_fluvial_flood_depth_20-yr_rp:\n"
     ]
    },
    {
     "name": "stderr",
     "output_type": "stream",
     "text": [
      "100%|██████████| 23061/23061 [02:22<00:00, 162.27it/s]\n"
     ]
    },
    {
     "name": "stdout",
     "output_type": "stream",
     "text": [
      "Uploading folder MFE_built-up_surface_5-yr_rp:\n"
     ]
    },
    {
     "name": "stderr",
     "output_type": "stream",
     "text": [
      "100%|██████████| 20799/20799 [02:08<00:00, 161.49it/s]\n"
     ]
    },
    {
     "name": "stdout",
     "output_type": "stream",
     "text": [
      "Uploading folder MFH_pluvial_flood_depth_50-yr_rp:\n"
     ]
    },
    {
     "name": "stderr",
     "output_type": "stream",
     "text": [
      "100%|██████████| 23061/23061 [02:22<00:00, 161.54it/s]\n"
     ]
    },
    {
     "name": "stdout",
     "output_type": "stream",
     "text": [
      "Uploading folder MFH_fluvial_flood_depth_100-yr_rp:\n"
     ]
    },
    {
     "name": "stderr",
     "output_type": "stream",
     "text": [
      "100%|██████████| 23061/23061 [02:25<00:00, 158.80it/s]\n"
     ]
    },
    {
     "name": "stdout",
     "output_type": "stream",
     "text": [
      "Uploading folder MFH_pluvial_flood_depth_5-yr_rp:\n"
     ]
    },
    {
     "name": "stderr",
     "output_type": "stream",
     "text": [
      "100%|██████████| 23061/23061 [02:21<00:00, 162.95it/s]\n"
     ]
    },
    {
     "name": "stdout",
     "output_type": "stream",
     "text": [
      "Uploading folder EFE_cropland_and_grassland:\n"
     ]
    },
    {
     "name": "stderr",
     "output_type": "stream",
     "text": [
      "100%|██████████| 20221/20221 [02:05<00:00, 160.52it/s]\n"
     ]
    },
    {
     "name": "stdout",
     "output_type": "stream",
     "text": [
      "Uploading folder CL_land_cover:\n"
     ]
    },
    {
     "name": "stderr",
     "output_type": "stream",
     "text": [
      "100%|██████████| 21125/21125 [02:12<00:00, 158.95it/s]\n"
     ]
    },
    {
     "name": "stdout",
     "output_type": "stream",
     "text": [
      "Uploading folder HD_digital_elevation_model:\n"
     ]
    },
    {
     "name": "stderr",
     "output_type": "stream",
     "text": [
      "100%|██████████| 21125/21125 [02:14<00:00, 156.92it/s]\n"
     ]
    },
    {
     "name": "stdout",
     "output_type": "stream",
     "text": [
      "Uploading folder ADE_built-up_surface:\n"
     ]
    },
    {
     "name": "stderr",
     "output_type": "stream",
     "text": [
      "100%|██████████| 21125/21125 [02:09<00:00, 162.65it/s]\n"
     ]
    },
    {
     "name": "stdout",
     "output_type": "stream",
     "text": [
      "Uploading folder MDE_cropland_and_grassland:\n"
     ]
    },
    {
     "name": "stderr",
     "output_type": "stream",
     "text": [
      "100%|██████████| 24929/24929 [02:34<00:00, 161.53it/s]\n"
     ]
    },
    {
     "name": "stdout",
     "output_type": "stream",
     "text": [
      "Uploading folder MFH_fluvial_flood_depth_5-yr_rp:\n"
     ]
    },
    {
     "name": "stderr",
     "output_type": "stream",
     "text": [
      "100%|██████████| 23061/23061 [02:22<00:00, 162.16it/s]\n"
     ]
    },
    {
     "name": "stdout",
     "output_type": "stream",
     "text": [
      "Uploading folder EFE_built-up_surface:\n"
     ]
    },
    {
     "name": "stderr",
     "output_type": "stream",
     "text": [
      "100%|██████████| 20221/20221 [02:04<00:00, 161.82it/s]\n"
     ]
    },
    {
     "name": "stdout",
     "output_type": "stream",
     "text": [
      "Uploading folder ADE_population:\n"
     ]
    },
    {
     "name": "stderr",
     "output_type": "stream",
     "text": [
      "100%|██████████| 21125/21125 [02:10<00:00, 161.83it/s]\n"
     ]
    },
    {
     "name": "stdout",
     "output_type": "stream",
     "text": [
      "Uploading folder MFE_cropland_and_grassland_100-yr_rp:\n"
     ]
    },
    {
     "name": "stderr",
     "output_type": "stream",
     "text": [
      "100%|██████████| 20799/20799 [02:12<00:00, 156.88it/s]\n"
     ]
    },
    {
     "name": "stdout",
     "output_type": "stream",
     "text": [
      "Uploading folder MFE_built-up_surface_100-yr_rp:\n"
     ]
    },
    {
     "name": "stderr",
     "output_type": "stream",
     "text": [
      "100%|██████████| 20799/20799 [02:09<00:00, 161.22it/s]\n"
     ]
    },
    {
     "name": "stdout",
     "output_type": "stream",
     "text": [
      "Uploading folder MFE_population_100-yr_rp:\n"
     ]
    },
    {
     "name": "stderr",
     "output_type": "stream",
     "text": [
      "100%|██████████| 20799/20799 [02:09<00:00, 160.58it/s]\n"
     ]
    },
    {
     "name": "stdout",
     "output_type": "stream",
     "text": [
      "Uploading folder MFH_pluvial_flood_depth_10-yr_rp:\n"
     ]
    },
    {
     "name": "stderr",
     "output_type": "stream",
     "text": [
      "100%|██████████| 23061/23061 [02:23<00:00, 160.44it/s]\n"
     ]
    },
    {
     "name": "stdout",
     "output_type": "stream",
     "text": [
      "Uploading folder CL_population:\n"
     ]
    },
    {
     "name": "stderr",
     "output_type": "stream",
     "text": [
      "100%|██████████| 21125/21125 [02:11<00:00, 160.49it/s]\n"
     ]
    },
    {
     "name": "stdout",
     "output_type": "stream",
     "text": [
      "Uploading folder EFH_flood_max_frequency_(2017-2022):\n"
     ]
    },
    {
     "name": "stderr",
     "output_type": "stream",
     "text": [
      "100%|██████████| 21320/21320 [02:13<00:00, 160.09it/s]\n"
     ]
    }
   ],
   "source": [
    "directory_path = \"../data/processed/RasterTiles/\"\n",
    "bucket_folder = \"raster-tiles\"\n",
    "\n",
    "all_folders = os.listdir(directory_path)\n",
    "\n",
    "for folder in all_folders:\n",
    "    print(f\"Uploading folder {folder}:\")\n",
    "    local_directory = os.path.join(directory_path, folder)\n",
    "    if os.path.isdir(local_directory):\n",
    "        upload_files_to_s3_parallel(local_directory, f\"{bucket_folder}/{folder}\")"
   ]
  },
  {
   "cell_type": "markdown",
   "metadata": {},
   "source": [
    "### Vector layers"
   ]
  },
  {
   "cell_type": "markdown",
   "metadata": {},
   "source": [
    "#### Upload layers to Mapbox"
   ]
  },
  {
   "cell_type": "code",
   "execution_count": 5,
   "metadata": {},
   "outputs": [],
   "source": [
    "directory_path = Path(\"../data/processed/VectorLayers/\")\n",
    "\n",
    "all_files = os.listdir(directory_path)\n",
    "\n",
    "for file_name in all_files:\n",
    "    local_file = directory_path / Path(file_name)\n",
    "\n",
    "    # Upload to Mapbox\n",
    "    upload_name = upload_to_mapbox(\n",
    "        local_file,\n",
    "        file_name,\n",
    "        settings.MAPBOX_USER,\n",
    "        settings.MAPBOX_TOKEN,\n",
    "    )"
   ]
  },
  {
   "cell_type": "markdown",
   "metadata": {},
   "source": [
    "## Contextual Layers\n",
    "### Create layers"
   ]
  },
  {
   "cell_type": "code",
   "execution_count": 11,
   "metadata": {},
   "outputs": [
    {
     "name": "stderr",
     "output_type": "stream",
     "text": [
      "  0%|          | 0/1 [00:00<?, ?it/s]"
     ]
    },
    {
     "name": "stdout",
     "output_type": "stream",
     "text": [
      "Contextual layers\n"
     ]
    },
    {
     "name": "stderr",
     "output_type": "stream",
     "text": [
      "INFO:helpers.raster_processor:Applying styles\n",
      "Application path not initialized\n",
      "INFO:helpers.raster_processor:Converting to GeoTIFF\n"
     ]
    },
    {
     "name": "stdout",
     "output_type": "stream",
     "text": [
      "Processing Land cover from Contextual layers\n"
     ]
    },
    {
     "name": "stderr",
     "output_type": "stream",
     "text": [
      "INFO:helpers.raster_processor:Converting to Cloud-Optimized GeoTIFF\n",
      "Reading input: /home/iker/Vizzuality/Proiektuak/wims-south-sudan/data-processing/data/processed/RasterLayers/CL_land_cover.tif\n",
      "\n",
      "Adding overviews...\n",
      "Updating dataset tags...\n",
      "Writing output to: /home/iker/Vizzuality/Proiektuak/wims-south-sudan/data-processing/data/processed/RasterLayers/CL_land_cover.tif\n",
      "INFO:helpers.raster_processor:Processing complete. Output saved to ../data/processed/RasterLayers/CL_land_cover.tif\n"
     ]
    },
    {
     "name": "stdout",
     "output_type": "stream",
     "text": [
      "Creating tiles ...\n"
     ]
    },
    {
     "name": "stderr",
     "output_type": "stream",
     "text": [
      "INFO:helpers.raster_processor:Applying styles\n"
     ]
    },
    {
     "name": "stdout",
     "output_type": "stream",
     "text": [
      "Processing Population from Contextual layers\n"
     ]
    },
    {
     "name": "stderr",
     "output_type": "stream",
     "text": [
      "Application path not initialized\n",
      "INFO:helpers.raster_processor:Converting to GeoTIFF\n",
      "INFO:helpers.raster_processor:Converting to Cloud-Optimized GeoTIFF\n",
      "Reading input: /home/iker/Vizzuality/Proiektuak/wims-south-sudan/data-processing/data/processed/RasterLayers/CL_population.tif\n",
      "\n",
      "Adding overviews...\n",
      "Updating dataset tags...\n",
      "Writing output to: /home/iker/Vizzuality/Proiektuak/wims-south-sudan/data-processing/data/processed/RasterLayers/CL_population.tif\n",
      "INFO:helpers.raster_processor:Processing complete. Output saved to ../data/processed/RasterLayers/CL_population.tif\n",
      "Warning 1: Unable to save auxiliary information in https://storage.googleapis.com/wbhydross_deliverables/D3-Database/01-Population_Assets_Infrastructures/Population-GHS/WBHYDROSSD_GHS-POP_4326_100m_SouthSudan_2020_20240429.tif.aux.xml.\n"
     ]
    },
    {
     "name": "stdout",
     "output_type": "stream",
     "text": [
      "Creating tiles ...\n"
     ]
    },
    {
     "name": "stderr",
     "output_type": "stream",
     "text": []
    },
    {
     "name": "stdout",
     "output_type": "stream",
     "text": [
      "Processing Seasonal cattle grazing areas from Contextual layers\n",
      "Loading data from https://storage.googleapis.com/wbhydross_deliverables/D3-Database/01-Population_Assets_Infrastructures/Pastures-REACH/WBHYDROSSD_REACH-SeasonalCattleGrazingAreas_4326_SouthSudan_2020_20240103.shp...\n"
     ]
    },
    {
     "name": "stderr",
     "output_type": "stream",
     "text": [
      "INFO:root:Creating JSON file...\n",
      "INFO:pyogrio._io:Created 80 records\n",
      "INFO:root:Creating mbtiles file...\n",
      "For layer 0, using name \"CL_seasonal_cattle_grazing_areas\"\n",
      "../data/processed/RasterLayers/CL_seasonal_cattle_grazing_areas.json:8: Found ] at top level\n",
      "../data/processed/RasterLayers/CL_seasonal_cattle_grazing_areas.json:11: Reached EOF without all containers being closed\n",
      "In JSON object {\"type\":\"FeatureCollection\",\"name\":\"CL_seasonal_cattle_grazing_areas\",\"crs\":{\"type\":\"name\",\"properties\":{\"name\":\"urn:ogc:def:crs:OGC:1.3:CRS84\"}},\"features\":[]}\n",
      "80 features, 473626 bytes of geometry, 591 bytes of separate metadata, 1108 bytes of string pool\n",
      "Choosing a maxzoom of -z1 for features about 252062 feet (76829 meters) apart\n",
      "Choosing a maxzoom of -z10 for resolution of about 440 feet (134 meters) within features\n",
      "  99.9%  10/612/497  \n",
      "100%|██████████| 3/3 [30:06<00:00, 602.01s/it]\n",
      "100%|██████████| 1/1 [30:06<00:00, 1806.02s/it]\n"
     ]
    }
   ],
   "source": [
    "datasets_list = [\"Contextual layers\"]\n",
    "\n",
    "dict_path = \"../data/processed/datasets_dict.json\"\n",
    "\n",
    "layer_processing = LayerProcessing(datasets, datasets_list, dict_path)\n",
    "layer_processing.create_layers()"
   ]
  },
  {
   "cell_type": "markdown",
   "metadata": {},
   "source": [
    "## Boundaries, Waterbodies and Infrastructure \n",
    "### Create layers"
   ]
  },
  {
   "cell_type": "code",
   "execution_count": 4,
   "metadata": {},
   "outputs": [
    {
     "name": "stderr",
     "output_type": "stream",
     "text": [
      "  0%|          | 0/5 [00:00<?, ?it/s]"
     ]
    },
    {
     "name": "stdout",
     "output_type": "stream",
     "text": [
      "Boundaries\n"
     ]
    },
    {
     "name": "stderr",
     "output_type": "stream",
     "text": [
      "100%|██████████| 5/5 [00:00<00:00, 90394.48it/s]\n"
     ]
    },
    {
     "name": "stdout",
     "output_type": "stream",
     "text": [
      "Hydrographic data\n"
     ]
    },
    {
     "name": "stderr",
     "output_type": "stream",
     "text": [
      "INFO:helpers.raster_processor:Applying styles\n",
      "Application path not initialized\n",
      "Application path not initialized\n",
      "Application path not initialized\n",
      "Application path not initialized\n"
     ]
    },
    {
     "name": "stdout",
     "output_type": "stream",
     "text": [
      "Processing Digital Elevation Model from Hydrographic data\n"
     ]
    },
    {
     "name": "stderr",
     "output_type": "stream",
     "text": [
      "Application path not initialized\n",
      "Application path not initialized\n",
      "INFO:helpers.raster_processor:Converting to GeoTIFF\n",
      "INFO:helpers.raster_processor:Converting to Cloud-Optimized GeoTIFF\n",
      "Reading input: /home/iker/Vizzuality/Proiektuak/wims-south-sudan/data-processing/data/processed/RasterLayers/HD_digital_elevation_model.tif\n",
      "\n",
      "Adding overviews...\n",
      "Updating dataset tags...\n",
      "Writing output to: /home/iker/Vizzuality/Proiektuak/wims-south-sudan/data-processing/data/processed/RasterLayers/HD_digital_elevation_model.tif\n",
      "INFO:helpers.raster_processor:Processing complete. Output saved to ../data/processed/RasterLayers/HD_digital_elevation_model.tif\n"
     ]
    },
    {
     "name": "stdout",
     "output_type": "stream",
     "text": [
      "Creating tiles ...\n"
     ]
    },
    {
     "name": "stderr",
     "output_type": "stream",
     "text": [
      "100%|██████████| 2/2 [03:37<00:00, 108.87s/it]\n",
      " 40%|████      | 2/5 [03:37<05:26, 108.87s/it]"
     ]
    },
    {
     "name": "stdout",
     "output_type": "stream",
     "text": [
      "Populated infrastructures\n"
     ]
    },
    {
     "name": "stderr",
     "output_type": "stream",
     "text": [
      "100%|██████████| 2/2 [00:00<00:00, 79891.50it/s]\n"
     ]
    },
    {
     "name": "stdout",
     "output_type": "stream",
     "text": [
      "Transportation Network Infrastructures\n"
     ]
    },
    {
     "name": "stderr",
     "output_type": "stream",
     "text": [
      "100%|██████████| 1/1 [00:00<00:00, 41943.04it/s]\n"
     ]
    },
    {
     "name": "stdout",
     "output_type": "stream",
     "text": [
      "Water-related infrastructures\n"
     ]
    },
    {
     "name": "stderr",
     "output_type": "stream",
     "text": [
      "100%|██████████| 2/2 [00:00<00:00, 82241.25it/s]\n",
      "100%|██████████| 5/5 [03:37<00:00, 43.55s/it] \n"
     ]
    }
   ],
   "source": [
    "datasets_list = [\n",
    "    \"Boundaries\",\n",
    "    \"Hydrographic data\",\n",
    "    \"Populated infrastructures\",\n",
    "    \"Transportation Network Infrastructures\",\n",
    "    \"Water-related infrastructures\",\n",
    "]\n",
    "\n",
    "dict_path = \"../data/processed/datasets_dict.json\"\n",
    "\n",
    "layer_processing = LayerProcessing(datasets, datasets_list, dict_path)\n",
    "layer_processing.create_layers()"
   ]
  },
  {
   "cell_type": "markdown",
   "metadata": {},
   "source": [
    "# Animated Layers\n",
    "## Hydrometeorological Data Layers\n",
    "### Create layers"
   ]
  },
  {
   "cell_type": "code",
   "execution_count": 4,
   "metadata": {},
   "outputs": [
    {
     "name": "stderr",
     "output_type": "stream",
     "text": [
      "  0%|          | 0/1 [00:00<?, ?it/s]"
     ]
    },
    {
     "name": "stdout",
     "output_type": "stream",
     "text": [
      "Hydrometeorological Data\n"
     ]
    },
    {
     "name": "stderr",
     "output_type": "stream",
     "text": []
    },
    {
     "name": "stdout",
     "output_type": "stream",
     "text": [
      "Processing Evapotranspiration from Hydrometeorological Data\n",
      "Loading Zarr data from gs://wbhydross_deliverables/D3-Database/02- Meteorological datasets/Evapotranspiration-WaPOR/WBHYDROSSD_WaPOR_Evapotranspiration_100m_SouthSudan_2023_20240220.zarr...\n",
      "Creating tiles ...\n"
     ]
    },
    {
     "name": "stderr",
     "output_type": "stream",
     "text": [
      "\n",
      "\u001b[AINFO:botocore.credentials:Found credentials in environment variables.\n",
      "INFO:botocore.credentials:Found credentials in environment variables.\n",
      "INFO:botocore.credentials:Found credentials in environment variables.\n",
      "INFO:botocore.credentials:Found credentials in environment variables.\n",
      "INFO:botocore.credentials:Found credentials in environment variables.\n",
      "INFO:botocore.credentials:Found credentials in environment variables.\n",
      "INFO:botocore.credentials:Found credentials in environment variables.\n",
      "INFO:botocore.credentials:Found credentials in environment variables.\n",
      "INFO:botocore.credentials:Found credentials in environment variables.\n",
      "INFO:botocore.credentials:Found credentials in environment variables.\n",
      "INFO:botocore.credentials:Found credentials in environment variables.\n",
      "INFO:botocore.credentials:Found credentials in environment variables.\n",
      "INFO:botocore.credentials:Found credentials in environment variables.\n",
      "INFO:botocore.credentials:Found credentials in environment variables.\n",
      "INFO:botocore.credentials:Found credentials in environment variables.\n",
      "INFO:botocore.credentials:Found credentials in environment variables.\n",
      "INFO:botocore.credentials:Found credentials in environment variables.\n",
      "INFO:botocore.credentials:Found credentials in environment variables.\n",
      "INFO:botocore.credentials:Found credentials in environment variables.\n",
      "INFO:botocore.credentials:Found credentials in environment variables.\n",
      "INFO:botocore.credentials:Found credentials in environment variables.\n",
      "INFO:botocore.credentials:Found credentials in environment variables.\n",
      "INFO:botocore.credentials:Found credentials in environment variables.\n",
      "INFO:botocore.credentials:Found credentials in environment variables.\n",
      "INFO:botocore.credentials:Found credentials in environment variables.\n",
      "INFO:botocore.credentials:Found credentials in environment variables.\n",
      "INFO:botocore.credentials:Found credentials in environment variables.\n",
      "INFO:botocore.credentials:Found credentials in environment variables.\n",
      "INFO:botocore.credentials:Found credentials in environment variables.\n",
      "INFO:botocore.credentials:Found credentials in environment variables.\n",
      "INFO:botocore.credentials:Found credentials in environment variables.\n",
      "INFO:botocore.credentials:Found credentials in environment variables.\n",
      "INFO:botocore.credentials:Found credentials in environment variables.\n",
      "INFO:botocore.credentials:Found credentials in environment variables.\n",
      "INFO:botocore.credentials:Found credentials in environment variables.\n",
      "INFO:botocore.credentials:Found credentials in environment variables.\n",
      "INFO:botocore.credentials:Found credentials in environment variables.\n",
      "INFO:botocore.credentials:Found credentials in environment variables.\n",
      "INFO:botocore.credentials:Found credentials in environment variables.\n",
      "INFO:botocore.credentials:Found credentials in environment variables.\n",
      "INFO:botocore.credentials:Found credentials in environment variables.\n",
      "INFO:botocore.credentials:Found credentials in environment variables.\n",
      "INFO:botocore.credentials:Found credentials in environment variables.\n",
      "INFO:botocore.credentials:Found credentials in environment variables.\n",
      "INFO:botocore.credentials:Found credentials in environment variables.\n",
      "INFO:botocore.credentials:Found credentials in environment variables.\n",
      "INFO:botocore.credentials:Found credentials in environment variables.\n",
      "INFO:botocore.credentials:Found credentials in environment variables.\n",
      "INFO:botocore.credentials:Found credentials in environment variables.\n",
      "INFO:botocore.credentials:Found credentials in environment variables.\n",
      "INFO:botocore.credentials:Found credentials in environment variables.\n",
      "INFO:botocore.credentials:Found credentials in environment variables.\n",
      "INFO:botocore.credentials:Found credentials in environment variables.\n",
      "INFO:botocore.credentials:Found credentials in environment variables.\n",
      "INFO:botocore.credentials:Found credentials in environment variables.\n",
      "INFO:botocore.credentials:Found credentials in environment variables.\n",
      "INFO:botocore.credentials:Found credentials in environment variables.\n",
      "INFO:botocore.credentials:Found credentials in environment variables.\n",
      "INFO:botocore.credentials:Found credentials in environment variables.\n",
      "INFO:botocore.credentials:Found credentials in environment variables.\n",
      "INFO:botocore.credentials:Found credentials in environment variables.\n",
      "INFO:botocore.credentials:Found credentials in environment variables.\n",
      "INFO:botocore.credentials:Found credentials in environment variables.\n",
      "INFO:botocore.credentials:Found credentials in environment variables.\n",
      "INFO:botocore.credentials:Found credentials in environment variables.\n",
      "INFO:botocore.credentials:Found credentials in environment variables.\n",
      "INFO:botocore.credentials:Found credentials in environment variables.\n",
      "INFO:botocore.credentials:Found credentials in environment variables.\n",
      "INFO:botocore.credentials:Found credentials in environment variables.\n",
      "INFO:botocore.credentials:Found credentials in environment variables.\n",
      "INFO:botocore.credentials:Found credentials in environment variables.\n",
      "INFO:botocore.credentials:Found credentials in environment variables.\n",
      "INFO:botocore.credentials:Found credentials in environment variables.\n",
      "INFO:botocore.credentials:Found credentials in environment variables.\n",
      "INFO:botocore.credentials:Found credentials in environment variables.\n",
      "INFO:botocore.credentials:Found credentials in environment variables.\n",
      "INFO:botocore.credentials:Found credentials in environment variables.\n",
      "INFO:botocore.credentials:Found credentials in environment variables.\n",
      "INFO:botocore.credentials:Found credentials in environment variables.\n",
      "INFO:botocore.credentials:Found credentials in environment variables.\n",
      "INFO:botocore.credentials:Found credentials in environment variables.\n",
      "INFO:botocore.credentials:Found credentials in environment variables.\n",
      "INFO:botocore.credentials:Found credentials in environment variables.\n",
      "INFO:botocore.credentials:Found credentials in environment variables.\n",
      "INFO:botocore.credentials:Found credentials in environment variables.\n",
      "INFO:botocore.credentials:Found credentials in environment variables.\n",
      "INFO:botocore.credentials:Found credentials in environment variables.\n",
      "INFO:botocore.credentials:Found credentials in environment variables.\n",
      "INFO:botocore.credentials:Found credentials in environment variables.\n",
      "INFO:botocore.credentials:Found credentials in environment variables.\n",
      "INFO:botocore.credentials:Found credentials in environment variables.\n",
      "INFO:botocore.credentials:Found credentials in environment variables.\n",
      "INFO:botocore.credentials:Found credentials in environment variables.\n",
      "INFO:botocore.credentials:Found credentials in environment variables.\n",
      "INFO:botocore.credentials:Found credentials in environment variables.\n",
      "INFO:botocore.credentials:Found credentials in environment variables.\n",
      "INFO:botocore.credentials:Found credentials in environment variables.\n",
      "INFO:botocore.credentials:Found credentials in environment variables.\n",
      "INFO:botocore.credentials:Found credentials in environment variables.\n",
      "INFO:botocore.credentials:Found credentials in environment variables.\n",
      "INFO:botocore.credentials:Found credentials in environment variables.\n",
      "INFO:botocore.credentials:Found credentials in environment variables.\n",
      "INFO:botocore.credentials:Found credentials in environment variables.\n",
      "INFO:botocore.credentials:Found credentials in environment variables.\n",
      "INFO:botocore.credentials:Found credentials in environment variables.\n",
      "INFO:botocore.credentials:Found credentials in environment variables.\n",
      "INFO:botocore.credentials:Found credentials in environment variables.\n",
      "INFO:botocore.credentials:Found credentials in environment variables.\n",
      "INFO:botocore.credentials:Found credentials in environment variables.\n",
      "INFO:botocore.credentials:Found credentials in environment variables.\n",
      "INFO:botocore.credentials:Found credentials in environment variables.\n",
      "INFO:botocore.credentials:Found credentials in environment variables.\n",
      "INFO:botocore.credentials:Found credentials in environment variables.\n",
      "INFO:botocore.credentials:Found credentials in environment variables.\n",
      "INFO:botocore.credentials:Found credentials in environment variables.\n",
      "INFO:botocore.credentials:Found credentials in environment variables.\n",
      "INFO:botocore.credentials:Found credentials in environment variables.\n",
      "INFO:botocore.credentials:Found credentials in environment variables.\n",
      "INFO:botocore.credentials:Found credentials in environment variables.\n",
      "INFO:botocore.credentials:Found credentials in environment variables.\n",
      "INFO:botocore.credentials:Found credentials in environment variables.\n",
      "INFO:botocore.credentials:Found credentials in environment variables.\n",
      "INFO:botocore.credentials:Found credentials in environment variables.\n",
      "INFO:botocore.credentials:Found credentials in environment variables.\n",
      "INFO:botocore.credentials:Found credentials in environment variables.\n",
      "INFO:botocore.credentials:Found credentials in environment variables.\n",
      "INFO:botocore.credentials:Found credentials in environment variables.\n",
      "INFO:botocore.credentials:Found credentials in environment variables.\n",
      "INFO:botocore.credentials:Found credentials in environment variables.\n",
      "INFO:botocore.credentials:Found credentials in environment variables.\n",
      "INFO:botocore.credentials:Found credentials in environment variables.\n",
      "INFO:botocore.credentials:Found credentials in environment variables.\n",
      "INFO:botocore.credentials:Found credentials in environment variables.\n",
      "INFO:botocore.credentials:Found credentials in environment variables.\n",
      "INFO:botocore.credentials:Found credentials in environment variables.\n",
      "INFO:botocore.credentials:Found credentials in environment variables.\n",
      "INFO:botocore.credentials:Found credentials in environment variables.\n",
      "INFO:botocore.credentials:Found credentials in environment variables.\n",
      "INFO:botocore.credentials:Found credentials in environment variables.\n",
      "INFO:botocore.credentials:Found credentials in environment variables.\n",
      "INFO:botocore.credentials:Found credentials in environment variables.\n",
      "INFO:botocore.credentials:Found credentials in environment variables.\n",
      "INFO:botocore.credentials:Found credentials in environment variables.\n",
      "INFO:botocore.credentials:Found credentials in environment variables.\n",
      "INFO:botocore.credentials:Found credentials in environment variables.\n",
      "INFO:botocore.credentials:Found credentials in environment variables.\n",
      "INFO:botocore.credentials:Found credentials in environment variables.\n",
      "INFO:botocore.credentials:Found credentials in environment variables.\n",
      "INFO:botocore.credentials:Found credentials in environment variables.\n",
      "INFO:botocore.credentials:Found credentials in environment variables.\n",
      "INFO:botocore.credentials:Found credentials in environment variables.\n",
      "INFO:botocore.credentials:Found credentials in environment variables.\n",
      "INFO:botocore.credentials:Found credentials in environment variables.\n",
      "INFO:botocore.credentials:Found credentials in environment variables.\n",
      "INFO:botocore.credentials:Found credentials in environment variables.\n",
      "INFO:botocore.credentials:Found credentials in environment variables.\n",
      "INFO:botocore.credentials:Found credentials in environment variables.\n",
      "INFO:botocore.credentials:Found credentials in environment variables.\n",
      "INFO:botocore.credentials:Found credentials in environment variables.\n",
      "INFO:botocore.credentials:Found credentials in environment variables.\n",
      "INFO:botocore.credentials:Found credentials in environment variables.\n",
      "INFO:botocore.credentials:Found credentials in environment variables.\n",
      "INFO:botocore.credentials:Found credentials in environment variables.\n",
      "INFO:botocore.credentials:Found credentials in environment variables.\n",
      "INFO:botocore.credentials:Found credentials in environment variables.\n",
      "INFO:botocore.credentials:Found credentials in environment variables.\n",
      "INFO:botocore.credentials:Found credentials in environment variables.\n",
      "INFO:botocore.credentials:Found credentials in environment variables.\n",
      "INFO:botocore.credentials:Found credentials in environment variables.\n",
      "INFO:botocore.credentials:Found credentials in environment variables.\n",
      "INFO:botocore.credentials:Found credentials in environment variables.\n",
      "INFO:botocore.credentials:Found credentials in environment variables.\n",
      "INFO:botocore.credentials:Found credentials in environment variables.\n",
      "INFO:botocore.credentials:Found credentials in environment variables.\n",
      "INFO:botocore.credentials:Found credentials in environment variables.\n",
      "INFO:botocore.credentials:Found credentials in environment variables.\n",
      "INFO:botocore.credentials:Found credentials in environment variables.\n",
      "INFO:botocore.credentials:Found credentials in environment variables.\n",
      "INFO:botocore.credentials:Found credentials in environment variables.\n",
      "INFO:botocore.credentials:Found credentials in environment variables.\n",
      "INFO:botocore.credentials:Found credentials in environment variables.\n",
      "INFO:botocore.credentials:Found credentials in environment variables.\n",
      "INFO:botocore.credentials:Found credentials in environment variables.\n",
      "INFO:botocore.credentials:Found credentials in environment variables.\n",
      "INFO:botocore.credentials:Found credentials in environment variables.\n",
      "INFO:botocore.credentials:Found credentials in environment variables.\n",
      "INFO:botocore.credentials:Found credentials in environment variables.\n",
      "INFO:botocore.credentials:Found credentials in environment variables.\n",
      "INFO:botocore.credentials:Found credentials in environment variables.\n",
      "INFO:botocore.credentials:Found credentials in environment variables.\n",
      "INFO:botocore.credentials:Found credentials in environment variables.\n",
      "INFO:botocore.credentials:Found credentials in environment variables.\n",
      "INFO:botocore.credentials:Found credentials in environment variables.\n",
      "INFO:botocore.credentials:Found credentials in environment variables.\n",
      "INFO:botocore.credentials:Found credentials in environment variables.\n",
      "INFO:botocore.credentials:Found credentials in environment variables.\n",
      "INFO:botocore.credentials:Found credentials in environment variables.\n",
      "INFO:botocore.credentials:Found credentials in environment variables.\n",
      "INFO:botocore.credentials:Found credentials in environment variables.\n",
      "INFO:botocore.credentials:Found credentials in environment variables.\n",
      "INFO:botocore.credentials:Found credentials in environment variables.\n",
      "INFO:botocore.credentials:Found credentials in environment variables.\n",
      "INFO:botocore.credentials:Found credentials in environment variables.\n",
      "INFO:botocore.credentials:Found credentials in environment variables.\n",
      "INFO:botocore.credentials:Found credentials in environment variables.\n",
      "INFO:botocore.credentials:Found credentials in environment variables.\n",
      "INFO:botocore.credentials:Found credentials in environment variables.\n",
      "INFO:botocore.credentials:Found credentials in environment variables.\n",
      "INFO:botocore.credentials:Found credentials in environment variables.\n",
      "INFO:botocore.credentials:Found credentials in environment variables.\n",
      "INFO:botocore.credentials:Found credentials in environment variables.\n",
      "INFO:botocore.credentials:Found credentials in environment variables.\n",
      "INFO:botocore.credentials:Found credentials in environment variables.\n",
      "INFO:botocore.credentials:Found credentials in environment variables.\n",
      "INFO:botocore.credentials:Found credentials in environment variables.\n",
      "INFO:botocore.credentials:Found credentials in environment variables.\n",
      "INFO:botocore.credentials:Found credentials in environment variables.\n",
      "INFO:botocore.credentials:Found credentials in environment variables.\n",
      "INFO:botocore.credentials:Found credentials in environment variables.\n",
      "INFO:botocore.credentials:Found credentials in environment variables.\n",
      "INFO:botocore.credentials:Found credentials in environment variables.\n",
      "INFO:botocore.credentials:Found credentials in environment variables.\n",
      "INFO:botocore.credentials:Found credentials in environment variables.\n",
      "INFO:botocore.credentials:Found credentials in environment variables.\n",
      "INFO:botocore.credentials:Found credentials in environment variables.\n",
      "INFO:botocore.credentials:Found credentials in environment variables.\n",
      "INFO:botocore.credentials:Found credentials in environment variables.\n",
      "INFO:botocore.credentials:Found credentials in environment variables.\n",
      "INFO:botocore.credentials:Found credentials in environment variables.\n",
      "INFO:botocore.credentials:Found credentials in environment variables.\n",
      "INFO:botocore.credentials:Found credentials in environment variables.\n",
      "INFO:botocore.credentials:Found credentials in environment variables.\n",
      "INFO:botocore.credentials:Found credentials in environment variables.\n",
      "INFO:botocore.credentials:Found credentials in environment variables.\n",
      "INFO:botocore.credentials:Found credentials in environment variables.\n",
      "INFO:botocore.credentials:Found credentials in environment variables.\n",
      "INFO:botocore.credentials:Found credentials in environment variables.\n",
      "INFO:botocore.credentials:Found credentials in environment variables.\n",
      "INFO:botocore.credentials:Found credentials in environment variables.\n",
      "INFO:botocore.credentials:Found credentials in environment variables.\n",
      "INFO:botocore.credentials:Found credentials in environment variables.\n",
      "INFO:botocore.credentials:Found credentials in environment variables.\n",
      "INFO:botocore.credentials:Found credentials in environment variables.\n",
      "INFO:botocore.credentials:Found credentials in environment variables.\n",
      "INFO:botocore.credentials:Found credentials in environment variables.\n",
      "INFO:botocore.credentials:Found credentials in environment variables.\n",
      "INFO:botocore.credentials:Found credentials in environment variables.\n",
      "INFO:botocore.credentials:Found credentials in environment variables.\n",
      "INFO:botocore.credentials:Found credentials in environment variables.\n",
      "INFO:botocore.credentials:Found credentials in environment variables.\n",
      "INFO:botocore.credentials:Found credentials in environment variables.\n",
      "INFO:botocore.credentials:Found credentials in environment variables.\n",
      "INFO:botocore.credentials:Found credentials in environment variables.\n",
      "INFO:botocore.credentials:Found credentials in environment variables.\n",
      "INFO:botocore.credentials:Found credentials in environment variables.\n",
      "INFO:botocore.credentials:Found credentials in environment variables.\n",
      "INFO:botocore.credentials:Found credentials in environment variables.\n",
      "INFO:botocore.credentials:Found credentials in environment variables.\n",
      "INFO:botocore.credentials:Found credentials in environment variables.\n",
      "INFO:botocore.credentials:Found credentials in environment variables.\n",
      "INFO:botocore.credentials:Found credentials in environment variables.\n",
      "INFO:botocore.credentials:Found credentials in environment variables.\n",
      "INFO:botocore.credentials:Found credentials in environment variables.\n",
      "INFO:botocore.credentials:Found credentials in environment variables.\n",
      "INFO:botocore.credentials:Found credentials in environment variables.\n",
      "INFO:botocore.credentials:Found credentials in environment variables.\n",
      "INFO:botocore.credentials:Found credentials in environment variables.\n",
      "INFO:botocore.credentials:Found credentials in environment variables.\n",
      "INFO:botocore.credentials:Found credentials in environment variables.\n",
      "INFO:botocore.credentials:Found credentials in environment variables.\n",
      "INFO:botocore.credentials:Found credentials in environment variables.\n",
      "INFO:botocore.credentials:Found credentials in environment variables.\n",
      "INFO:botocore.credentials:Found credentials in environment variables.\n",
      "INFO:botocore.credentials:Found credentials in environment variables.\n",
      "INFO:botocore.credentials:Found credentials in environment variables.\n",
      "INFO:botocore.credentials:Found credentials in environment variables.\n",
      "INFO:botocore.credentials:Found credentials in environment variables.\n",
      "INFO:botocore.credentials:Found credentials in environment variables.\n",
      "INFO:botocore.credentials:Found credentials in environment variables.\n",
      "INFO:botocore.credentials:Found credentials in environment variables.\n",
      "INFO:botocore.credentials:Found credentials in environment variables.\n",
      "INFO:botocore.credentials:Found credentials in environment variables.\n",
      "INFO:botocore.credentials:Found credentials in environment variables.\n",
      "INFO:botocore.credentials:Found credentials in environment variables.\n",
      "INFO:botocore.credentials:Found credentials in environment variables.\n",
      "INFO:botocore.credentials:Found credentials in environment variables.\n",
      "INFO:botocore.credentials:Found credentials in environment variables.\n",
      "INFO:botocore.credentials:Found credentials in environment variables.\n",
      "INFO:botocore.credentials:Found credentials in environment variables.\n",
      "INFO:botocore.credentials:Found credentials in environment variables.\n",
      "INFO:botocore.credentials:Found credentials in environment variables.\n",
      "INFO:botocore.credentials:Found credentials in environment variables.\n",
      "INFO:botocore.credentials:Found credentials in environment variables.\n",
      "INFO:botocore.credentials:Found credentials in environment variables.\n",
      "INFO:botocore.credentials:Found credentials in environment variables.\n",
      "INFO:botocore.credentials:Found credentials in environment variables.\n",
      "INFO:botocore.credentials:Found credentials in environment variables.\n",
      "INFO:botocore.credentials:Found credentials in environment variables.\n",
      "INFO:botocore.credentials:Found credentials in environment variables.\n",
      "INFO:botocore.credentials:Found credentials in environment variables.\n",
      "INFO:botocore.credentials:Found credentials in environment variables.\n",
      "INFO:botocore.credentials:Found credentials in environment variables.\n",
      "INFO:botocore.credentials:Found credentials in environment variables.\n",
      "INFO:botocore.credentials:Found credentials in environment variables.\n",
      "INFO:botocore.credentials:Found credentials in environment variables.\n",
      "INFO:botocore.credentials:Found credentials in environment variables.\n",
      "INFO:botocore.credentials:Found credentials in environment variables.\n",
      "INFO:botocore.credentials:Found credentials in environment variables.\n",
      "INFO:botocore.credentials:Found credentials in environment variables.\n",
      "INFO:botocore.credentials:Found credentials in environment variables.\n",
      "INFO:botocore.credentials:Found credentials in environment variables.\n",
      "INFO:botocore.credentials:Found credentials in environment variables.\n",
      "INFO:botocore.credentials:Found credentials in environment variables.\n",
      "INFO:botocore.credentials:Found credentials in environment variables.\n",
      "INFO:botocore.credentials:Found credentials in environment variables.\n",
      "INFO:botocore.credentials:Found credentials in environment variables.\n",
      "INFO:botocore.credentials:Found credentials in environment variables.\n",
      "INFO:botocore.credentials:Found credentials in environment variables.\n",
      "INFO:botocore.credentials:Found credentials in environment variables.\n",
      "INFO:botocore.credentials:Found credentials in environment variables.\n",
      "INFO:botocore.credentials:Found credentials in environment variables.\n",
      "INFO:botocore.credentials:Found credentials in environment variables.\n",
      "INFO:botocore.credentials:Found credentials in environment variables.\n",
      "INFO:botocore.credentials:Found credentials in environment variables.\n",
      "INFO:botocore.credentials:Found credentials in environment variables.\n",
      "INFO:botocore.credentials:Found credentials in environment variables.\n",
      "INFO:botocore.credentials:Found credentials in environment variables.\n",
      "INFO:botocore.credentials:Found credentials in environment variables.\n",
      "INFO:botocore.credentials:Found credentials in environment variables.\n",
      "INFO:botocore.credentials:Found credentials in environment variables.\n",
      "INFO:botocore.credentials:Found credentials in environment variables.\n",
      "INFO:botocore.credentials:Found credentials in environment variables.\n",
      "INFO:botocore.credentials:Found credentials in environment variables.\n",
      "INFO:botocore.credentials:Found credentials in environment variables.\n",
      "INFO:botocore.credentials:Found credentials in environment variables.\n",
      "INFO:botocore.credentials:Found credentials in environment variables.\n",
      "INFO:botocore.credentials:Found credentials in environment variables.\n",
      "INFO:botocore.credentials:Found credentials in environment variables.\n",
      "INFO:botocore.credentials:Found credentials in environment variables.\n",
      "INFO:botocore.credentials:Found credentials in environment variables.\n",
      "INFO:botocore.credentials:Found credentials in environment variables.\n",
      "INFO:botocore.credentials:Found credentials in environment variables.\n",
      "INFO:botocore.credentials:Found credentials in environment variables.\n",
      "INFO:botocore.credentials:Found credentials in environment variables.\n",
      "INFO:botocore.credentials:Found credentials in environment variables.\n",
      "INFO:botocore.credentials:Found credentials in environment variables.\n",
      "INFO:botocore.credentials:Found credentials in environment variables.\n",
      "INFO:botocore.credentials:Found credentials in environment variables.\n",
      "INFO:botocore.credentials:Found credentials in environment variables.\n",
      "INFO:botocore.credentials:Found credentials in environment variables.\n",
      "INFO:botocore.credentials:Found credentials in environment variables.\n",
      "INFO:botocore.credentials:Found credentials in environment variables.\n",
      "INFO:botocore.credentials:Found credentials in environment variables.\n",
      "INFO:botocore.credentials:Found credentials in environment variables.\n",
      "INFO:botocore.credentials:Found credentials in environment variables.\n",
      "INFO:botocore.credentials:Found credentials in environment variables.\n",
      "INFO:botocore.credentials:Found credentials in environment variables.\n",
      "INFO:botocore.credentials:Found credentials in environment variables.\n",
      "INFO:botocore.credentials:Found credentials in environment variables.\n",
      "INFO:botocore.credentials:Found credentials in environment variables.\n",
      "INFO:botocore.credentials:Found credentials in environment variables.\n",
      "INFO:botocore.credentials:Found credentials in environment variables.\n",
      "INFO:botocore.credentials:Found credentials in environment variables.\n",
      "INFO:botocore.credentials:Found credentials in environment variables.\n",
      "INFO:botocore.credentials:Found credentials in environment variables.\n",
      "INFO:botocore.credentials:Found credentials in environment variables.\n",
      "INFO:botocore.credentials:Found credentials in environment variables.\n",
      "INFO:botocore.credentials:Found credentials in environment variables.\n",
      "INFO:botocore.credentials:Found credentials in environment variables.\n",
      "INFO:botocore.credentials:Found credentials in environment variables.\n",
      "INFO:botocore.credentials:Found credentials in environment variables.\n",
      "INFO:botocore.credentials:Found credentials in environment variables.\n",
      "INFO:botocore.credentials:Found credentials in environment variables.\n",
      "INFO:botocore.credentials:Found credentials in environment variables.\n",
      "INFO:botocore.credentials:Found credentials in environment variables.\n",
      "INFO:botocore.credentials:Found credentials in environment variables.\n",
      "INFO:botocore.credentials:Found credentials in environment variables.\n",
      "INFO:botocore.credentials:Found credentials in environment variables.\n",
      "INFO:botocore.credentials:Found credentials in environment variables.\n",
      "INFO:botocore.credentials:Found credentials in environment variables.\n",
      "INFO:botocore.credentials:Found credentials in environment variables.\n",
      "INFO:botocore.credentials:Found credentials in environment variables.\n",
      "INFO:botocore.credentials:Found credentials in environment variables.\n",
      "INFO:botocore.credentials:Found credentials in environment variables.\n",
      "INFO:botocore.credentials:Found credentials in environment variables.\n",
      "INFO:botocore.credentials:Found credentials in environment variables.\n",
      "INFO:botocore.credentials:Found credentials in environment variables.\n",
      "INFO:botocore.credentials:Found credentials in environment variables.\n",
      "INFO:botocore.credentials:Found credentials in environment variables.\n",
      "INFO:botocore.credentials:Found credentials in environment variables.\n",
      "INFO:botocore.credentials:Found credentials in environment variables.\n",
      "INFO:botocore.credentials:Found credentials in environment variables.\n",
      "INFO:botocore.credentials:Found credentials in environment variables.\n",
      "INFO:botocore.credentials:Found credentials in environment variables.\n",
      "INFO:botocore.credentials:Found credentials in environment variables.\n",
      "INFO:botocore.credentials:Found credentials in environment variables.\n",
      "INFO:botocore.credentials:Found credentials in environment variables.\n",
      "INFO:botocore.credentials:Found credentials in environment variables.\n",
      "INFO:botocore.credentials:Found credentials in environment variables.\n",
      "INFO:botocore.credentials:Found credentials in environment variables.\n",
      "INFO:botocore.credentials:Found credentials in environment variables.\n",
      "INFO:botocore.credentials:Found credentials in environment variables.\n",
      "INFO:botocore.credentials:Found credentials in environment variables.\n",
      "INFO:botocore.credentials:Found credentials in environment variables.\n",
      "INFO:botocore.credentials:Found credentials in environment variables.\n",
      "INFO:botocore.credentials:Found credentials in environment variables.\n",
      "INFO:botocore.credentials:Found credentials in environment variables.\n",
      "INFO:botocore.credentials:Found credentials in environment variables.\n",
      "INFO:botocore.credentials:Found credentials in environment variables.\n",
      "INFO:botocore.credentials:Found credentials in environment variables.\n",
      "INFO:botocore.credentials:Found credentials in environment variables.\n",
      "INFO:botocore.credentials:Found credentials in environment variables.\n",
      "INFO:botocore.credentials:Found credentials in environment variables.\n",
      "INFO:botocore.credentials:Found credentials in environment variables.\n",
      "INFO:botocore.credentials:Found credentials in environment variables.\n",
      "INFO:botocore.credentials:Found credentials in environment variables.\n",
      "INFO:botocore.credentials:Found credentials in environment variables.\n",
      "INFO:botocore.credentials:Found credentials in environment variables.\n",
      "INFO:botocore.credentials:Found credentials in environment variables.\n",
      "INFO:botocore.credentials:Found credentials in environment variables.\n",
      "INFO:botocore.credentials:Found credentials in environment variables.\n",
      "INFO:botocore.credentials:Found credentials in environment variables.\n",
      "INFO:botocore.credentials:Found credentials in environment variables.\n",
      "INFO:botocore.credentials:Found credentials in environment variables.\n",
      "INFO:botocore.credentials:Found credentials in environment variables.\n",
      "INFO:botocore.credentials:Found credentials in environment variables.\n",
      "INFO:botocore.credentials:Found credentials in environment variables.\n",
      "INFO:botocore.credentials:Found credentials in environment variables.\n",
      "INFO:botocore.credentials:Found credentials in environment variables.\n",
      "INFO:botocore.credentials:Found credentials in environment variables.\n",
      "INFO:botocore.credentials:Found credentials in environment variables.\n",
      "INFO:botocore.credentials:Found credentials in environment variables.\n",
      "INFO:botocore.credentials:Found credentials in environment variables.\n",
      "INFO:botocore.credentials:Found credentials in environment variables.\n",
      "INFO:botocore.credentials:Found credentials in environment variables.\n",
      "INFO:botocore.credentials:Found credentials in environment variables.\n",
      "INFO:botocore.credentials:Found credentials in environment variables.\n",
      "INFO:botocore.credentials:Found credentials in environment variables.\n",
      "INFO:botocore.credentials:Found credentials in environment variables.\n",
      "INFO:botocore.credentials:Found credentials in environment variables.\n",
      "INFO:botocore.credentials:Found credentials in environment variables.\n",
      "INFO:botocore.credentials:Found credentials in environment variables.\n",
      "INFO:botocore.credentials:Found credentials in environment variables.\n",
      "INFO:botocore.credentials:Found credentials in environment variables.\n",
      "INFO:botocore.credentials:Found credentials in environment variables.\n",
      "INFO:botocore.credentials:Found credentials in environment variables.\n",
      "INFO:botocore.credentials:Found credentials in environment variables.\n",
      "INFO:botocore.credentials:Found credentials in environment variables.\n",
      "INFO:botocore.credentials:Found credentials in environment variables.\n",
      "INFO:botocore.credentials:Found credentials in environment variables.\n",
      "INFO:botocore.credentials:Found credentials in environment variables.\n",
      "INFO:botocore.credentials:Found credentials in environment variables.\n",
      "INFO:botocore.credentials:Found credentials in environment variables.\n",
      "INFO:botocore.credentials:Found credentials in environment variables.\n",
      "INFO:botocore.credentials:Found credentials in environment variables.\n",
      "INFO:botocore.credentials:Found credentials in environment variables.\n",
      "INFO:botocore.credentials:Found credentials in environment variables.\n",
      "INFO:botocore.credentials:Found credentials in environment variables.\n",
      "INFO:botocore.credentials:Found credentials in environment variables.\n",
      "INFO:botocore.credentials:Found credentials in environment variables.\n",
      "INFO:botocore.credentials:Found credentials in environment variables.\n",
      "INFO:botocore.credentials:Found credentials in environment variables.\n",
      "INFO:botocore.credentials:Found credentials in environment variables.\n",
      "INFO:botocore.credentials:Found credentials in environment variables.\n",
      "INFO:botocore.credentials:Found credentials in environment variables.\n",
      "INFO:botocore.credentials:Found credentials in environment variables.\n",
      "INFO:botocore.credentials:Found credentials in environment variables.\n",
      "INFO:botocore.credentials:Found credentials in environment variables.\n",
      "INFO:botocore.credentials:Found credentials in environment variables.\n",
      "INFO:botocore.credentials:Found credentials in environment variables.\n",
      "INFO:botocore.credentials:Found credentials in environment variables.\n",
      "INFO:botocore.credentials:Found credentials in environment variables.\n",
      "INFO:botocore.credentials:Found credentials in environment variables.\n",
      "INFO:botocore.credentials:Found credentials in environment variables.\n",
      "INFO:botocore.credentials:Found credentials in environment variables.\n",
      "INFO:botocore.credentials:Found credentials in environment variables.\n",
      "INFO:botocore.credentials:Found credentials in environment variables.\n",
      "INFO:botocore.credentials:Found credentials in environment variables.\n",
      "INFO:botocore.credentials:Found credentials in environment variables.\n",
      "INFO:botocore.credentials:Found credentials in environment variables.\n",
      "INFO:botocore.credentials:Found credentials in environment variables.\n",
      "INFO:botocore.credentials:Found credentials in environment variables.\n",
      "INFO:botocore.credentials:Found credentials in environment variables.\n",
      "INFO:botocore.credentials:Found credentials in environment variables.\n",
      "INFO:botocore.credentials:Found credentials in environment variables.\n",
      "INFO:botocore.credentials:Found credentials in environment variables.\n",
      "INFO:botocore.credentials:Found credentials in environment variables.\n",
      "INFO:botocore.credentials:Found credentials in environment variables.\n",
      "INFO:botocore.credentials:Found credentials in environment variables.\n",
      "INFO:botocore.credentials:Found credentials in environment variables.\n",
      "INFO:botocore.credentials:Found credentials in environment variables.\n",
      "INFO:botocore.credentials:Found credentials in environment variables.\n",
      "INFO:botocore.credentials:Found credentials in environment variables.\n",
      "INFO:botocore.credentials:Found credentials in environment variables.\n",
      "INFO:botocore.credentials:Found credentials in environment variables.\n",
      "INFO:botocore.credentials:Found credentials in environment variables.\n",
      "INFO:botocore.credentials:Found credentials in environment variables.\n",
      "INFO:botocore.credentials:Found credentials in environment variables.\n",
      "INFO:botocore.credentials:Found credentials in environment variables.\n",
      "INFO:botocore.credentials:Found credentials in environment variables.\n",
      "INFO:botocore.credentials:Found credentials in environment variables.\n",
      "INFO:botocore.credentials:Found credentials in environment variables.\n",
      "INFO:botocore.credentials:Found credentials in environment variables.\n",
      "INFO:botocore.credentials:Found credentials in environment variables.\n",
      "INFO:botocore.credentials:Found credentials in environment variables.\n",
      "INFO:botocore.credentials:Found credentials in environment variables.\n",
      "INFO:botocore.credentials:Found credentials in environment variables.\n",
      "INFO:botocore.credentials:Found credentials in environment variables.\n",
      "INFO:botocore.credentials:Found credentials in environment variables.\n",
      "INFO:botocore.credentials:Found credentials in environment variables.\n",
      "INFO:botocore.credentials:Found credentials in environment variables.\n",
      "INFO:botocore.credentials:Found credentials in environment variables.\n",
      "INFO:botocore.credentials:Found credentials in environment variables.\n",
      "INFO:botocore.credentials:Found credentials in environment variables.\n",
      "INFO:botocore.credentials:Found credentials in environment variables.\n",
      "INFO:botocore.credentials:Found credentials in environment variables.\n",
      "INFO:botocore.credentials:Found credentials in environment variables.\n",
      "INFO:botocore.credentials:Found credentials in environment variables.\n",
      "INFO:botocore.credentials:Found credentials in environment variables.\n",
      "INFO:botocore.credentials:Found credentials in environment variables.\n",
      "INFO:botocore.credentials:Found credentials in environment variables.\n",
      "INFO:botocore.credentials:Found credentials in environment variables.\n",
      "INFO:botocore.credentials:Found credentials in environment variables.\n",
      "INFO:botocore.credentials:Found credentials in environment variables.\n",
      "INFO:botocore.credentials:Found credentials in environment variables.\n",
      "INFO:botocore.credentials:Found credentials in environment variables.\n",
      "INFO:botocore.credentials:Found credentials in environment variables.\n",
      "INFO:botocore.credentials:Found credentials in environment variables.\n",
      "INFO:botocore.credentials:Found credentials in environment variables.\n",
      "INFO:botocore.credentials:Found credentials in environment variables.\n",
      "INFO:botocore.credentials:Found credentials in environment variables.\n",
      "INFO:botocore.credentials:Found credentials in environment variables.\n",
      "INFO:botocore.credentials:Found credentials in environment variables.\n",
      "INFO:botocore.credentials:Found credentials in environment variables.\n",
      "INFO:botocore.credentials:Found credentials in environment variables.\n",
      "INFO:botocore.credentials:Found credentials in environment variables.\n",
      "INFO:botocore.credentials:Found credentials in environment variables.\n",
      "INFO:botocore.credentials:Found credentials in environment variables.\n",
      "INFO:botocore.credentials:Found credentials in environment variables.\n",
      "INFO:botocore.credentials:Found credentials in environment variables.\n",
      "INFO:botocore.credentials:Found credentials in environment variables.\n",
      "INFO:botocore.credentials:Found credentials in environment variables.\n",
      "INFO:botocore.credentials:Found credentials in environment variables.\n",
      "INFO:botocore.credentials:Found credentials in environment variables.\n",
      "INFO:botocore.credentials:Found credentials in environment variables.\n",
      "INFO:botocore.credentials:Found credentials in environment variables.\n",
      "INFO:botocore.credentials:Found credentials in environment variables.\n",
      "INFO:botocore.credentials:Found credentials in environment variables.\n",
      "INFO:botocore.credentials:Found credentials in environment variables.\n",
      "INFO:botocore.credentials:Found credentials in environment variables.\n",
      "INFO:botocore.credentials:Found credentials in environment variables.\n",
      "INFO:botocore.credentials:Found credentials in environment variables.\n",
      "INFO:botocore.credentials:Found credentials in environment variables.\n",
      "INFO:botocore.credentials:Found credentials in environment variables.\n",
      "INFO:botocore.credentials:Found credentials in environment variables.\n",
      "INFO:botocore.credentials:Found credentials in environment variables.\n",
      "INFO:botocore.credentials:Found credentials in environment variables.\n",
      "INFO:botocore.credentials:Found credentials in environment variables.\n",
      "INFO:botocore.credentials:Found credentials in environment variables.\n",
      "INFO:botocore.credentials:Found credentials in environment variables.\n",
      "INFO:botocore.credentials:Found credentials in environment variables.\n",
      "INFO:botocore.credentials:Found credentials in environment variables.\n",
      "INFO:botocore.credentials:Found credentials in environment variables.\n",
      "INFO:botocore.credentials:Found credentials in environment variables.\n",
      "INFO:botocore.credentials:Found credentials in environment variables.\n",
      "INFO:botocore.credentials:Found credentials in environment variables.\n",
      "INFO:botocore.credentials:Found credentials in environment variables.\n",
      "INFO:botocore.credentials:Found credentials in environment variables.\n",
      "INFO:botocore.credentials:Found credentials in environment variables.\n",
      "INFO:botocore.credentials:Found credentials in environment variables.\n",
      "INFO:botocore.credentials:Found credentials in environment variables.\n",
      "INFO:botocore.credentials:Found credentials in environment variables.\n",
      "INFO:botocore.credentials:Found credentials in environment variables.\n",
      "INFO:botocore.credentials:Found credentials in environment variables.\n",
      "INFO:botocore.credentials:Found credentials in environment variables.\n",
      "INFO:botocore.credentials:Found credentials in environment variables.\n",
      "INFO:botocore.credentials:Found credentials in environment variables.\n",
      "INFO:botocore.credentials:Found credentials in environment variables.\n",
      "INFO:botocore.credentials:Found credentials in environment variables.\n",
      "INFO:botocore.credentials:Found credentials in environment variables.\n",
      "INFO:botocore.credentials:Found credentials in environment variables.\n",
      "INFO:botocore.credentials:Found credentials in environment variables.\n",
      "INFO:botocore.credentials:Found credentials in environment variables.\n",
      "INFO:botocore.credentials:Found credentials in environment variables.\n",
      "INFO:botocore.credentials:Found credentials in environment variables.\n",
      "INFO:botocore.credentials:Found credentials in environment variables.\n",
      "INFO:botocore.credentials:Found credentials in environment variables.\n",
      "INFO:botocore.credentials:Found credentials in environment variables.\n",
      "INFO:botocore.credentials:Found credentials in environment variables.\n",
      "INFO:botocore.credentials:Found credentials in environment variables.\n",
      "INFO:botocore.credentials:Found credentials in environment variables.\n",
      "INFO:botocore.credentials:Found credentials in environment variables.\n",
      "INFO:botocore.credentials:Found credentials in environment variables.\n",
      "INFO:botocore.credentials:Found credentials in environment variables.\n",
      "INFO:botocore.credentials:Found credentials in environment variables.\n",
      "INFO:botocore.credentials:Found credentials in environment variables.\n",
      "INFO:botocore.credentials:Found credentials in environment variables.\n",
      "INFO:botocore.credentials:Found credentials in environment variables.\n",
      "INFO:botocore.credentials:Found credentials in environment variables.\n",
      "INFO:botocore.credentials:Found credentials in environment variables.\n",
      "INFO:botocore.credentials:Found credentials in environment variables.\n",
      "INFO:botocore.credentials:Found credentials in environment variables.\n",
      "INFO:botocore.credentials:Found credentials in environment variables.\n",
      "INFO:botocore.credentials:Found credentials in environment variables.\n",
      "INFO:botocore.credentials:Found credentials in environment variables.\n",
      "INFO:botocore.credentials:Found credentials in environment variables.\n",
      "INFO:botocore.credentials:Found credentials in environment variables.\n",
      "INFO:botocore.credentials:Found credentials in environment variables.\n",
      "INFO:botocore.credentials:Found credentials in environment variables.\n",
      "INFO:botocore.credentials:Found credentials in environment variables.\n",
      "INFO:botocore.credentials:Found credentials in environment variables.\n",
      "INFO:botocore.credentials:Found credentials in environment variables.\n",
      "INFO:botocore.credentials:Found credentials in environment variables.\n",
      "INFO:botocore.credentials:Found credentials in environment variables.\n",
      "INFO:botocore.credentials:Found credentials in environment variables.\n",
      "INFO:botocore.credentials:Found credentials in environment variables.\n",
      "INFO:botocore.credentials:Found credentials in environment variables.\n",
      "INFO:botocore.credentials:Found credentials in environment variables.\n",
      "INFO:botocore.credentials:Found credentials in environment variables.\n",
      "INFO:botocore.credentials:Found credentials in environment variables.\n",
      "INFO:botocore.credentials:Found credentials in environment variables.\n",
      "INFO:botocore.credentials:Found credentials in environment variables.\n",
      "INFO:botocore.credentials:Found credentials in environment variables.\n",
      "INFO:botocore.credentials:Found credentials in environment variables.\n",
      "INFO:botocore.credentials:Found credentials in environment variables.\n",
      "INFO:botocore.credentials:Found credentials in environment variables.\n",
      "INFO:botocore.credentials:Found credentials in environment variables.\n",
      "INFO:botocore.credentials:Found credentials in environment variables.\n",
      "INFO:botocore.credentials:Found credentials in environment variables.\n",
      "INFO:botocore.credentials:Found credentials in environment variables.\n",
      "INFO:botocore.credentials:Found credentials in environment variables.\n",
      "INFO:botocore.credentials:Found credentials in environment variables.\n",
      "INFO:botocore.credentials:Found credentials in environment variables.\n",
      "INFO:botocore.credentials:Found credentials in environment variables.\n",
      "INFO:botocore.credentials:Found credentials in environment variables.\n",
      "INFO:botocore.credentials:Found credentials in environment variables.\n",
      "INFO:botocore.credentials:Found credentials in environment variables.\n",
      "INFO:botocore.credentials:Found credentials in environment variables.\n",
      "INFO:botocore.credentials:Found credentials in environment variables.\n",
      "INFO:botocore.credentials:Found credentials in environment variables.\n",
      "INFO:botocore.credentials:Found credentials in environment variables.\n",
      "INFO:botocore.credentials:Found credentials in environment variables.\n",
      "INFO:botocore.credentials:Found credentials in environment variables.\n",
      "INFO:botocore.credentials:Found credentials in environment variables.\n",
      "INFO:botocore.credentials:Found credentials in environment variables.\n",
      "INFO:botocore.credentials:Found credentials in environment variables.\n",
      "INFO:botocore.credentials:Found credentials in environment variables.\n",
      "INFO:botocore.credentials:Found credentials in environment variables.\n",
      "INFO:botocore.credentials:Found credentials in environment variables.\n",
      "INFO:botocore.credentials:Found credentials in environment variables.\n",
      "INFO:botocore.credentials:Found credentials in environment variables.\n",
      "INFO:botocore.credentials:Found credentials in environment variables.\n",
      "INFO:botocore.credentials:Found credentials in environment variables.\n",
      "INFO:botocore.credentials:Found credentials in environment variables.\n",
      "INFO:botocore.credentials:Found credentials in environment variables.\n",
      "INFO:botocore.credentials:Found credentials in environment variables.\n",
      "INFO:botocore.credentials:Found credentials in environment variables.\n",
      "INFO:botocore.credentials:Found credentials in environment variables.\n",
      "INFO:botocore.credentials:Found credentials in environment variables.\n",
      "INFO:botocore.credentials:Found credentials in environment variables.\n",
      "INFO:botocore.credentials:Found credentials in environment variables.\n",
      "INFO:botocore.credentials:Found credentials in environment variables.\n",
      "INFO:botocore.credentials:Found credentials in environment variables.\n",
      "INFO:botocore.credentials:Found credentials in environment variables.\n",
      "INFO:botocore.credentials:Found credentials in environment variables.\n",
      "INFO:botocore.credentials:Found credentials in environment variables.\n",
      "INFO:botocore.credentials:Found credentials in environment variables.\n",
      "INFO:botocore.credentials:Found credentials in environment variables.\n",
      "INFO:botocore.credentials:Found credentials in environment variables.\n",
      "INFO:botocore.credentials:Found credentials in environment variables.\n",
      "INFO:botocore.credentials:Found credentials in environment variables.\n",
      "INFO:botocore.credentials:Found credentials in environment variables.\n",
      "INFO:botocore.credentials:Found credentials in environment variables.\n",
      "INFO:botocore.credentials:Found credentials in environment variables.\n",
      "INFO:botocore.credentials:Found credentials in environment variables.\n",
      "INFO:botocore.credentials:Found credentials in environment variables.\n",
      "INFO:botocore.credentials:Found credentials in environment variables.\n",
      "INFO:botocore.credentials:Found credentials in environment variables.\n",
      "INFO:botocore.credentials:Found credentials in environment variables.\n",
      "INFO:botocore.credentials:Found credentials in environment variables.\n",
      "INFO:botocore.credentials:Found credentials in environment variables.\n",
      "INFO:botocore.credentials:Found credentials in environment variables.\n",
      "INFO:botocore.credentials:Found credentials in environment variables.\n",
      "INFO:botocore.credentials:Found credentials in environment variables.\n",
      "INFO:botocore.credentials:Found credentials in environment variables.\n",
      "INFO:botocore.credentials:Found credentials in environment variables.\n",
      "INFO:botocore.credentials:Found credentials in environment variables.\n",
      "INFO:botocore.credentials:Found credentials in environment variables.\n",
      "INFO:botocore.credentials:Found credentials in environment variables.\n",
      "INFO:botocore.credentials:Found credentials in environment variables.\n",
      "INFO:botocore.credentials:Found credentials in environment variables.\n",
      "INFO:botocore.credentials:Found credentials in environment variables.\n",
      "INFO:botocore.credentials:Found credentials in environment variables.\n",
      "INFO:botocore.credentials:Found credentials in environment variables.\n",
      "INFO:botocore.credentials:Found credentials in environment variables.\n",
      "INFO:botocore.credentials:Found credentials in environment variables.\n",
      "INFO:botocore.credentials:Found credentials in environment variables.\n",
      "INFO:botocore.credentials:Found credentials in environment variables.\n",
      "INFO:botocore.credentials:Found credentials in environment variables.\n",
      "INFO:botocore.credentials:Found credentials in environment variables.\n",
      "INFO:botocore.credentials:Found credentials in environment variables.\n",
      "INFO:botocore.credentials:Found credentials in environment variables.\n",
      "INFO:botocore.credentials:Found credentials in environment variables.\n",
      "INFO:botocore.credentials:Found credentials in environment variables.\n",
      "INFO:botocore.credentials:Found credentials in environment variables.\n",
      "INFO:botocore.credentials:Found credentials in environment variables.\n",
      "INFO:botocore.credentials:Found credentials in environment variables.\n",
      "INFO:botocore.credentials:Found credentials in environment variables.\n",
      "INFO:botocore.credentials:Found credentials in environment variables.\n",
      "INFO:botocore.credentials:Found credentials in environment variables.\n",
      "INFO:botocore.credentials:Found credentials in environment variables.\n",
      "INFO:botocore.credentials:Found credentials in environment variables.\n",
      "INFO:botocore.credentials:Found credentials in environment variables.\n",
      "INFO:botocore.credentials:Found credentials in environment variables.\n",
      "INFO:botocore.credentials:Found credentials in environment variables.\n",
      "INFO:botocore.credentials:Found credentials in environment variables.\n",
      "INFO:botocore.credentials:Found credentials in environment variables.\n",
      "INFO:botocore.credentials:Found credentials in environment variables.\n",
      "INFO:botocore.credentials:Found credentials in environment variables.\n",
      "INFO:botocore.credentials:Found credentials in environment variables.\n",
      "INFO:botocore.credentials:Found credentials in environment variables.\n",
      "INFO:botocore.credentials:Found credentials in environment variables.\n",
      "INFO:botocore.credentials:Found credentials in environment variables.\n",
      "INFO:botocore.credentials:Found credentials in environment variables.\n",
      "INFO:botocore.credentials:Found credentials in environment variables.\n",
      "INFO:botocore.credentials:Found credentials in environment variables.\n",
      "INFO:botocore.credentials:Found credentials in environment variables.\n",
      "INFO:botocore.credentials:Found credentials in environment variables.\n",
      "INFO:botocore.credentials:Found credentials in environment variables.\n",
      "INFO:botocore.credentials:Found credentials in environment variables.\n",
      "INFO:botocore.credentials:Found credentials in environment variables.\n",
      "INFO:botocore.credentials:Found credentials in environment variables.\n",
      "INFO:botocore.credentials:Found credentials in environment variables.\n",
      "INFO:botocore.credentials:Found credentials in environment variables.\n",
      "INFO:botocore.credentials:Found credentials in environment variables.\n",
      "INFO:botocore.credentials:Found credentials in environment variables.\n",
      "INFO:botocore.credentials:Found credentials in environment variables.\n",
      "INFO:botocore.credentials:Found credentials in environment variables.\n",
      "INFO:botocore.credentials:Found credentials in environment variables.\n",
      "INFO:botocore.credentials:Found credentials in environment variables.\n",
      "INFO:botocore.credentials:Found credentials in environment variables.\n",
      "INFO:botocore.credentials:Found credentials in environment variables.\n",
      "INFO:botocore.credentials:Found credentials in environment variables.\n",
      "INFO:botocore.credentials:Found credentials in environment variables.\n",
      "INFO:botocore.credentials:Found credentials in environment variables.\n",
      "INFO:botocore.credentials:Found credentials in environment variables.\n",
      "INFO:botocore.credentials:Found credentials in environment variables.\n",
      "INFO:botocore.credentials:Found credentials in environment variables.\n",
      "INFO:botocore.credentials:Found credentials in environment variables.\n",
      "INFO:botocore.credentials:Found credentials in environment variables.\n",
      "INFO:botocore.credentials:Found credentials in environment variables.\n",
      "INFO:botocore.credentials:Found credentials in environment variables.\n",
      "INFO:botocore.credentials:Found credentials in environment variables.\n",
      "INFO:botocore.credentials:Found credentials in environment variables.\n",
      "INFO:botocore.credentials:Found credentials in environment variables.\n",
      "INFO:botocore.credentials:Found credentials in environment variables.\n",
      "  0%|          | 0/12 [3:28:46<?, ?it/s]\n",
      "  0%|          | 0/4 [3:28:47<?, ?it/s]\n",
      "  0%|          | 0/1 [3:28:47<?, ?it/s]\n"
     ]
    },
    {
     "ename": "KeyboardInterrupt",
     "evalue": "",
     "output_type": "error",
     "traceback": [
      "\u001b[0;31m---------------------------------------------------------------------------\u001b[0m",
      "\u001b[0;31mKeyboardInterrupt\u001b[0m                         Traceback (most recent call last)",
      "Cell \u001b[0;32mIn[4], line 8\u001b[0m\n\u001b[1;32m      5\u001b[0m dict_path \u001b[38;5;241m=\u001b[39m \u001b[38;5;124m\"\u001b[39m\u001b[38;5;124m../data/processed/datasets_dict.json\u001b[39m\u001b[38;5;124m\"\u001b[39m\n\u001b[1;32m      7\u001b[0m layer_processing \u001b[38;5;241m=\u001b[39m LayerProcessing(datasets, datasets_list, dict_path)\n\u001b[0;32m----> 8\u001b[0m \u001b[43mlayer_processing\u001b[49m\u001b[38;5;241;43m.\u001b[39;49m\u001b[43mcreate_layers\u001b[49m\u001b[43m(\u001b[49m\u001b[43m)\u001b[49m\n",
      "File \u001b[0;32m~/Vizzuality/Proiektuak/wims-south-sudan/data-processing/notebooks/../src/datasets/processing.py:79\u001b[0m, in \u001b[0;36mLayerProcessing.create_layers\u001b[0;34m(self)\u001b[0m\n\u001b[1;32m     77\u001b[0m file_name \u001b[38;5;241m=\u001b[39m \u001b[38;5;28mself\u001b[39m\u001b[38;5;241m.\u001b[39m_generate_file_name(dataset_name, layer_name)\n\u001b[1;32m     78\u001b[0m \u001b[38;5;66;03m# Process the layer and save it\u001b[39;00m\n\u001b[0;32m---> 79\u001b[0m \u001b[43mlayer\u001b[49m\u001b[38;5;241;43m.\u001b[39;49m\u001b[43mprocess_data\u001b[49m\u001b[43m(\u001b[49m\u001b[43mfile_name\u001b[49m\u001b[43m)\u001b[49m\n\u001b[1;32m     80\u001b[0m \u001b[38;5;66;03m# Update and save the datasets dictionary\u001b[39;00m\n\u001b[1;32m     81\u001b[0m \u001b[38;5;28mself\u001b[39m\u001b[38;5;241m.\u001b[39m_save_datasets_dict(dataset_name, layer_name, file_name)\n",
      "File \u001b[0;32m~/Vizzuality/Proiektuak/wims-south-sudan/data-processing/notebooks/../src/datasets/datasets.py:133\u001b[0m, in \u001b[0;36mLayer.process_data\u001b[0;34m(self, file_name)\u001b[0m\n\u001b[1;32m    131\u001b[0m \u001b[38;5;28;01melif\u001b[39;00m \u001b[38;5;28mself\u001b[39m\u001b[38;5;241m.\u001b[39mtype \u001b[38;5;241m==\u001b[39m \u001b[38;5;124m\"\u001b[39m\u001b[38;5;124mraster\u001b[39m\u001b[38;5;124m\"\u001b[39m \u001b[38;5;129;01mand\u001b[39;00m \u001b[38;5;28mself\u001b[39m\u001b[38;5;241m.\u001b[39mformat \u001b[38;5;241m==\u001b[39m \u001b[38;5;124m\"\u001b[39m\u001b[38;5;124mZarr\u001b[39m\u001b[38;5;124m\"\u001b[39m:\n\u001b[1;32m    132\u001b[0m     data \u001b[38;5;241m=\u001b[39m \u001b[38;5;28mself\u001b[39m\u001b[38;5;241m.\u001b[39mget_data()\n\u001b[0;32m--> 133\u001b[0m     \u001b[38;5;28;43mself\u001b[39;49m\u001b[38;5;241;43m.\u001b[39;49m\u001b[43m_layer\u001b[49m\u001b[38;5;241;43m.\u001b[39;49m\u001b[43mprocess\u001b[49m\u001b[43m(\u001b[49m\u001b[43mdata\u001b[49m\u001b[43m,\u001b[49m\u001b[43m \u001b[49m\u001b[38;5;28;43mself\u001b[39;49m\u001b[38;5;241;43m.\u001b[39;49m\u001b[43mstyles\u001b[49m\u001b[43m,\u001b[49m\u001b[43m \u001b[49m\u001b[43mfile_name\u001b[49m\u001b[43m)\u001b[49m\n\u001b[1;32m    134\u001b[0m \u001b[38;5;28;01melse\u001b[39;00m:\n\u001b[1;32m    135\u001b[0m     data \u001b[38;5;241m=\u001b[39m \u001b[38;5;28mself\u001b[39m\u001b[38;5;241m.\u001b[39mget_data()\n",
      "File \u001b[0;32m~/Vizzuality/Proiektuak/wims-south-sudan/data-processing/notebooks/../src/datasets/factory/rasters.py:72\u001b[0m, in \u001b[0;36mZarrRasterLayer.process\u001b[0;34m(self, data, styles, file_name)\u001b[0m\n\u001b[1;32m     62\u001b[0m \u001b[38;5;66;03m# Convert xarray to Animated Tiles\u001b[39;00m\n\u001b[1;32m     63\u001b[0m animater_tiles \u001b[38;5;241m=\u001b[39m AnimatedTiles(\n\u001b[1;32m     64\u001b[0m     da,\n\u001b[1;32m     65\u001b[0m     output_folder,\n\u001b[0;32m   (...)\u001b[0m\n\u001b[1;32m     70\u001b[0m     vmax\u001b[38;5;241m=\u001b[39mstyles\u001b[38;5;241m.\u001b[39mget(\u001b[38;5;124m\"\u001b[39m\u001b[38;5;124mvmax\u001b[39m\u001b[38;5;124m\"\u001b[39m),\n\u001b[1;32m     71\u001b[0m )\n\u001b[0;32m---> 72\u001b[0m \u001b[43manimater_tiles\u001b[49m\u001b[38;5;241;43m.\u001b[39;49m\u001b[43mcreate\u001b[49m\u001b[43m(\u001b[49m\u001b[43mtime_coord\u001b[49m\u001b[38;5;241;43m=\u001b[39;49m\u001b[43mstyles\u001b[49m\u001b[38;5;241;43m.\u001b[39;49m\u001b[43mget\u001b[49m\u001b[43m(\u001b[49m\u001b[38;5;124;43m\"\u001b[39;49m\u001b[38;5;124;43mtime_coord\u001b[39;49m\u001b[38;5;124;43m\"\u001b[39;49m\u001b[43m)\u001b[49m\u001b[43m)\u001b[49m\n",
      "File \u001b[0;32m~/Vizzuality/Proiektuak/wims-south-sudan/data-processing/notebooks/../src/animations/animated_tiles.py:67\u001b[0m, in \u001b[0;36mAnimatedTiles.create\u001b[0;34m(self, time_coord)\u001b[0m\n\u001b[1;32m     65\u001b[0m     \u001b[38;5;28mself\u001b[39m\u001b[38;5;241m.\u001b[39mengine_instance\u001b[38;5;241m.\u001b[39mgenerate_tiles()\n\u001b[1;32m     66\u001b[0m \u001b[38;5;28;01melif\u001b[39;00m \u001b[38;5;28mself\u001b[39m\u001b[38;5;241m.\u001b[39mengine \u001b[38;5;241m==\u001b[39m \u001b[38;5;124m\"\u001b[39m\u001b[38;5;124mxarray\u001b[39m\u001b[38;5;124m\"\u001b[39m:\n\u001b[0;32m---> 67\u001b[0m     \u001b[38;5;28;43mself\u001b[39;49m\u001b[38;5;241;43m.\u001b[39;49m\u001b[43mengine_instance\u001b[49m\u001b[38;5;241;43m.\u001b[39;49m\u001b[43mgenerate_tiles\u001b[49m\u001b[43m(\u001b[49m\u001b[43mtime_coord\u001b[49m\u001b[43m)\u001b[49m\n\u001b[1;32m     68\u001b[0m \u001b[38;5;28mprint\u001b[39m(\u001b[38;5;124m\"\u001b[39m\u001b[38;5;124mCreating APNGs\u001b[39m\u001b[38;5;124m\"\u001b[39m)\n\u001b[1;32m     69\u001b[0m create_apngs(\u001b[38;5;28mself\u001b[39m\u001b[38;5;241m.\u001b[39mengine_instance\u001b[38;5;241m.\u001b[39moutput_folder)\n",
      "File \u001b[0;32m~/Vizzuality/Proiektuak/wims-south-sudan/data-processing/notebooks/../src/animations/animated_tiles.py:303\u001b[0m, in \u001b[0;36mXArrayEngine.generate_tiles\u001b[0;34m(self, time_coord)\u001b[0m\n\u001b[1;32m    301\u001b[0m \u001b[38;5;28mself\u001b[39m\u001b[38;5;241m.\u001b[39mda \u001b[38;5;241m=\u001b[39m \u001b[38;5;28mself\u001b[39m\u001b[38;5;241m.\u001b[39mdata\u001b[38;5;241m.\u001b[39misel({time_coord: \u001b[38;5;28mself\u001b[39m\u001b[38;5;241m.\u001b[39mn})\n\u001b[1;32m    302\u001b[0m \u001b[38;5;28;01mfor\u001b[39;00m tile \u001b[38;5;129;01min\u001b[39;00m tiles:\n\u001b[0;32m--> 303\u001b[0m     \u001b[38;5;28;43mself\u001b[39;49m\u001b[38;5;241;43m.\u001b[39;49m\u001b[43m_create_tile\u001b[49m\u001b[43m(\u001b[49m\n\u001b[1;32m    304\u001b[0m \u001b[43m        \u001b[49m\u001b[43mtile\u001b[49m\u001b[43m,\u001b[49m\n\u001b[1;32m    305\u001b[0m \u001b[43m        \u001b[49m\u001b[43mda\u001b[49m\u001b[38;5;241;43m=\u001b[39;49m\u001b[38;5;28;43mself\u001b[39;49m\u001b[38;5;241;43m.\u001b[39;49m\u001b[43mda\u001b[49m\u001b[43m,\u001b[49m\n\u001b[1;32m    306\u001b[0m \u001b[43m        \u001b[49m\u001b[43mn\u001b[49m\u001b[38;5;241;43m=\u001b[39;49m\u001b[38;5;28;43mself\u001b[39;49m\u001b[38;5;241;43m.\u001b[39;49m\u001b[43mn\u001b[49m\u001b[43m,\u001b[49m\n\u001b[1;32m    307\u001b[0m \u001b[43m        \u001b[49m\u001b[43mcolormap\u001b[49m\u001b[38;5;241;43m=\u001b[39;49m\u001b[38;5;28;43mself\u001b[39;49m\u001b[38;5;241;43m.\u001b[39;49m\u001b[43mcolor_map\u001b[49m\u001b[43m,\u001b[49m\n\u001b[1;32m    308\u001b[0m \u001b[43m    \u001b[49m\u001b[43m)\u001b[49m\n\u001b[1;32m    309\u001b[0m \u001b[38;5;66;03m# Using ThreadPoolExecutor to parallelize the process\u001b[39;00m\n\u001b[1;32m    310\u001b[0m \u001b[38;5;28;01mwith\u001b[39;00m ThreadPoolExecutor() \u001b[38;5;28;01mas\u001b[39;00m executor:\n",
      "File \u001b[0;32m~/Vizzuality/Proiektuak/wims-south-sudan/data-processing/notebooks/../src/animations/animated_tiles.py:259\u001b[0m, in \u001b[0;36mXArrayEngine._create_tile\u001b[0;34m(self, tile, da, n, colormap)\u001b[0m\n\u001b[1;32m    256\u001b[0m \u001b[38;5;28;01mtry\u001b[39;00m:\n\u001b[1;32m    257\u001b[0m     \u001b[38;5;28;01mwith\u001b[39;00m XarrayReader(da) \u001b[38;5;28;01mas\u001b[39;00m dst:\n\u001b[1;32m    258\u001b[0m         \u001b[38;5;66;03m# Get the tile data and mask\u001b[39;00m\n\u001b[0;32m--> 259\u001b[0m         img \u001b[38;5;241m=\u001b[39m \u001b[43mdst\u001b[49m\u001b[38;5;241;43m.\u001b[39;49m\u001b[43mtile\u001b[49m\u001b[43m(\u001b[49m\u001b[43mtile\u001b[49m\u001b[38;5;241;43m.\u001b[39;49m\u001b[43mx\u001b[49m\u001b[43m,\u001b[49m\u001b[43m \u001b[49m\u001b[43mtile\u001b[49m\u001b[38;5;241;43m.\u001b[39;49m\u001b[43my\u001b[49m\u001b[43m,\u001b[49m\u001b[43m \u001b[49m\u001b[43mtile\u001b[49m\u001b[38;5;241;43m.\u001b[39;49m\u001b[43mz\u001b[49m\u001b[43m,\u001b[49m\u001b[43m \u001b[49m\u001b[43mtilesize\u001b[49m\u001b[38;5;241;43m=\u001b[39;49m\u001b[38;5;28;43mself\u001b[39;49m\u001b[38;5;241;43m.\u001b[39;49m\u001b[43mTILE_SIZE\u001b[49m\u001b[43m)\u001b[49m\n\u001b[1;32m    260\u001b[0m         \u001b[38;5;66;03m# Convert the data to an image\u001b[39;00m\n\u001b[1;32m    261\u001b[0m         \u001b[38;5;66;03m# Rescale the data linearly from 0-10000 to 0-255\u001b[39;00m\n\u001b[1;32m    262\u001b[0m         img\u001b[38;5;241m.\u001b[39mrescale(in_range\u001b[38;5;241m=\u001b[39m((\u001b[38;5;28mself\u001b[39m\u001b[38;5;241m.\u001b[39mvmin, \u001b[38;5;28mself\u001b[39m\u001b[38;5;241m.\u001b[39mvmax),), out_range\u001b[38;5;241m=\u001b[39m((\u001b[38;5;241m0\u001b[39m, \u001b[38;5;241m255\u001b[39m),))\n",
      "File \u001b[0;32m~/mambaforge/envs/south_sudan_pilot_gmv/lib/python3.12/site-packages/rio_tiler/io/xarray.py:272\u001b[0m, in \u001b[0;36mXarrayReader.tile\u001b[0;34m(self, tile_x, tile_y, tile_z, tilesize, resampling_method, reproject_method, auto_expand, nodata)\u001b[0m\n\u001b[1;32m    266\u001b[0m \u001b[38;5;66;03m# Create source array by clipping the xarray dataset to extent of the tile.\u001b[39;00m\n\u001b[1;32m    267\u001b[0m ds \u001b[38;5;241m=\u001b[39m ds\u001b[38;5;241m.\u001b[39mrio\u001b[38;5;241m.\u001b[39mclip_box(\n\u001b[1;32m    268\u001b[0m     \u001b[38;5;241m*\u001b[39mtile_bounds,\n\u001b[1;32m    269\u001b[0m     crs\u001b[38;5;241m=\u001b[39mdst_crs,\n\u001b[1;32m    270\u001b[0m     auto_expand\u001b[38;5;241m=\u001b[39mauto_expand,\n\u001b[1;32m    271\u001b[0m )\n\u001b[0;32m--> 272\u001b[0m ds \u001b[38;5;241m=\u001b[39m \u001b[43mds\u001b[49m\u001b[38;5;241;43m.\u001b[39;49m\u001b[43mrio\u001b[49m\u001b[38;5;241;43m.\u001b[39;49m\u001b[43mreproject\u001b[49m\u001b[43m(\u001b[49m\n\u001b[1;32m    273\u001b[0m \u001b[43m    \u001b[49m\u001b[43mdst_crs\u001b[49m\u001b[43m,\u001b[49m\n\u001b[1;32m    274\u001b[0m \u001b[43m    \u001b[49m\u001b[43mshape\u001b[49m\u001b[38;5;241;43m=\u001b[39;49m\u001b[43m(\u001b[49m\u001b[43mtilesize\u001b[49m\u001b[43m,\u001b[49m\u001b[43m \u001b[49m\u001b[43mtilesize\u001b[49m\u001b[43m)\u001b[49m\u001b[43m,\u001b[49m\n\u001b[1;32m    275\u001b[0m \u001b[43m    \u001b[49m\u001b[43mtransform\u001b[49m\u001b[38;5;241;43m=\u001b[39;49m\u001b[43mfrom_bounds\u001b[49m\u001b[43m(\u001b[49m\u001b[38;5;241;43m*\u001b[39;49m\u001b[43mtile_bounds\u001b[49m\u001b[43m,\u001b[49m\u001b[43m \u001b[49m\u001b[43mheight\u001b[49m\u001b[38;5;241;43m=\u001b[39;49m\u001b[43mtilesize\u001b[49m\u001b[43m,\u001b[49m\u001b[43m \u001b[49m\u001b[43mwidth\u001b[49m\u001b[38;5;241;43m=\u001b[39;49m\u001b[43mtilesize\u001b[49m\u001b[43m)\u001b[49m\u001b[43m,\u001b[49m\n\u001b[1;32m    276\u001b[0m \u001b[43m    \u001b[49m\u001b[43mresampling\u001b[49m\u001b[38;5;241;43m=\u001b[39;49m\u001b[43mResampling\u001b[49m\u001b[43m[\u001b[49m\u001b[43mreproject_method\u001b[49m\u001b[43m]\u001b[49m\u001b[43m,\u001b[49m\n\u001b[1;32m    277\u001b[0m \u001b[43m    \u001b[49m\u001b[43mnodata\u001b[49m\u001b[38;5;241;43m=\u001b[39;49m\u001b[43mnodata\u001b[49m\u001b[43m,\u001b[49m\n\u001b[1;32m    278\u001b[0m \u001b[43m\u001b[49m\u001b[43m)\u001b[49m\n\u001b[1;32m    280\u001b[0m \u001b[38;5;66;03m# Forward valid_min/valid_max to the ImageData object\u001b[39;00m\n\u001b[1;32m    281\u001b[0m minv, maxv \u001b[38;5;241m=\u001b[39m ds\u001b[38;5;241m.\u001b[39mattrs\u001b[38;5;241m.\u001b[39mget(\u001b[38;5;124m\"\u001b[39m\u001b[38;5;124mvalid_min\u001b[39m\u001b[38;5;124m\"\u001b[39m), ds\u001b[38;5;241m.\u001b[39mattrs\u001b[38;5;241m.\u001b[39mget(\u001b[38;5;124m\"\u001b[39m\u001b[38;5;124mvalid_max\u001b[39m\u001b[38;5;124m\"\u001b[39m)\n",
      "File \u001b[0;32m~/mambaforge/envs/south_sudan_pilot_gmv/lib/python3.12/site-packages/rioxarray/raster_array.py:459\u001b[0m, in \u001b[0;36mRasterArray.reproject\u001b[0;34m(self, dst_crs, resolution, shape, transform, resampling, nodata, **kwargs)\u001b[0m\n\u001b[1;32m    454\u001b[0m dst_data \u001b[38;5;241m=\u001b[39m \u001b[38;5;28mself\u001b[39m\u001b[38;5;241m.\u001b[39m_create_dst_data(dst_height, dst_width)\n\u001b[1;32m    456\u001b[0m dst_nodata \u001b[38;5;241m=\u001b[39m \u001b[38;5;28mself\u001b[39m\u001b[38;5;241m.\u001b[39m_get_dst_nodata(nodata)\n\u001b[1;32m    458\u001b[0m rasterio\u001b[38;5;241m.\u001b[39mwarp\u001b[38;5;241m.\u001b[39mreproject(\n\u001b[0;32m--> 459\u001b[0m     source\u001b[38;5;241m=\u001b[39m\u001b[38;5;28;43mself\u001b[39;49m\u001b[38;5;241;43m.\u001b[39;49m\u001b[43m_obj\u001b[49m\u001b[38;5;241;43m.\u001b[39;49m\u001b[43mvalues\u001b[49m,\n\u001b[1;32m    460\u001b[0m     destination\u001b[38;5;241m=\u001b[39mdst_data,\n\u001b[1;32m    461\u001b[0m     src_transform\u001b[38;5;241m=\u001b[39msrc_affine,\n\u001b[1;32m    462\u001b[0m     src_crs\u001b[38;5;241m=\u001b[39m\u001b[38;5;28mself\u001b[39m\u001b[38;5;241m.\u001b[39mcrs,\n\u001b[1;32m    463\u001b[0m     src_nodata\u001b[38;5;241m=\u001b[39m\u001b[38;5;28mself\u001b[39m\u001b[38;5;241m.\u001b[39mnodata,\n\u001b[1;32m    464\u001b[0m     dst_transform\u001b[38;5;241m=\u001b[39mdst_affine,\n\u001b[1;32m    465\u001b[0m     dst_crs\u001b[38;5;241m=\u001b[39mdst_crs,\n\u001b[1;32m    466\u001b[0m     dst_nodata\u001b[38;5;241m=\u001b[39mdst_nodata,\n\u001b[1;32m    467\u001b[0m     resampling\u001b[38;5;241m=\u001b[39mresampling,\n\u001b[1;32m    468\u001b[0m     \u001b[38;5;241m*\u001b[39m\u001b[38;5;241m*\u001b[39mkwargs,\n\u001b[1;32m    469\u001b[0m )\n\u001b[1;32m    470\u001b[0m \u001b[38;5;66;03m# add necessary attributes\u001b[39;00m\n\u001b[1;32m    471\u001b[0m new_attrs \u001b[38;5;241m=\u001b[39m _generate_attrs(\u001b[38;5;28mself\u001b[39m\u001b[38;5;241m.\u001b[39m_obj, dst_nodata)\n",
      "File \u001b[0;32m~/mambaforge/envs/south_sudan_pilot_gmv/lib/python3.12/site-packages/xarray/core/dataarray.py:801\u001b[0m, in \u001b[0;36mDataArray.values\u001b[0;34m(self)\u001b[0m\n\u001b[1;32m    788\u001b[0m \u001b[38;5;129m@property\u001b[39m\n\u001b[1;32m    789\u001b[0m \u001b[38;5;28;01mdef\u001b[39;00m \u001b[38;5;21mvalues\u001b[39m(\u001b[38;5;28mself\u001b[39m) \u001b[38;5;241m-\u001b[39m\u001b[38;5;241m>\u001b[39m np\u001b[38;5;241m.\u001b[39mndarray:\n\u001b[1;32m    790\u001b[0m \u001b[38;5;250m    \u001b[39m\u001b[38;5;124;03m\"\"\"\u001b[39;00m\n\u001b[1;32m    791\u001b[0m \u001b[38;5;124;03m    The array's data converted to numpy.ndarray.\u001b[39;00m\n\u001b[1;32m    792\u001b[0m \n\u001b[0;32m   (...)\u001b[0m\n\u001b[1;32m    799\u001b[0m \u001b[38;5;124;03m    to this array may be reflected in the DataArray as well.\u001b[39;00m\n\u001b[1;32m    800\u001b[0m \u001b[38;5;124;03m    \"\"\"\u001b[39;00m\n\u001b[0;32m--> 801\u001b[0m     \u001b[38;5;28;01mreturn\u001b[39;00m \u001b[38;5;28;43mself\u001b[39;49m\u001b[38;5;241;43m.\u001b[39;49m\u001b[43mvariable\u001b[49m\u001b[38;5;241;43m.\u001b[39;49m\u001b[43mvalues\u001b[49m\n",
      "File \u001b[0;32m~/mambaforge/envs/south_sudan_pilot_gmv/lib/python3.12/site-packages/xarray/core/variable.py:541\u001b[0m, in \u001b[0;36mVariable.values\u001b[0;34m(self)\u001b[0m\n\u001b[1;32m    538\u001b[0m \u001b[38;5;129m@property\u001b[39m\n\u001b[1;32m    539\u001b[0m \u001b[38;5;28;01mdef\u001b[39;00m \u001b[38;5;21mvalues\u001b[39m(\u001b[38;5;28mself\u001b[39m):\n\u001b[1;32m    540\u001b[0m \u001b[38;5;250m    \u001b[39m\u001b[38;5;124;03m\"\"\"The variable's data as a numpy.ndarray\"\"\"\u001b[39;00m\n\u001b[0;32m--> 541\u001b[0m     \u001b[38;5;28;01mreturn\u001b[39;00m \u001b[43m_as_array_or_item\u001b[49m\u001b[43m(\u001b[49m\u001b[38;5;28;43mself\u001b[39;49m\u001b[38;5;241;43m.\u001b[39;49m\u001b[43m_data\u001b[49m\u001b[43m)\u001b[49m\n",
      "File \u001b[0;32m~/mambaforge/envs/south_sudan_pilot_gmv/lib/python3.12/site-packages/xarray/core/variable.py:339\u001b[0m, in \u001b[0;36m_as_array_or_item\u001b[0;34m(data)\u001b[0m\n\u001b[1;32m    325\u001b[0m \u001b[38;5;28;01mdef\u001b[39;00m \u001b[38;5;21m_as_array_or_item\u001b[39m(data):\n\u001b[1;32m    326\u001b[0m \u001b[38;5;250m    \u001b[39m\u001b[38;5;124;03m\"\"\"Return the given values as a numpy array, or as an individual item if\u001b[39;00m\n\u001b[1;32m    327\u001b[0m \u001b[38;5;124;03m    it's a 0d datetime64 or timedelta64 array.\u001b[39;00m\n\u001b[1;32m    328\u001b[0m \n\u001b[0;32m   (...)\u001b[0m\n\u001b[1;32m    337\u001b[0m \u001b[38;5;124;03m    TODO: remove this (replace with np.asarray) once these issues are fixed\u001b[39;00m\n\u001b[1;32m    338\u001b[0m \u001b[38;5;124;03m    \"\"\"\u001b[39;00m\n\u001b[0;32m--> 339\u001b[0m     data \u001b[38;5;241m=\u001b[39m \u001b[43mnp\u001b[49m\u001b[38;5;241;43m.\u001b[39;49m\u001b[43masarray\u001b[49m\u001b[43m(\u001b[49m\u001b[43mdata\u001b[49m\u001b[43m)\u001b[49m\n\u001b[1;32m    340\u001b[0m     \u001b[38;5;28;01mif\u001b[39;00m data\u001b[38;5;241m.\u001b[39mndim \u001b[38;5;241m==\u001b[39m \u001b[38;5;241m0\u001b[39m:\n\u001b[1;32m    341\u001b[0m         \u001b[38;5;28;01mif\u001b[39;00m data\u001b[38;5;241m.\u001b[39mdtype\u001b[38;5;241m.\u001b[39mkind \u001b[38;5;241m==\u001b[39m \u001b[38;5;124m\"\u001b[39m\u001b[38;5;124mM\u001b[39m\u001b[38;5;124m\"\u001b[39m:\n",
      "File \u001b[0;32m~/mambaforge/envs/south_sudan_pilot_gmv/lib/python3.12/site-packages/xarray/core/indexing.py:834\u001b[0m, in \u001b[0;36mMemoryCachedArray.__array__\u001b[0;34m(self, dtype)\u001b[0m\n\u001b[1;32m    833\u001b[0m \u001b[38;5;28;01mdef\u001b[39;00m \u001b[38;5;21m__array__\u001b[39m(\u001b[38;5;28mself\u001b[39m, dtype: np\u001b[38;5;241m.\u001b[39mtyping\u001b[38;5;241m.\u001b[39mDTypeLike \u001b[38;5;241m=\u001b[39m \u001b[38;5;28;01mNone\u001b[39;00m) \u001b[38;5;241m-\u001b[39m\u001b[38;5;241m>\u001b[39m np\u001b[38;5;241m.\u001b[39mndarray:\n\u001b[0;32m--> 834\u001b[0m     \u001b[38;5;28;01mreturn\u001b[39;00m np\u001b[38;5;241m.\u001b[39masarray(\u001b[38;5;28;43mself\u001b[39;49m\u001b[38;5;241;43m.\u001b[39;49m\u001b[43mget_duck_array\u001b[49m\u001b[43m(\u001b[49m\u001b[43m)\u001b[49m, dtype\u001b[38;5;241m=\u001b[39mdtype)\n",
      "File \u001b[0;32m~/mambaforge/envs/south_sudan_pilot_gmv/lib/python3.12/site-packages/xarray/core/indexing.py:837\u001b[0m, in \u001b[0;36mMemoryCachedArray.get_duck_array\u001b[0;34m(self)\u001b[0m\n\u001b[1;32m    836\u001b[0m \u001b[38;5;28;01mdef\u001b[39;00m \u001b[38;5;21mget_duck_array\u001b[39m(\u001b[38;5;28mself\u001b[39m):\n\u001b[0;32m--> 837\u001b[0m     \u001b[38;5;28;43mself\u001b[39;49m\u001b[38;5;241;43m.\u001b[39;49m\u001b[43m_ensure_cached\u001b[49m\u001b[43m(\u001b[49m\u001b[43m)\u001b[49m\n\u001b[1;32m    838\u001b[0m     \u001b[38;5;28;01mreturn\u001b[39;00m \u001b[38;5;28mself\u001b[39m\u001b[38;5;241m.\u001b[39marray\u001b[38;5;241m.\u001b[39mget_duck_array()\n",
      "File \u001b[0;32m~/mambaforge/envs/south_sudan_pilot_gmv/lib/python3.12/site-packages/xarray/core/indexing.py:831\u001b[0m, in \u001b[0;36mMemoryCachedArray._ensure_cached\u001b[0;34m(self)\u001b[0m\n\u001b[1;32m    830\u001b[0m \u001b[38;5;28;01mdef\u001b[39;00m \u001b[38;5;21m_ensure_cached\u001b[39m(\u001b[38;5;28mself\u001b[39m):\n\u001b[0;32m--> 831\u001b[0m     \u001b[38;5;28mself\u001b[39m\u001b[38;5;241m.\u001b[39marray \u001b[38;5;241m=\u001b[39m as_indexable(\u001b[38;5;28;43mself\u001b[39;49m\u001b[38;5;241;43m.\u001b[39;49m\u001b[43marray\u001b[49m\u001b[38;5;241;43m.\u001b[39;49m\u001b[43mget_duck_array\u001b[49m\u001b[43m(\u001b[49m\u001b[43m)\u001b[49m)\n",
      "File \u001b[0;32m~/mambaforge/envs/south_sudan_pilot_gmv/lib/python3.12/site-packages/xarray/core/indexing.py:788\u001b[0m, in \u001b[0;36mCopyOnWriteArray.get_duck_array\u001b[0;34m(self)\u001b[0m\n\u001b[1;32m    787\u001b[0m \u001b[38;5;28;01mdef\u001b[39;00m \u001b[38;5;21mget_duck_array\u001b[39m(\u001b[38;5;28mself\u001b[39m):\n\u001b[0;32m--> 788\u001b[0m     \u001b[38;5;28;01mreturn\u001b[39;00m \u001b[38;5;28;43mself\u001b[39;49m\u001b[38;5;241;43m.\u001b[39;49m\u001b[43marray\u001b[49m\u001b[38;5;241;43m.\u001b[39;49m\u001b[43mget_duck_array\u001b[49m\u001b[43m(\u001b[49m\u001b[43m)\u001b[49m\n",
      "File \u001b[0;32m~/mambaforge/envs/south_sudan_pilot_gmv/lib/python3.12/site-packages/xarray/core/indexing.py:658\u001b[0m, in \u001b[0;36mLazilyIndexedArray.get_duck_array\u001b[0;34m(self)\u001b[0m\n\u001b[1;32m    653\u001b[0m \u001b[38;5;66;03m# self.array[self.key] is now a numpy array when\u001b[39;00m\n\u001b[1;32m    654\u001b[0m \u001b[38;5;66;03m# self.array is a BackendArray subclass\u001b[39;00m\n\u001b[1;32m    655\u001b[0m \u001b[38;5;66;03m# and self.key is BasicIndexer((slice(None, None, None),))\u001b[39;00m\n\u001b[1;32m    656\u001b[0m \u001b[38;5;66;03m# so we need the explicit check for ExplicitlyIndexed\u001b[39;00m\n\u001b[1;32m    657\u001b[0m \u001b[38;5;28;01mif\u001b[39;00m \u001b[38;5;28misinstance\u001b[39m(array, ExplicitlyIndexed):\n\u001b[0;32m--> 658\u001b[0m     array \u001b[38;5;241m=\u001b[39m \u001b[43marray\u001b[49m\u001b[38;5;241;43m.\u001b[39;49m\u001b[43mget_duck_array\u001b[49m\u001b[43m(\u001b[49m\u001b[43m)\u001b[49m\n\u001b[1;32m    659\u001b[0m \u001b[38;5;28;01mreturn\u001b[39;00m _wrap_numpy_scalars(array)\n",
      "File \u001b[0;32m~/mambaforge/envs/south_sudan_pilot_gmv/lib/python3.12/site-packages/xarray/coding/variables.py:81\u001b[0m, in \u001b[0;36m_ElementwiseFunctionArray.get_duck_array\u001b[0;34m(self)\u001b[0m\n\u001b[1;32m     80\u001b[0m \u001b[38;5;28;01mdef\u001b[39;00m \u001b[38;5;21mget_duck_array\u001b[39m(\u001b[38;5;28mself\u001b[39m):\n\u001b[0;32m---> 81\u001b[0m     \u001b[38;5;28;01mreturn\u001b[39;00m \u001b[38;5;28mself\u001b[39m\u001b[38;5;241m.\u001b[39mfunc(\u001b[38;5;28;43mself\u001b[39;49m\u001b[38;5;241;43m.\u001b[39;49m\u001b[43marray\u001b[49m\u001b[38;5;241;43m.\u001b[39;49m\u001b[43mget_duck_array\u001b[49m\u001b[43m(\u001b[49m\u001b[43m)\u001b[49m)\n",
      "File \u001b[0;32m~/mambaforge/envs/south_sudan_pilot_gmv/lib/python3.12/site-packages/xarray/coding/variables.py:81\u001b[0m, in \u001b[0;36m_ElementwiseFunctionArray.get_duck_array\u001b[0;34m(self)\u001b[0m\n\u001b[1;32m     80\u001b[0m \u001b[38;5;28;01mdef\u001b[39;00m \u001b[38;5;21mget_duck_array\u001b[39m(\u001b[38;5;28mself\u001b[39m):\n\u001b[0;32m---> 81\u001b[0m     \u001b[38;5;28;01mreturn\u001b[39;00m \u001b[38;5;28mself\u001b[39m\u001b[38;5;241m.\u001b[39mfunc(\u001b[38;5;28;43mself\u001b[39;49m\u001b[38;5;241;43m.\u001b[39;49m\u001b[43marray\u001b[49m\u001b[38;5;241;43m.\u001b[39;49m\u001b[43mget_duck_array\u001b[49m\u001b[43m(\u001b[49m\u001b[43m)\u001b[49m)\n",
      "File \u001b[0;32m~/mambaforge/envs/south_sudan_pilot_gmv/lib/python3.12/site-packages/xarray/core/indexing.py:651\u001b[0m, in \u001b[0;36mLazilyIndexedArray.get_duck_array\u001b[0;34m(self)\u001b[0m\n\u001b[1;32m    647\u001b[0m     array \u001b[38;5;241m=\u001b[39m apply_indexer(\u001b[38;5;28mself\u001b[39m\u001b[38;5;241m.\u001b[39marray, \u001b[38;5;28mself\u001b[39m\u001b[38;5;241m.\u001b[39mkey)\n\u001b[1;32m    648\u001b[0m \u001b[38;5;28;01melse\u001b[39;00m:\n\u001b[1;32m    649\u001b[0m     \u001b[38;5;66;03m# If the array is not an ExplicitlyIndexedNDArrayMixin,\u001b[39;00m\n\u001b[1;32m    650\u001b[0m     \u001b[38;5;66;03m# it may wrap a BackendArray so use its __getitem__\u001b[39;00m\n\u001b[0;32m--> 651\u001b[0m     array \u001b[38;5;241m=\u001b[39m \u001b[38;5;28;43mself\u001b[39;49m\u001b[38;5;241;43m.\u001b[39;49m\u001b[43marray\u001b[49m\u001b[43m[\u001b[49m\u001b[38;5;28;43mself\u001b[39;49m\u001b[38;5;241;43m.\u001b[39;49m\u001b[43mkey\u001b[49m\u001b[43m]\u001b[49m\n\u001b[1;32m    653\u001b[0m \u001b[38;5;66;03m# self.array[self.key] is now a numpy array when\u001b[39;00m\n\u001b[1;32m    654\u001b[0m \u001b[38;5;66;03m# self.array is a BackendArray subclass\u001b[39;00m\n\u001b[1;32m    655\u001b[0m \u001b[38;5;66;03m# and self.key is BasicIndexer((slice(None, None, None),))\u001b[39;00m\n\u001b[1;32m    656\u001b[0m \u001b[38;5;66;03m# so we need the explicit check for ExplicitlyIndexed\u001b[39;00m\n\u001b[1;32m    657\u001b[0m \u001b[38;5;28;01mif\u001b[39;00m \u001b[38;5;28misinstance\u001b[39m(array, ExplicitlyIndexed):\n",
      "File \u001b[0;32m~/mambaforge/envs/south_sudan_pilot_gmv/lib/python3.12/site-packages/xarray/backends/zarr.py:104\u001b[0m, in \u001b[0;36mZarrArrayWrapper.__getitem__\u001b[0;34m(self, key)\u001b[0m\n\u001b[1;32m    102\u001b[0m \u001b[38;5;28;01melif\u001b[39;00m \u001b[38;5;28misinstance\u001b[39m(key, indexing\u001b[38;5;241m.\u001b[39mOuterIndexer):\n\u001b[1;32m    103\u001b[0m     method \u001b[38;5;241m=\u001b[39m \u001b[38;5;28mself\u001b[39m\u001b[38;5;241m.\u001b[39m_oindex\n\u001b[0;32m--> 104\u001b[0m \u001b[38;5;28;01mreturn\u001b[39;00m \u001b[43mindexing\u001b[49m\u001b[38;5;241;43m.\u001b[39;49m\u001b[43mexplicit_indexing_adapter\u001b[49m\u001b[43m(\u001b[49m\n\u001b[1;32m    105\u001b[0m \u001b[43m    \u001b[49m\u001b[43mkey\u001b[49m\u001b[43m,\u001b[49m\u001b[43m \u001b[49m\u001b[43marray\u001b[49m\u001b[38;5;241;43m.\u001b[39;49m\u001b[43mshape\u001b[49m\u001b[43m,\u001b[49m\u001b[43m \u001b[49m\u001b[43mindexing\u001b[49m\u001b[38;5;241;43m.\u001b[39;49m\u001b[43mIndexingSupport\u001b[49m\u001b[38;5;241;43m.\u001b[39;49m\u001b[43mVECTORIZED\u001b[49m\u001b[43m,\u001b[49m\u001b[43m \u001b[49m\u001b[43mmethod\u001b[49m\n\u001b[1;32m    106\u001b[0m \u001b[43m\u001b[49m\u001b[43m)\u001b[49m\n",
      "File \u001b[0;32m~/mambaforge/envs/south_sudan_pilot_gmv/lib/python3.12/site-packages/xarray/core/indexing.py:1015\u001b[0m, in \u001b[0;36mexplicit_indexing_adapter\u001b[0;34m(key, shape, indexing_support, raw_indexing_method)\u001b[0m\n\u001b[1;32m    993\u001b[0m \u001b[38;5;250m\u001b[39m\u001b[38;5;124;03m\"\"\"Support explicit indexing by delegating to a raw indexing method.\u001b[39;00m\n\u001b[1;32m    994\u001b[0m \n\u001b[1;32m    995\u001b[0m \u001b[38;5;124;03mOuter and/or vectorized indexers are supported by indexing a second time\u001b[39;00m\n\u001b[0;32m   (...)\u001b[0m\n\u001b[1;32m   1012\u001b[0m \u001b[38;5;124;03mIndexing result, in the form of a duck numpy-array.\u001b[39;00m\n\u001b[1;32m   1013\u001b[0m \u001b[38;5;124;03m\"\"\"\u001b[39;00m\n\u001b[1;32m   1014\u001b[0m raw_key, numpy_indices \u001b[38;5;241m=\u001b[39m decompose_indexer(key, shape, indexing_support)\n\u001b[0;32m-> 1015\u001b[0m result \u001b[38;5;241m=\u001b[39m \u001b[43mraw_indexing_method\u001b[49m\u001b[43m(\u001b[49m\u001b[43mraw_key\u001b[49m\u001b[38;5;241;43m.\u001b[39;49m\u001b[43mtuple\u001b[49m\u001b[43m)\u001b[49m\n\u001b[1;32m   1016\u001b[0m \u001b[38;5;28;01mif\u001b[39;00m numpy_indices\u001b[38;5;241m.\u001b[39mtuple:\n\u001b[1;32m   1017\u001b[0m     \u001b[38;5;66;03m# index the loaded np.ndarray\u001b[39;00m\n\u001b[1;32m   1018\u001b[0m     indexable \u001b[38;5;241m=\u001b[39m NumpyIndexingAdapter(result)\n",
      "File \u001b[0;32m~/mambaforge/envs/south_sudan_pilot_gmv/lib/python3.12/site-packages/xarray/backends/zarr.py:94\u001b[0m, in \u001b[0;36mZarrArrayWrapper._getitem\u001b[0;34m(self, key)\u001b[0m\n\u001b[1;32m     93\u001b[0m \u001b[38;5;28;01mdef\u001b[39;00m \u001b[38;5;21m_getitem\u001b[39m(\u001b[38;5;28mself\u001b[39m, key):\n\u001b[0;32m---> 94\u001b[0m     \u001b[38;5;28;01mreturn\u001b[39;00m \u001b[38;5;28;43mself\u001b[39;49m\u001b[38;5;241;43m.\u001b[39;49m\u001b[43m_array\u001b[49m\u001b[43m[\u001b[49m\u001b[43mkey\u001b[49m\u001b[43m]\u001b[49m\n",
      "File \u001b[0;32m~/mambaforge/envs/south_sudan_pilot_gmv/lib/python3.12/site-packages/zarr/core.py:795\u001b[0m, in \u001b[0;36mArray.__getitem__\u001b[0;34m(self, selection)\u001b[0m\n\u001b[1;32m    793\u001b[0m     result \u001b[38;5;241m=\u001b[39m \u001b[38;5;28mself\u001b[39m\u001b[38;5;241m.\u001b[39mvindex[selection]\n\u001b[1;32m    794\u001b[0m \u001b[38;5;28;01melif\u001b[39;00m is_pure_orthogonal_indexing(pure_selection, \u001b[38;5;28mself\u001b[39m\u001b[38;5;241m.\u001b[39mndim):\n\u001b[0;32m--> 795\u001b[0m     result \u001b[38;5;241m=\u001b[39m \u001b[38;5;28;43mself\u001b[39;49m\u001b[38;5;241;43m.\u001b[39;49m\u001b[43mget_orthogonal_selection\u001b[49m\u001b[43m(\u001b[49m\u001b[43mpure_selection\u001b[49m\u001b[43m,\u001b[49m\u001b[43m \u001b[49m\u001b[43mfields\u001b[49m\u001b[38;5;241;43m=\u001b[39;49m\u001b[43mfields\u001b[49m\u001b[43m)\u001b[49m\n\u001b[1;32m    796\u001b[0m \u001b[38;5;28;01melse\u001b[39;00m:\n\u001b[1;32m    797\u001b[0m     result \u001b[38;5;241m=\u001b[39m \u001b[38;5;28mself\u001b[39m\u001b[38;5;241m.\u001b[39mget_basic_selection(pure_selection, fields\u001b[38;5;241m=\u001b[39mfields)\n",
      "File \u001b[0;32m~/mambaforge/envs/south_sudan_pilot_gmv/lib/python3.12/site-packages/zarr/core.py:1077\u001b[0m, in \u001b[0;36mArray.get_orthogonal_selection\u001b[0;34m(self, selection, out, fields)\u001b[0m\n\u001b[1;32m   1074\u001b[0m \u001b[38;5;66;03m# setup indexer\u001b[39;00m\n\u001b[1;32m   1075\u001b[0m indexer \u001b[38;5;241m=\u001b[39m OrthogonalIndexer(selection, \u001b[38;5;28mself\u001b[39m)\n\u001b[0;32m-> 1077\u001b[0m \u001b[38;5;28;01mreturn\u001b[39;00m \u001b[38;5;28;43mself\u001b[39;49m\u001b[38;5;241;43m.\u001b[39;49m\u001b[43m_get_selection\u001b[49m\u001b[43m(\u001b[49m\u001b[43mindexer\u001b[49m\u001b[38;5;241;43m=\u001b[39;49m\u001b[43mindexer\u001b[49m\u001b[43m,\u001b[49m\u001b[43m \u001b[49m\u001b[43mout\u001b[49m\u001b[38;5;241;43m=\u001b[39;49m\u001b[43mout\u001b[49m\u001b[43m,\u001b[49m\u001b[43m \u001b[49m\u001b[43mfields\u001b[49m\u001b[38;5;241;43m=\u001b[39;49m\u001b[43mfields\u001b[49m\u001b[43m)\u001b[49m\n",
      "File \u001b[0;32m~/mambaforge/envs/south_sudan_pilot_gmv/lib/python3.12/site-packages/zarr/core.py:1340\u001b[0m, in \u001b[0;36mArray._get_selection\u001b[0;34m(self, indexer, out, fields)\u001b[0m\n\u001b[1;32m   1337\u001b[0m \u001b[38;5;28;01mif\u001b[39;00m math\u001b[38;5;241m.\u001b[39mprod(out_shape) \u001b[38;5;241m>\u001b[39m \u001b[38;5;241m0\u001b[39m:\n\u001b[1;32m   1338\u001b[0m     \u001b[38;5;66;03m# allow storage to get multiple items at once\u001b[39;00m\n\u001b[1;32m   1339\u001b[0m     lchunk_coords, lchunk_selection, lout_selection \u001b[38;5;241m=\u001b[39m \u001b[38;5;28mzip\u001b[39m(\u001b[38;5;241m*\u001b[39mindexer)\n\u001b[0;32m-> 1340\u001b[0m     \u001b[38;5;28;43mself\u001b[39;49m\u001b[38;5;241;43m.\u001b[39;49m\u001b[43m_chunk_getitems\u001b[49m\u001b[43m(\u001b[49m\n\u001b[1;32m   1341\u001b[0m \u001b[43m        \u001b[49m\u001b[43mlchunk_coords\u001b[49m\u001b[43m,\u001b[49m\n\u001b[1;32m   1342\u001b[0m \u001b[43m        \u001b[49m\u001b[43mlchunk_selection\u001b[49m\u001b[43m,\u001b[49m\n\u001b[1;32m   1343\u001b[0m \u001b[43m        \u001b[49m\u001b[43mout\u001b[49m\u001b[43m,\u001b[49m\n\u001b[1;32m   1344\u001b[0m \u001b[43m        \u001b[49m\u001b[43mlout_selection\u001b[49m\u001b[43m,\u001b[49m\n\u001b[1;32m   1345\u001b[0m \u001b[43m        \u001b[49m\u001b[43mdrop_axes\u001b[49m\u001b[38;5;241;43m=\u001b[39;49m\u001b[43mindexer\u001b[49m\u001b[38;5;241;43m.\u001b[39;49m\u001b[43mdrop_axes\u001b[49m\u001b[43m,\u001b[49m\n\u001b[1;32m   1346\u001b[0m \u001b[43m        \u001b[49m\u001b[43mfields\u001b[49m\u001b[38;5;241;43m=\u001b[39;49m\u001b[43mfields\u001b[49m\u001b[43m,\u001b[49m\n\u001b[1;32m   1347\u001b[0m \u001b[43m    \u001b[49m\u001b[43m)\u001b[49m\n\u001b[1;32m   1348\u001b[0m \u001b[38;5;28;01mif\u001b[39;00m out\u001b[38;5;241m.\u001b[39mshape:\n\u001b[1;32m   1349\u001b[0m     \u001b[38;5;28;01mreturn\u001b[39;00m out\n",
      "File \u001b[0;32m~/mambaforge/envs/south_sudan_pilot_gmv/lib/python3.12/site-packages/zarr/core.py:2181\u001b[0m, in \u001b[0;36mArray._chunk_getitems\u001b[0;34m(self, lchunk_coords, lchunk_selection, out, lout_selection, drop_axes, fields)\u001b[0m\n\u001b[1;32m   2179\u001b[0m     \u001b[38;5;28;01mif\u001b[39;00m \u001b[38;5;129;01mnot\u001b[39;00m \u001b[38;5;28misinstance\u001b[39m(\u001b[38;5;28mself\u001b[39m\u001b[38;5;241m.\u001b[39m_meta_array, np\u001b[38;5;241m.\u001b[39mndarray):\n\u001b[1;32m   2180\u001b[0m         contexts \u001b[38;5;241m=\u001b[39m ConstantMap(ckeys, constant\u001b[38;5;241m=\u001b[39mContext(meta_array\u001b[38;5;241m=\u001b[39m\u001b[38;5;28mself\u001b[39m\u001b[38;5;241m.\u001b[39m_meta_array))\n\u001b[0;32m-> 2181\u001b[0m     cdatas \u001b[38;5;241m=\u001b[39m \u001b[38;5;28;43mself\u001b[39;49m\u001b[38;5;241;43m.\u001b[39;49m\u001b[43mchunk_store\u001b[49m\u001b[38;5;241;43m.\u001b[39;49m\u001b[43mgetitems\u001b[49m\u001b[43m(\u001b[49m\u001b[43mckeys\u001b[49m\u001b[43m,\u001b[49m\u001b[43m \u001b[49m\u001b[43mcontexts\u001b[49m\u001b[38;5;241;43m=\u001b[39;49m\u001b[43mcontexts\u001b[49m\u001b[43m)\u001b[49m\n\u001b[1;32m   2183\u001b[0m \u001b[38;5;28;01mfor\u001b[39;00m ckey, chunk_select, out_select \u001b[38;5;129;01min\u001b[39;00m \u001b[38;5;28mzip\u001b[39m(ckeys, lchunk_selection, lout_selection):\n\u001b[1;32m   2184\u001b[0m     \u001b[38;5;28;01mif\u001b[39;00m ckey \u001b[38;5;129;01min\u001b[39;00m cdatas:\n",
      "File \u001b[0;32m~/mambaforge/envs/south_sudan_pilot_gmv/lib/python3.12/site-packages/zarr/storage.py:1426\u001b[0m, in \u001b[0;36mFSStore.getitems\u001b[0;34m(self, keys, contexts)\u001b[0m\n\u001b[1;32m   1422\u001b[0m \u001b[38;5;28;01mdef\u001b[39;00m \u001b[38;5;21mgetitems\u001b[39m(\n\u001b[1;32m   1423\u001b[0m     \u001b[38;5;28mself\u001b[39m, keys: Sequence[\u001b[38;5;28mstr\u001b[39m], \u001b[38;5;241m*\u001b[39m, contexts: Mapping[\u001b[38;5;28mstr\u001b[39m, Context]\n\u001b[1;32m   1424\u001b[0m ) \u001b[38;5;241m-\u001b[39m\u001b[38;5;241m>\u001b[39m Mapping[\u001b[38;5;28mstr\u001b[39m, Any]:\n\u001b[1;32m   1425\u001b[0m     keys_transformed \u001b[38;5;241m=\u001b[39m {\u001b[38;5;28mself\u001b[39m\u001b[38;5;241m.\u001b[39m_normalize_key(key): key \u001b[38;5;28;01mfor\u001b[39;00m key \u001b[38;5;129;01min\u001b[39;00m keys}\n\u001b[0;32m-> 1426\u001b[0m     results_transformed \u001b[38;5;241m=\u001b[39m \u001b[38;5;28;43mself\u001b[39;49m\u001b[38;5;241;43m.\u001b[39;49m\u001b[43mmap\u001b[49m\u001b[38;5;241;43m.\u001b[39;49m\u001b[43mgetitems\u001b[49m\u001b[43m(\u001b[49m\u001b[38;5;28;43mlist\u001b[39;49m\u001b[43m(\u001b[49m\u001b[43mkeys_transformed\u001b[49m\u001b[43m)\u001b[49m\u001b[43m,\u001b[49m\u001b[43m \u001b[49m\u001b[43mon_error\u001b[49m\u001b[38;5;241;43m=\u001b[39;49m\u001b[38;5;124;43m\"\u001b[39;49m\u001b[38;5;124;43mreturn\u001b[39;49m\u001b[38;5;124;43m\"\u001b[39;49m\u001b[43m)\u001b[49m\n\u001b[1;32m   1427\u001b[0m     results \u001b[38;5;241m=\u001b[39m {}\n\u001b[1;32m   1428\u001b[0m     \u001b[38;5;28;01mfor\u001b[39;00m k, v \u001b[38;5;129;01min\u001b[39;00m results_transformed\u001b[38;5;241m.\u001b[39mitems():\n",
      "File \u001b[0;32m~/mambaforge/envs/south_sudan_pilot_gmv/lib/python3.12/site-packages/fsspec/mapping.py:105\u001b[0m, in \u001b[0;36mFSMap.getitems\u001b[0;34m(self, keys, on_error)\u001b[0m\n\u001b[1;32m    103\u001b[0m oe \u001b[38;5;241m=\u001b[39m on_error \u001b[38;5;28;01mif\u001b[39;00m on_error \u001b[38;5;241m==\u001b[39m \u001b[38;5;124m\"\u001b[39m\u001b[38;5;124mraise\u001b[39m\u001b[38;5;124m\"\u001b[39m \u001b[38;5;28;01melse\u001b[39;00m \u001b[38;5;124m\"\u001b[39m\u001b[38;5;124mreturn\u001b[39m\u001b[38;5;124m\"\u001b[39m\n\u001b[1;32m    104\u001b[0m \u001b[38;5;28;01mtry\u001b[39;00m:\n\u001b[0;32m--> 105\u001b[0m     out \u001b[38;5;241m=\u001b[39m \u001b[38;5;28;43mself\u001b[39;49m\u001b[38;5;241;43m.\u001b[39;49m\u001b[43mfs\u001b[49m\u001b[38;5;241;43m.\u001b[39;49m\u001b[43mcat\u001b[49m\u001b[43m(\u001b[49m\u001b[43mkeys2\u001b[49m\u001b[43m,\u001b[49m\u001b[43m \u001b[49m\u001b[43mon_error\u001b[49m\u001b[38;5;241;43m=\u001b[39;49m\u001b[43moe\u001b[49m\u001b[43m)\u001b[49m\n\u001b[1;32m    106\u001b[0m     \u001b[38;5;28;01mif\u001b[39;00m \u001b[38;5;28misinstance\u001b[39m(out, \u001b[38;5;28mbytes\u001b[39m):\n\u001b[1;32m    107\u001b[0m         out \u001b[38;5;241m=\u001b[39m {keys2[\u001b[38;5;241m0\u001b[39m]: out}\n",
      "File \u001b[0;32m~/mambaforge/envs/south_sudan_pilot_gmv/lib/python3.12/site-packages/fsspec/asyn.py:118\u001b[0m, in \u001b[0;36msync_wrapper.<locals>.wrapper\u001b[0;34m(*args, **kwargs)\u001b[0m\n\u001b[1;32m    115\u001b[0m \u001b[38;5;129m@functools\u001b[39m\u001b[38;5;241m.\u001b[39mwraps(func)\n\u001b[1;32m    116\u001b[0m \u001b[38;5;28;01mdef\u001b[39;00m \u001b[38;5;21mwrapper\u001b[39m(\u001b[38;5;241m*\u001b[39margs, \u001b[38;5;241m*\u001b[39m\u001b[38;5;241m*\u001b[39mkwargs):\n\u001b[1;32m    117\u001b[0m     \u001b[38;5;28mself\u001b[39m \u001b[38;5;241m=\u001b[39m obj \u001b[38;5;129;01mor\u001b[39;00m args[\u001b[38;5;241m0\u001b[39m]\n\u001b[0;32m--> 118\u001b[0m     \u001b[38;5;28;01mreturn\u001b[39;00m \u001b[43msync\u001b[49m\u001b[43m(\u001b[49m\u001b[38;5;28;43mself\u001b[39;49m\u001b[38;5;241;43m.\u001b[39;49m\u001b[43mloop\u001b[49m\u001b[43m,\u001b[49m\u001b[43m \u001b[49m\u001b[43mfunc\u001b[49m\u001b[43m,\u001b[49m\u001b[43m \u001b[49m\u001b[38;5;241;43m*\u001b[39;49m\u001b[43margs\u001b[49m\u001b[43m,\u001b[49m\u001b[43m \u001b[49m\u001b[38;5;241;43m*\u001b[39;49m\u001b[38;5;241;43m*\u001b[39;49m\u001b[43mkwargs\u001b[49m\u001b[43m)\u001b[49m\n",
      "File \u001b[0;32m~/mambaforge/envs/south_sudan_pilot_gmv/lib/python3.12/site-packages/fsspec/asyn.py:91\u001b[0m, in \u001b[0;36msync\u001b[0;34m(loop, func, timeout, *args, **kwargs)\u001b[0m\n\u001b[1;32m     88\u001b[0m asyncio\u001b[38;5;241m.\u001b[39mrun_coroutine_threadsafe(_runner(event, coro, result, timeout), loop)\n\u001b[1;32m     89\u001b[0m \u001b[38;5;28;01mwhile\u001b[39;00m \u001b[38;5;28;01mTrue\u001b[39;00m:\n\u001b[1;32m     90\u001b[0m     \u001b[38;5;66;03m# this loops allows thread to get interrupted\u001b[39;00m\n\u001b[0;32m---> 91\u001b[0m     \u001b[38;5;28;01mif\u001b[39;00m \u001b[43mevent\u001b[49m\u001b[38;5;241;43m.\u001b[39;49m\u001b[43mwait\u001b[49m\u001b[43m(\u001b[49m\u001b[38;5;241;43m1\u001b[39;49m\u001b[43m)\u001b[49m:\n\u001b[1;32m     92\u001b[0m         \u001b[38;5;28;01mbreak\u001b[39;00m\n\u001b[1;32m     93\u001b[0m     \u001b[38;5;28;01mif\u001b[39;00m timeout \u001b[38;5;129;01mis\u001b[39;00m \u001b[38;5;129;01mnot\u001b[39;00m \u001b[38;5;28;01mNone\u001b[39;00m:\n",
      "File \u001b[0;32m~/mambaforge/envs/south_sudan_pilot_gmv/lib/python3.12/threading.py:655\u001b[0m, in \u001b[0;36mEvent.wait\u001b[0;34m(self, timeout)\u001b[0m\n\u001b[1;32m    653\u001b[0m signaled \u001b[38;5;241m=\u001b[39m \u001b[38;5;28mself\u001b[39m\u001b[38;5;241m.\u001b[39m_flag\n\u001b[1;32m    654\u001b[0m \u001b[38;5;28;01mif\u001b[39;00m \u001b[38;5;129;01mnot\u001b[39;00m signaled:\n\u001b[0;32m--> 655\u001b[0m     signaled \u001b[38;5;241m=\u001b[39m \u001b[38;5;28;43mself\u001b[39;49m\u001b[38;5;241;43m.\u001b[39;49m\u001b[43m_cond\u001b[49m\u001b[38;5;241;43m.\u001b[39;49m\u001b[43mwait\u001b[49m\u001b[43m(\u001b[49m\u001b[43mtimeout\u001b[49m\u001b[43m)\u001b[49m\n\u001b[1;32m    656\u001b[0m \u001b[38;5;28;01mreturn\u001b[39;00m signaled\n",
      "File \u001b[0;32m~/mambaforge/envs/south_sudan_pilot_gmv/lib/python3.12/threading.py:359\u001b[0m, in \u001b[0;36mCondition.wait\u001b[0;34m(self, timeout)\u001b[0m\n\u001b[1;32m    357\u001b[0m \u001b[38;5;28;01melse\u001b[39;00m:\n\u001b[1;32m    358\u001b[0m     \u001b[38;5;28;01mif\u001b[39;00m timeout \u001b[38;5;241m>\u001b[39m \u001b[38;5;241m0\u001b[39m:\n\u001b[0;32m--> 359\u001b[0m         gotit \u001b[38;5;241m=\u001b[39m \u001b[43mwaiter\u001b[49m\u001b[38;5;241;43m.\u001b[39;49m\u001b[43macquire\u001b[49m\u001b[43m(\u001b[49m\u001b[38;5;28;43;01mTrue\u001b[39;49;00m\u001b[43m,\u001b[49m\u001b[43m \u001b[49m\u001b[43mtimeout\u001b[49m\u001b[43m)\u001b[49m\n\u001b[1;32m    360\u001b[0m     \u001b[38;5;28;01melse\u001b[39;00m:\n\u001b[1;32m    361\u001b[0m         gotit \u001b[38;5;241m=\u001b[39m waiter\u001b[38;5;241m.\u001b[39macquire(\u001b[38;5;28;01mFalse\u001b[39;00m)\n",
      "\u001b[0;31mKeyboardInterrupt\u001b[0m: "
     ]
    }
   ],
   "source": [
    "datasets_list = [\n",
    "    \"Hydrometeorological Data\",\n",
    "]\n",
    "\n",
    "dict_path = \"../data/processed/datasets_dict.json\"\n",
    "\n",
    "layer_processing = LayerProcessing(datasets, datasets_list, dict_path)\n",
    "layer_processing.create_layers()"
   ]
  },
  {
   "cell_type": "markdown",
   "metadata": {},
   "source": [
    "### Upload raster tiles to S3 bucket"
   ]
  },
  {
   "cell_type": "code",
   "execution_count": null,
   "metadata": {},
   "outputs": [],
   "source": [
    "directory_path = \"../data/processed/AnimatedTiles/\"\n",
    "bucket_folder = \"animated-tiles\"\n",
    "\n",
    "all_folders = os.listdir(directory_path)\n",
    "\n",
    "for folder in all_folders:\n",
    "    print(f\"Uploading folder {folder}:\")\n",
    "    local_directory = os.path.join(directory_path, folder)\n",
    "    if os.path.isdir(local_directory):\n",
    "        upload_files_to_s3_parallel(local_directory, f\"{bucket_folder}/{folder}\")"
   ]
  }
 ],
 "metadata": {
  "kernelspec": {
   "display_name": "qgis",
   "language": "python",
   "name": "python3"
  },
  "language_info": {
   "codemirror_mode": {
    "name": "ipython",
    "version": 3
   },
   "file_extension": ".py",
   "mimetype": "text/x-python",
   "name": "python",
   "nbconvert_exporter": "python",
   "pygments_lexer": "ipython3",
   "version": "3.12.5"
  }
 },
 "nbformat": 4,
 "nbformat_minor": 0
}
