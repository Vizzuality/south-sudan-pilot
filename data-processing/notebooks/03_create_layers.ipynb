{
 "cells": [
  {
   "attachments": {},
   "cell_type": "markdown",
   "metadata": {
    "collapsed": false
   },
   "source": [
    "# South Sudan Data Layers\n",
    "\n",
    "This notebook is used to prepare the data layers for South Sudan. The data layers will be processed and upload to Mapbox.\n",
    "\n",
    "## Data Hierarchy\n",
    "\n",
    "The data is organized in the following hierarchy:\n",
    "\n",
    "- [This](https://docs.google.com/spreadsheets/d/1RdJCjygAiWu2zBMGRF0ayigzrA2WhaObWMNdlkllgSQ/edit?usp=sharing) is the link to the data hierarchy spreadsheet.\n",
    "\n",
    "## Data Access\n",
    "**Input Data**\n",
    "\n",
    "The data is stored in the following Google Cloud Storage bucket (source from GMV):\n",
    "- https://console.cloud.google.com/storage/browser/wbhydross_deliverables\n",
    "\n",
    "**Output Data**\n",
    "- Raster layers: s3 bucket\n",
    "- Vector layers: Mapbox\n"
   ]
  },
  {
   "attachments": {},
   "cell_type": "markdown",
   "metadata": {},
   "source": [
    "## Setup\n",
    "\n",
    "### Library import\n"
   ]
  },
  {
   "cell_type": "code",
   "execution_count": 1,
   "metadata": {
    "collapsed": false
   },
   "outputs": [],
   "source": [
    "# imports\n",
    "import os\n",
    "import sys\n",
    "from pathlib import Path\n",
    "from pprint import pprint\n",
    "\n",
    "# Include local library paths if you have ../src/utils.py\n",
    "sys.path.append(\"../src/\")\n",
    "sys.path.append(\"../src/animations\")\n",
    "sys.path.append(\"../src/datasets\")\n",
    "sys.path.append(\"../src/helpers\")\n",
    "sys.path.append(\"../src/datasets/factory\")\n",
    "\n",
    "from datasets.datasets import dataset_database\n",
    "from datasets.processing import LayerProcessing\n",
    "from helpers.mapbox_uploader import upload_to_mapbox\n",
    "from helpers.s3_uploader import upload_directory_to_s3\n",
    "from helpers.settings import get_settings"
   ]
  },
  {
   "cell_type": "code",
   "execution_count": 2,
   "metadata": {},
   "outputs": [],
   "source": [
    "# Load settings with environment variables\n",
    "settings = get_settings()"
   ]
  },
  {
   "attachments": {},
   "cell_type": "markdown",
   "metadata": {
    "collapsed": false
   },
   "source": [
    "# Data Acquisition"
   ]
  },
  {
   "cell_type": "markdown",
   "metadata": {},
   "source": [
    "## Dataset information"
   ]
  },
  {
   "cell_type": "code",
   "execution_count": 3,
   "metadata": {},
   "outputs": [
    {
     "name": "stdout",
     "output_type": "stream",
     "text": [
      "{'Agricultural drought exposure': <datasets.datasets.Dataset object at 0x7f032b59a180>,\n",
      " 'Agricultural drought hazard': <datasets.datasets.Dataset object at 0x7f032b1131d0>,\n",
      " 'Boundaries': <datasets.datasets.Dataset object at 0x7f032b1131a0>,\n",
      " 'Contextual layers': <datasets.datasets.Dataset object at 0x7f032b1130e0>,\n",
      " 'EO-based flood exposure': <datasets.datasets.Dataset object at 0x7f032b113170>,\n",
      " 'EO-based flood hazard': <datasets.datasets.Dataset object at 0x7f032b113110>,\n",
      " 'Hydrographic data': <datasets.datasets.Dataset object at 0x7f032b113140>,\n",
      " 'Hydrometeorological Data': <datasets.datasets.Dataset object at 0x7f032b113080>,\n",
      " 'Meteorological drought exposure': <datasets.datasets.Dataset object at 0x7f032b1130b0>,\n",
      " 'Meteorological drought hazard': <datasets.datasets.Dataset object at 0x7f032b113020>,\n",
      " 'Model-based flood exposure': <datasets.datasets.Dataset object at 0x7f032b113050>,\n",
      " 'Model-based flood hazard': <datasets.datasets.Dataset object at 0x7f032b112ff0>,\n",
      " 'Populated infrastructures': <datasets.datasets.Dataset object at 0x7f032b112f90>,\n",
      " 'Transportation Network Infrastructures': <datasets.datasets.Dataset object at 0x7f032b112fc0>,\n",
      " 'Water-related infrastructures': <datasets.datasets.Dataset object at 0x7f032b112f30>}\n"
     ]
    }
   ],
   "source": [
    "datasets = dataset_database.datasets()\n",
    "pprint(datasets)"
   ]
  },
  {
   "cell_type": "markdown",
   "metadata": {},
   "source": [
    "# Static Layers\n",
    "## Floods and Droughts Layers\n",
    "### Create layers"
   ]
  },
  {
   "cell_type": "code",
   "execution_count": 4,
   "metadata": {},
   "outputs": [
    {
     "name": "stderr",
     "output_type": "stream",
     "text": [
      "  0%|          | 0/8 [00:00<?, ?it/s]"
     ]
    },
    {
     "name": "stdout",
     "output_type": "stream",
     "text": [
      "Model-based flood hazard\n"
     ]
    },
    {
     "name": "stderr",
     "output_type": "stream",
     "text": [
      "100%|██████████| 10/10 [00:00<00:00, 180013.05it/s]\n"
     ]
    },
    {
     "name": "stdout",
     "output_type": "stream",
     "text": [
      "EO-based flood hazard\n"
     ]
    },
    {
     "name": "stderr",
     "output_type": "stream",
     "text": [
      "100%|██████████| 2/2 [00:00<00:00, 50533.78it/s]\n"
     ]
    },
    {
     "name": "stdout",
     "output_type": "stream",
     "text": [
      "Meteorological drought hazard\n"
     ]
    },
    {
     "name": "stderr",
     "output_type": "stream",
     "text": [
      "100%|██████████| 1/1 [00:00<00:00, 28149.69it/s]\n"
     ]
    },
    {
     "name": "stdout",
     "output_type": "stream",
     "text": [
      "Agricultural drought hazard\n"
     ]
    },
    {
     "name": "stderr",
     "output_type": "stream",
     "text": [
      "100%|██████████| 1/1 [00:00<00:00, 16008.79it/s]\n"
     ]
    },
    {
     "name": "stdout",
     "output_type": "stream",
     "text": [
      "Model-based flood exposure\n"
     ]
    },
    {
     "name": "stderr",
     "output_type": "stream",
     "text": [
      "100%|██████████| 20/20 [00:00<00:00, 321402.61it/s]\n"
     ]
    },
    {
     "name": "stdout",
     "output_type": "stream",
     "text": [
      "EO-based flood exposure\n"
     ]
    },
    {
     "name": "stderr",
     "output_type": "stream",
     "text": [
      "100%|██████████| 10/10 [00:00<00:00, 283398.92it/s]\n"
     ]
    },
    {
     "name": "stdout",
     "output_type": "stream",
     "text": [
      "Meteorological drought exposure\n"
     ]
    },
    {
     "name": "stderr",
     "output_type": "stream",
     "text": [
      "100%|██████████| 8/8 [00:00<00:00, 277309.36it/s]\n"
     ]
    },
    {
     "name": "stdout",
     "output_type": "stream",
     "text": [
      "Agricultural drought exposure\n"
     ]
    },
    {
     "name": "stderr",
     "output_type": "stream",
     "text": [
      "100%|██████████| 8/8 [00:00<00:00, 138084.08it/s]\n",
      "100%|██████████| 8/8 [00:00<00:00, 536.48it/s]\n"
     ]
    }
   ],
   "source": [
    "datasets_list = [\n",
    "    \"Model-based flood hazard\",\n",
    "    \"EO-based flood hazard\",\n",
    "    \"Meteorological drought hazard\",\n",
    "    \"Agricultural drought hazard\",\n",
    "    \"Model-based flood exposure\",\n",
    "    \"EO-based flood exposure\",\n",
    "    \"Meteorological drought exposure\",\n",
    "    \"Agricultural drought exposure\",\n",
    "]\n",
    "\n",
    "dict_path = \"../data/processed/datasets_dict.json\"\n",
    "\n",
    "layer_processing = LayerProcessing(datasets, datasets_list, dict_path)\n",
    "layer_processing.create_layers()"
   ]
  },
  {
   "cell_type": "markdown",
   "metadata": {},
   "source": [
    "### Raster layers"
   ]
  },
  {
   "cell_type": "markdown",
   "metadata": {},
   "source": [
    "#### Upload raster tiles to S3 bucket"
   ]
  },
  {
   "cell_type": "code",
   "execution_count": null,
   "metadata": {},
   "outputs": [],
   "source": [
    "directory_path = Path(\"../data/processed/RasterTiles/\")\n",
    "bucket_name = \"wims-ss-staging-assets-bucket\"\n",
    "bucket_folder = \"raster-tiles\"\n",
    "\n",
    "all_folders = os.listdir(directory_path)\n",
    "\n",
    "for folder in all_folders:\n",
    "    local_directory = directory_path / Path(folder)\n",
    "    if os.path.isdir(local_directory):\n",
    "        upload_directory_to_s3(local_directory, bucket_name, f\"{bucket_folder}/{folder}\")\n",
    "        print(folder)"
   ]
  },
  {
   "cell_type": "markdown",
   "metadata": {},
   "source": [
    "### Vector layers"
   ]
  },
  {
   "cell_type": "markdown",
   "metadata": {},
   "source": [
    "#### Upload layers to Mapbox"
   ]
  },
  {
   "cell_type": "code",
   "execution_count": 5,
   "metadata": {},
   "outputs": [],
   "source": [
    "directory_path = Path(\"../data/processed/VectorLayers/\")\n",
    "\n",
    "all_files = os.listdir(directory_path)\n",
    "\n",
    "for file_name in all_files:\n",
    "    local_file = directory_path / Path(file_name)\n",
    "\n",
    "    # Upload to Mapbox\n",
    "    upload_name = upload_to_mapbox(\n",
    "        local_file,\n",
    "        file_name,\n",
    "        settings.MAPBOX_USER,\n",
    "        settings.MAPBOX_TOKEN,\n",
    "    )"
   ]
  },
  {
   "cell_type": "markdown",
   "metadata": {},
   "source": [
    "## Contextual Layers\n",
    "### Create layers"
   ]
  },
  {
   "cell_type": "code",
   "execution_count": 11,
   "metadata": {},
   "outputs": [
    {
     "name": "stderr",
     "output_type": "stream",
     "text": [
      "  0%|          | 0/1 [00:00<?, ?it/s]"
     ]
    },
    {
     "name": "stdout",
     "output_type": "stream",
     "text": [
      "Contextual layers\n"
     ]
    },
    {
     "name": "stderr",
     "output_type": "stream",
     "text": [
      "INFO:helpers.raster_processor:Applying styles\n",
      "Application path not initialized\n",
      "INFO:helpers.raster_processor:Converting to GeoTIFF\n"
     ]
    },
    {
     "name": "stdout",
     "output_type": "stream",
     "text": [
      "Processing Land cover from Contextual layers\n"
     ]
    },
    {
     "name": "stderr",
     "output_type": "stream",
     "text": [
      "INFO:helpers.raster_processor:Converting to Cloud-Optimized GeoTIFF\n",
      "Reading input: /home/iker/Vizzuality/Proiektuak/wims-south-sudan/data-processing/data/processed/RasterLayers/CL_land_cover.tif\n",
      "\n",
      "Adding overviews...\n",
      "Updating dataset tags...\n",
      "Writing output to: /home/iker/Vizzuality/Proiektuak/wims-south-sudan/data-processing/data/processed/RasterLayers/CL_land_cover.tif\n",
      "INFO:helpers.raster_processor:Processing complete. Output saved to ../data/processed/RasterLayers/CL_land_cover.tif\n"
     ]
    },
    {
     "name": "stdout",
     "output_type": "stream",
     "text": [
      "Creating tiles ...\n"
     ]
    },
    {
     "name": "stderr",
     "output_type": "stream",
     "text": [
      "INFO:helpers.raster_processor:Applying styles\n"
     ]
    },
    {
     "name": "stdout",
     "output_type": "stream",
     "text": [
      "Processing Population from Contextual layers\n"
     ]
    },
    {
     "name": "stderr",
     "output_type": "stream",
     "text": [
      "Application path not initialized\n",
      "INFO:helpers.raster_processor:Converting to GeoTIFF\n",
      "INFO:helpers.raster_processor:Converting to Cloud-Optimized GeoTIFF\n",
      "Reading input: /home/iker/Vizzuality/Proiektuak/wims-south-sudan/data-processing/data/processed/RasterLayers/CL_population.tif\n",
      "\n",
      "Adding overviews...\n",
      "Updating dataset tags...\n",
      "Writing output to: /home/iker/Vizzuality/Proiektuak/wims-south-sudan/data-processing/data/processed/RasterLayers/CL_population.tif\n",
      "INFO:helpers.raster_processor:Processing complete. Output saved to ../data/processed/RasterLayers/CL_population.tif\n",
      "Warning 1: Unable to save auxiliary information in https://storage.googleapis.com/wbhydross_deliverables/D3-Database/01-Population_Assets_Infrastructures/Population-GHS/WBHYDROSSD_GHS-POP_4326_100m_SouthSudan_2020_20240429.tif.aux.xml.\n"
     ]
    },
    {
     "name": "stdout",
     "output_type": "stream",
     "text": [
      "Creating tiles ...\n"
     ]
    },
    {
     "name": "stderr",
     "output_type": "stream",
     "text": []
    },
    {
     "name": "stdout",
     "output_type": "stream",
     "text": [
      "Processing Seasonal cattle grazing areas from Contextual layers\n",
      "Loading data from https://storage.googleapis.com/wbhydross_deliverables/D3-Database/01-Population_Assets_Infrastructures/Pastures-REACH/WBHYDROSSD_REACH-SeasonalCattleGrazingAreas_4326_SouthSudan_2020_20240103.shp...\n"
     ]
    },
    {
     "name": "stderr",
     "output_type": "stream",
     "text": [
      "INFO:root:Creating JSON file...\n",
      "INFO:pyogrio._io:Created 80 records\n",
      "INFO:root:Creating mbtiles file...\n",
      "For layer 0, using name \"CL_seasonal_cattle_grazing_areas\"\n",
      "../data/processed/RasterLayers/CL_seasonal_cattle_grazing_areas.json:8: Found ] at top level\n",
      "../data/processed/RasterLayers/CL_seasonal_cattle_grazing_areas.json:11: Reached EOF without all containers being closed\n",
      "In JSON object {\"type\":\"FeatureCollection\",\"name\":\"CL_seasonal_cattle_grazing_areas\",\"crs\":{\"type\":\"name\",\"properties\":{\"name\":\"urn:ogc:def:crs:OGC:1.3:CRS84\"}},\"features\":[]}\n",
      "80 features, 473626 bytes of geometry, 591 bytes of separate metadata, 1108 bytes of string pool\n",
      "Choosing a maxzoom of -z1 for features about 252062 feet (76829 meters) apart\n",
      "Choosing a maxzoom of -z10 for resolution of about 440 feet (134 meters) within features\n",
      "  99.9%  10/612/497  \n",
      "100%|██████████| 3/3 [30:06<00:00, 602.01s/it]\n",
      "100%|██████████| 1/1 [30:06<00:00, 1806.02s/it]\n"
     ]
    }
   ],
   "source": [
    "datasets_list = [\"Contextual layers\"]\n",
    "\n",
    "dict_path = \"../data/processed/datasets_dict.json\"\n",
    "\n",
    "layer_processing = LayerProcessing(datasets, datasets_list, dict_path)\n",
    "layer_processing.create_layers()"
   ]
  },
  {
   "cell_type": "markdown",
   "metadata": {},
   "source": [
    "## Boundaries, Waterbodies and Infrastructure \n",
    "### Create layers"
   ]
  },
  {
   "cell_type": "code",
   "execution_count": 4,
   "metadata": {},
   "outputs": [
    {
     "name": "stderr",
     "output_type": "stream",
     "text": [
      "  0%|          | 0/5 [00:00<?, ?it/s]"
     ]
    },
    {
     "name": "stdout",
     "output_type": "stream",
     "text": [
      "Boundaries\n"
     ]
    },
    {
     "name": "stderr",
     "output_type": "stream",
     "text": [
      "100%|██████████| 5/5 [00:00<00:00, 90394.48it/s]\n"
     ]
    },
    {
     "name": "stdout",
     "output_type": "stream",
     "text": [
      "Hydrographic data\n"
     ]
    },
    {
     "name": "stderr",
     "output_type": "stream",
     "text": [
      "INFO:helpers.raster_processor:Applying styles\n",
      "Application path not initialized\n",
      "Application path not initialized\n",
      "Application path not initialized\n",
      "Application path not initialized\n"
     ]
    },
    {
     "name": "stdout",
     "output_type": "stream",
     "text": [
      "Processing Digital Elevation Model from Hydrographic data\n"
     ]
    },
    {
     "name": "stderr",
     "output_type": "stream",
     "text": [
      "Application path not initialized\n",
      "Application path not initialized\n",
      "INFO:helpers.raster_processor:Converting to GeoTIFF\n",
      "INFO:helpers.raster_processor:Converting to Cloud-Optimized GeoTIFF\n",
      "Reading input: /home/iker/Vizzuality/Proiektuak/wims-south-sudan/data-processing/data/processed/RasterLayers/HD_digital_elevation_model.tif\n",
      "\n",
      "Adding overviews...\n",
      "Updating dataset tags...\n",
      "Writing output to: /home/iker/Vizzuality/Proiektuak/wims-south-sudan/data-processing/data/processed/RasterLayers/HD_digital_elevation_model.tif\n",
      "INFO:helpers.raster_processor:Processing complete. Output saved to ../data/processed/RasterLayers/HD_digital_elevation_model.tif\n"
     ]
    },
    {
     "name": "stdout",
     "output_type": "stream",
     "text": [
      "Creating tiles ...\n"
     ]
    },
    {
     "name": "stderr",
     "output_type": "stream",
     "text": [
      "100%|██████████| 2/2 [03:37<00:00, 108.87s/it]\n",
      " 40%|████      | 2/5 [03:37<05:26, 108.87s/it]"
     ]
    },
    {
     "name": "stdout",
     "output_type": "stream",
     "text": [
      "Populated infrastructures\n"
     ]
    },
    {
     "name": "stderr",
     "output_type": "stream",
     "text": [
      "100%|██████████| 2/2 [00:00<00:00, 79891.50it/s]\n"
     ]
    },
    {
     "name": "stdout",
     "output_type": "stream",
     "text": [
      "Transportation Network Infrastructures\n"
     ]
    },
    {
     "name": "stderr",
     "output_type": "stream",
     "text": [
      "100%|██████████| 1/1 [00:00<00:00, 41943.04it/s]\n"
     ]
    },
    {
     "name": "stdout",
     "output_type": "stream",
     "text": [
      "Water-related infrastructures\n"
     ]
    },
    {
     "name": "stderr",
     "output_type": "stream",
     "text": [
      "100%|██████████| 2/2 [00:00<00:00, 82241.25it/s]\n",
      "100%|██████████| 5/5 [03:37<00:00, 43.55s/it] \n"
     ]
    }
   ],
   "source": [
    "datasets_list = [\n",
    "    \"Boundaries\",\n",
    "    \"Hydrographic data\",\n",
    "    \"Populated infrastructures\",\n",
    "    \"Transportation Network Infrastructures\",\n",
    "    \"Water-related infrastructures\",\n",
    "]\n",
    "\n",
    "dict_path = \"../data/processed/datasets_dict.json\"\n",
    "\n",
    "layer_processing = LayerProcessing(datasets, datasets_list, dict_path)\n",
    "layer_processing.create_layers()"
   ]
  },
  {
   "cell_type": "markdown",
   "metadata": {},
   "source": [
    "# Animated Layers\n",
    "## Hydrometeorological Data Layers\n",
    "### Create layers"
   ]
  },
  {
   "cell_type": "code",
   "execution_count": 4,
   "metadata": {},
   "outputs": [
    {
     "name": "stderr",
     "output_type": "stream",
     "text": [
      "  0%|          | 0/1 [00:00<?, ?it/s]"
     ]
    },
    {
     "name": "stdout",
     "output_type": "stream",
     "text": [
      "Hydrometeorological Data\n"
     ]
    },
    {
     "name": "stderr",
     "output_type": "stream",
     "text": []
    },
    {
     "name": "stdout",
     "output_type": "stream",
     "text": [
      "Processing Evapotranspiration from Hydrometeorological Data\n",
      "Loading Zarr data from gs://wbhydross_deliverables/D3-Database/02- Meteorological datasets/Evapotranspiration-WaPOR/WBHYDROSSD_WaPOR_Evapotranspiration_100m_SouthSudan_2023_20240220.zarr...\n",
      "Creating tiles ...\n"
     ]
    },
    {
     "name": "stderr",
     "output_type": "stream",
     "text": [
      "\n",
      "\u001b[A"
     ]
    }
   ],
   "source": [
    "datasets_list = [\n",
    "    \"Hydrometeorological Data\",\n",
    "]\n",
    "\n",
    "dict_path = \"../data/processed/datasets_dict.json\"\n",
    "\n",
    "layer_processing = LayerProcessing(datasets, datasets_list, dict_path)\n",
    "layer_processing.create_layers()"
   ]
  }
 ],
 "metadata": {
  "kernelspec": {
   "display_name": "qgis",
   "language": "python",
   "name": "python3"
  },
  "language_info": {
   "codemirror_mode": {
    "name": "ipython",
    "version": 3
   },
   "file_extension": ".py",
   "mimetype": "text/x-python",
   "name": "python",
   "nbconvert_exporter": "python",
   "pygments_lexer": "ipython3",
   "version": "3.12.5"
  }
 },
 "nbformat": 4,
 "nbformat_minor": 0
}
