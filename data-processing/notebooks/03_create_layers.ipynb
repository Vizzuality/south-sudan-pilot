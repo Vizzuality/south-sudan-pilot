{
 "cells": [
  {
   "attachments": {},
   "cell_type": "markdown",
   "metadata": {
    "collapsed": false
   },
   "source": [
    "# South Sudan Data Layers\n",
    "\n",
    "This notebook is used to prepare the data layers for South Sudan. The data layers will be processed and upload to Mapbox.\n",
    "\n",
    "## Data Hierarchy\n",
    "\n",
    "The data is organized in the following hierarchy:\n",
    "\n",
    "- [This](https://docs.google.com/spreadsheets/d/1RdJCjygAiWu2zBMGRF0ayigzrA2WhaObWMNdlkllgSQ/edit?usp=sharing) is the link to the data hierarchy spreadsheet.\n",
    "\n",
    "## Data Access\n",
    "The data is stored in the following Google Cloud Storage bucket:\n",
    "- https://console.cloud.google.com/storage/browser/wbhydross_deliverables\n"
   ]
  },
  {
   "attachments": {},
   "cell_type": "markdown",
   "metadata": {},
   "source": [
    "## Setup\n",
    "\n",
    "### Library import\n"
   ]
  },
  {
   "cell_type": "code",
   "execution_count": 1,
   "metadata": {
    "collapsed": false
   },
   "outputs": [],
   "source": [
    "# imports\n",
    "import json\n",
    "import sys\n",
    "from pathlib import Path\n",
    "from pprint import pprint\n",
    "\n",
    "# Include local library paths if you have ../src/utils.py\n",
    "sys.path.append(\"../src/\")\n",
    "sys.path.append(\"../src/datasets\")\n",
    "sys.path.append(\"../src/datasets/factory\")\n",
    "\n",
    "from datasets.datasets import dataset_database\n",
    "from helpers.mapbox_uploader import upload_to_mapbox\n",
    "from helpers.mbtiles_converter import MBTilesConverter\n",
    "from helpers.raster_tiles import RasterTiles\n",
    "from helpers.settings import get_settings\n",
    "from helpers.tippecanoe import mbtile_generation\n",
    "from raster_processor import QgsStyledRasterProcessor\n",
    "from tqdm import tqdm"
   ]
  },
  {
   "cell_type": "code",
   "execution_count": 2,
   "metadata": {},
   "outputs": [],
   "source": [
    "# Load settings with environment variables\n",
    "settings = get_settings()"
   ]
  },
  {
   "attachments": {},
   "cell_type": "markdown",
   "metadata": {
    "collapsed": false
   },
   "source": [
    "# Data Acquisition"
   ]
  },
  {
   "cell_type": "markdown",
   "metadata": {},
   "source": [
    "## Dataset information"
   ]
  },
  {
   "cell_type": "code",
   "execution_count": 3,
   "metadata": {},
   "outputs": [
    {
     "name": "stdout",
     "output_type": "stream",
     "text": [
      "{'Agricultural drought exposure': <datasets.datasets.Dataset object at 0x7f9629a57c80>,\n",
      " 'Agricultural drought hazard': <datasets.datasets.Dataset object at 0x7f9629a57c50>,\n",
      " 'Boundaries': <datasets.datasets.Dataset object at 0x7f9629a57c20>,\n",
      " 'Contextual layers': <datasets.datasets.Dataset object at 0x7f9629a57bf0>,\n",
      " 'EO-based flood exposure': <datasets.datasets.Dataset object at 0x7f9629a57b30>,\n",
      " 'EO-based flood hazard': <datasets.datasets.Dataset object at 0x7f9629a57bc0>,\n",
      " 'Hydrographic data': <datasets.datasets.Dataset object at 0x7f9629a57b60>,\n",
      " 'Hydrometeorological Data': <datasets.datasets.Dataset object at 0x7f9629a57b90>,\n",
      " 'Meteorological drought exposure': <datasets.datasets.Dataset object at 0x7f9629a57ad0>,\n",
      " 'Meteorological drought hazard': <datasets.datasets.Dataset object at 0x7f9629a57b00>,\n",
      " 'Model-based flood exposure': <datasets.datasets.Dataset object at 0x7f9629a57a70>,\n",
      " 'Model-based flood hazard': <datasets.datasets.Dataset object at 0x7f9629a57aa0>,\n",
      " 'Populated infrastructures': <datasets.datasets.Dataset object at 0x7f9629a57a40>,\n",
      " 'Transportation Network Infrastructures': <datasets.datasets.Dataset object at 0x7f9629a579e0>,\n",
      " 'Water-related infrastructures': <datasets.datasets.Dataset object at 0x7f9629a57a10>}\n"
     ]
    }
   ],
   "source": [
    "datasets = dataset_database.datasets()\n",
    "pprint(datasets)"
   ]
  },
  {
   "cell_type": "markdown",
   "metadata": {},
   "source": [
    "## Static datasets\n",
    "### Create layers"
   ]
  },
  {
   "cell_type": "code",
   "execution_count": 4,
   "metadata": {},
   "outputs": [
    {
     "name": "stderr",
     "output_type": "stream",
     "text": [
      "  0%|          | 0/8 [00:00<?, ?it/s]"
     ]
    },
    {
     "name": "stdout",
     "output_type": "stream",
     "text": [
      "Model-based flood hazard\n"
     ]
    },
    {
     "name": "stderr",
     "output_type": "stream",
     "text": [
      "100%|██████████| 10/10 [00:00<00:00, 179243.76it/s]\n"
     ]
    },
    {
     "name": "stdout",
     "output_type": "stream",
     "text": [
      "EO-based flood hazard\n"
     ]
    },
    {
     "name": "stderr",
     "output_type": "stream",
     "text": [
      "100%|██████████| 2/2 [00:00<00:00, 43690.67it/s]\n"
     ]
    },
    {
     "name": "stdout",
     "output_type": "stream",
     "text": [
      "Meteorological drought hazard\n"
     ]
    },
    {
     "name": "stderr",
     "output_type": "stream",
     "text": [
      "100%|██████████| 1/1 [00:00<00:00, 33288.13it/s]\n"
     ]
    },
    {
     "name": "stdout",
     "output_type": "stream",
     "text": [
      "Agricultural drought hazard\n"
     ]
    },
    {
     "name": "stderr",
     "output_type": "stream",
     "text": [
      "100%|██████████| 1/1 [00:00<00:00, 22671.91it/s]\n"
     ]
    },
    {
     "name": "stdout",
     "output_type": "stream",
     "text": [
      "Model-based flood exposure\n"
     ]
    },
    {
     "name": "stderr",
     "output_type": "stream",
     "text": [
      "100%|██████████| 20/20 [00:00<00:00, 332881.27it/s]\n"
     ]
    },
    {
     "name": "stdout",
     "output_type": "stream",
     "text": [
      "EO-based flood exposure\n"
     ]
    },
    {
     "name": "stderr",
     "output_type": "stream",
     "text": [
      "100%|██████████| 10/10 [00:00<00:00, 186413.51it/s]\n"
     ]
    },
    {
     "name": "stdout",
     "output_type": "stream",
     "text": [
      "Meteorological drought exposure\n"
     ]
    },
    {
     "name": "stderr",
     "output_type": "stream",
     "text": [
      "100%|██████████| 8/8 [00:00<00:00, 184365.01it/s]\n"
     ]
    },
    {
     "name": "stdout",
     "output_type": "stream",
     "text": [
      "Agricultural drought exposure\n"
     ]
    },
    {
     "name": "stderr",
     "output_type": "stream",
     "text": [
      "100%|██████████| 8/8 [00:00<00:00, 213722.50it/s]\n",
      "100%|██████████| 8/8 [00:00<00:00, 503.84it/s]\n"
     ]
    }
   ],
   "source": [
    "datasets_list = [\n",
    "    \"Model-based flood hazard\",\n",
    "    \"EO-based flood hazard\",\n",
    "    \"Meteorological drought hazard\",\n",
    "    \"Agricultural drought hazard\",\n",
    "    \"Model-based flood exposure\",\n",
    "    \"EO-based flood exposure\",\n",
    "    \"Meteorological drought exposure\",\n",
    "    \"Agricultural drought exposure\",\n",
    "]\n",
    "\n",
    "# Load datasets_dict\n",
    "with open(\"../data/processed/datasets_dict.json\", \"r\") as file:\n",
    "    datasets_dict = json.load(file)\n",
    "\n",
    "for dataset_name in tqdm(datasets_list):\n",
    "    print(dataset_name)\n",
    "    shortened_dataset_name = \"\".join(word[0] for word in dataset_name.split()).upper()\n",
    "\n",
    "    dataset = datasets.get(dataset_name)\n",
    "    layers = dataset.layers()\n",
    "    dataset_layers = datasets_dict.get(dataset_name, {})\n",
    "    for layer_name, layer in tqdm(layers.items()):\n",
    "        if layer_name not in dataset_layers:\n",
    "            layer_name_lower = layer_name.lower().replace(\" - \", \" \").replace(\" \", \"_\")\n",
    "            file_name = f\"{shortened_dataset_name}_{layer_name_lower}\"\n",
    "            print(f\"{shortened_dataset_name}_{layer_name_lower}\")\n",
    "            dataset_layers[layer_name] = file_name\n",
    "            datasets_dict[dataset_name] = dataset_layers\n",
    "            if layer.type == \"raster\" and layer.format == \"GeoTIFF\":\n",
    "                # Define the output path\n",
    "                base_path = Path(\"../data/processed/RasterLayers\")\n",
    "                output_path = base_path / Path(file_name).with_suffix(\".tif\")\n",
    "                if layer.styles:\n",
    "                    # QML file\n",
    "                    qml_file = layer.styles\n",
    "                    # Style raster and save it as Cloud Optimized GeoTIFF\n",
    "                    QgsStyledRasterProcessor(layer.url, qml_file, output_path).process()\n",
    "\n",
    "            elif layer.type == \"vector\":\n",
    "                # Define the output path\n",
    "                base_path = Path(\"../data/processed/VectorLayers\")\n",
    "                output_path = base_path / Path(file_name).with_suffix(\".mbtiles\")\n",
    "                # Generate MBTile\n",
    "                df = layer.get_data()\n",
    "                mbtile_generation(df, output_path)\n",
    "\n",
    "            # Save datasets_dict to a file\n",
    "            with open(\"../data/processed/datasets_dict.json\", \"w\") as f:\n",
    "                json.dump(datasets_dict, f)"
   ]
  },
  {
   "cell_type": "markdown",
   "metadata": {},
   "source": [
    "### Raster layers"
   ]
  },
  {
   "cell_type": "markdown",
   "metadata": {},
   "source": [
    "#### Convert GeoTIFFs to Tiles"
   ]
  },
  {
   "cell_type": "code",
   "execution_count": 4,
   "metadata": {},
   "outputs": [
    {
     "name": "stderr",
     "output_type": "stream",
     "text": [
      "  0%|          | 0/8 [00:00<?, ?it/s]"
     ]
    },
    {
     "name": "stdout",
     "output_type": "stream",
     "text": [
      "Model-based flood hazard\n"
     ]
    },
    {
     "name": "stderr",
     "output_type": "stream",
     "text": []
    },
    {
     "name": "stdout",
     "output_type": "stream",
     "text": [
      "MFH_fluvial_flood_depth_10-yr_rp\n",
      "Creating tiles ...\n"
     ]
    },
    {
     "name": "stderr",
     "output_type": "stream",
     "text": []
    },
    {
     "name": "stdout",
     "output_type": "stream",
     "text": [
      "MFH_fluvial_flood_depth_100-yr_rp\n",
      "Creating tiles ...\n"
     ]
    },
    {
     "name": "stderr",
     "output_type": "stream",
     "text": []
    },
    {
     "name": "stdout",
     "output_type": "stream",
     "text": [
      "MFH_fluvial_flood_depth_20-yr_rp\n",
      "Creating tiles ...\n"
     ]
    },
    {
     "name": "stderr",
     "output_type": "stream",
     "text": []
    },
    {
     "name": "stdout",
     "output_type": "stream",
     "text": [
      "MFH_fluvial_flood_depth_5-yr_rp\n",
      "Creating tiles ...\n"
     ]
    },
    {
     "name": "stderr",
     "output_type": "stream",
     "text": []
    },
    {
     "name": "stdout",
     "output_type": "stream",
     "text": [
      "MFH_fluvial_flood_depth_50-yr_rp\n",
      "Creating tiles ...\n"
     ]
    },
    {
     "name": "stderr",
     "output_type": "stream",
     "text": []
    },
    {
     "name": "stdout",
     "output_type": "stream",
     "text": [
      "MFH_pluvial_flood_depth_10-yr_rp\n",
      "Creating tiles ...\n"
     ]
    },
    {
     "name": "stderr",
     "output_type": "stream",
     "text": []
    },
    {
     "name": "stdout",
     "output_type": "stream",
     "text": [
      "MFH_pluvial_flood_depth_100-yr_rp\n",
      "Creating tiles ...\n"
     ]
    },
    {
     "name": "stderr",
     "output_type": "stream",
     "text": []
    },
    {
     "name": "stdout",
     "output_type": "stream",
     "text": [
      "MFH_pluvial_flood_depth_20-yr_rp\n",
      "Creating tiles ...\n"
     ]
    },
    {
     "name": "stderr",
     "output_type": "stream",
     "text": []
    },
    {
     "name": "stdout",
     "output_type": "stream",
     "text": [
      "MFH_pluvial_flood_depth_5-yr_rp\n",
      "Creating tiles ...\n"
     ]
    },
    {
     "name": "stderr",
     "output_type": "stream",
     "text": []
    },
    {
     "name": "stdout",
     "output_type": "stream",
     "text": [
      "MFH_pluvial_flood_depth_50-yr_rp\n",
      "Creating tiles ...\n"
     ]
    },
    {
     "name": "stderr",
     "output_type": "stream",
     "text": [
      "100%|██████████| 10/10 [36:50<00:00, 221.00s/it]\n",
      " 12%|█▎        | 1/8 [36:50<4:17:50, 2210.03s/it]"
     ]
    },
    {
     "name": "stdout",
     "output_type": "stream",
     "text": [
      "EO-based flood hazard\n"
     ]
    },
    {
     "name": "stderr",
     "output_type": "stream",
     "text": []
    },
    {
     "name": "stdout",
     "output_type": "stream",
     "text": [
      "EFH_flood_extent_(2017-2022)\n",
      "Creating tiles ...\n"
     ]
    },
    {
     "name": "stderr",
     "output_type": "stream",
     "text": []
    },
    {
     "name": "stdout",
     "output_type": "stream",
     "text": [
      "EFH_flood_max_frequency_(2017-2022)\n",
      "Creating tiles ...\n"
     ]
    }
   ],
   "source": [
    "datasets_list = [\n",
    "    \"Model-based flood hazard\",\n",
    "    \"EO-based flood hazard\",\n",
    "    \"Meteorological drought hazard\",\n",
    "    \"Agricultural drought hazard\",\n",
    "    \"Model-based flood exposure\",\n",
    "    \"EO-based flood exposure\",\n",
    "    \"Meteorological drought exposure\",\n",
    "    \"Agricultural drought exposure\",\n",
    "]\n",
    "\n",
    "# Load datasets_dict\n",
    "with open(\"../data/processed/datasets_dict_raster_tiles.json\", \"r\") as file:\n",
    "    datasets_dict = json.load(file)\n",
    "\n",
    "for dataset_name in tqdm(datasets_list):\n",
    "    print(dataset_name)\n",
    "    shortened_dataset_name = \"\".join(word[0] for word in dataset_name.split()).upper()\n",
    "\n",
    "    dataset = datasets.get(dataset_name)\n",
    "    layers = dataset.layers()\n",
    "    dataset_layers = datasets_dict.get(dataset_name, {})\n",
    "    for layer_name, layer in tqdm(layers.items()):\n",
    "        if layer_name not in dataset_layers:\n",
    "            layer_name_lower = layer_name.lower().replace(\" - \", \" \").replace(\" \", \"_\")\n",
    "            file_name = f\"{shortened_dataset_name}_{layer_name_lower}\"\n",
    "            print(f\"{shortened_dataset_name}_{layer_name_lower}\")\n",
    "            dataset_layers[layer_name] = file_name\n",
    "            datasets_dict[dataset_name] = dataset_layers\n",
    "            if layer.type == \"raster\" and layer.format == \"GeoTIFF\":\n",
    "                # Define the output path\n",
    "                base_path = Path(\"../data/processed/RasterLayers\")\n",
    "                input_path = base_path / Path(file_name).with_suffix(\".tif\")\n",
    "                output_folder = Path(\"../data/processed/RasterTiles\") / Path(file_name)\n",
    "                output_folder.mkdir(parents=True, exist_ok=True)\n",
    "\n",
    "                # Convert GeoTIFF to Tiles\n",
    "                raster_tiles = RasterTiles(\n",
    "                    input_path, output_folder, min_z=4, max_z=12, engine=\"rasterio\"\n",
    "                )\n",
    "                raster_tiles.create()\n",
    "\n",
    "            # Save datasets_dict to a file\n",
    "            with open(\"../data/processed/datasets_dict_raster_tiles.json\", \"w\") as f:\n",
    "                json.dump(datasets_dict, f)"
   ]
  },
  {
   "cell_type": "markdown",
   "metadata": {},
   "source": [
    "#### Convert GeoTIFFs to MBTiles"
   ]
  },
  {
   "cell_type": "code",
   "execution_count": 4,
   "metadata": {},
   "outputs": [
    {
     "name": "stderr",
     "output_type": "stream",
     "text": [
      "  0%|          | 0/8 [00:00<?, ?it/s]"
     ]
    },
    {
     "name": "stdout",
     "output_type": "stream",
     "text": [
      "Model-based flood hazard\n"
     ]
    },
    {
     "name": "stderr",
     "output_type": "stream",
     "text": []
    },
    {
     "name": "stdout",
     "output_type": "stream",
     "text": [
      "MFH_fluvial_flood_depth_10-yr_rp\n"
     ]
    }
   ],
   "source": [
    "datasets_list = [\n",
    "    \"Model-based flood hazard\",\n",
    "    \"EO-based flood hazard\",\n",
    "    \"Meteorological drought hazard\",\n",
    "    \"Agricultural drought hazard\",\n",
    "    \"Model-based flood exposure\",\n",
    "    \"EO-based flood exposure\",\n",
    "    \"Meteorological drought exposure\",\n",
    "    \"Agricultural drought exposure\",\n",
    "]\n",
    "\n",
    "# Load datasets_dict\n",
    "with open(\"../data/processed/datasets_dict_mbtiles.json\", \"r\") as file:\n",
    "    datasets_dict = json.load(file)\n",
    "\n",
    "for dataset_name in tqdm(datasets_list):\n",
    "    print(dataset_name)\n",
    "    shortened_dataset_name = \"\".join(word[0] for word in dataset_name.split()).upper()\n",
    "\n",
    "    dataset = datasets.get(dataset_name)\n",
    "    layers = dataset.layers()\n",
    "    dataset_layers = datasets_dict.get(dataset_name, {})\n",
    "    for layer_name, layer in tqdm(layers.items()):\n",
    "        if layer_name not in dataset_layers:\n",
    "            layer_name_lower = layer_name.lower().replace(\" - \", \" \").replace(\" \", \"_\")\n",
    "            file_name = f\"{shortened_dataset_name}_{layer_name_lower}\"\n",
    "            print(f\"{shortened_dataset_name}_{layer_name_lower}\")\n",
    "            dataset_layers[layer_name] = file_name\n",
    "            datasets_dict[dataset_name] = dataset_layers\n",
    "            if layer.type == \"raster\" and layer.format == \"GeoTIFF\":\n",
    "                # Define the output path\n",
    "                base_path = Path(\"../data/processed/RasterLayers\")\n",
    "                input_path = base_path / Path(file_name).with_suffix(\".tif\")\n",
    "                output_path = base_path / Path(file_name).with_suffix(\".mbtiles\")\n",
    "\n",
    "                # Convert GeoTIFF to MBTiles\n",
    "                MBTilesConverter.convert(input_path, output_path)\n",
    "\n",
    "            # Save datasets_dict to a file\n",
    "            with open(\"../data/processed/datasets_dict_mbtiles.json\", \"w\") as f:\n",
    "                json.dump(datasets_dict, f)"
   ]
  },
  {
   "cell_type": "code",
   "execution_count": null,
   "metadata": {},
   "outputs": [],
   "source": [
    "base_path = Path(\"../data/processed/RasterLayers\")\n",
    "file_name = \"MFH_fluvial_flood_depth_10-yr_rp\"\n",
    "input_path = base_path / Path(file_name).with_suffix(\".tif\")\n",
    "output_path = base_path / Path(file_name).with_suffix(\".mbtiles\")\n",
    "MBTilesConverter.convert(input_path, output_path)"
   ]
  },
  {
   "cell_type": "markdown",
   "metadata": {},
   "source": [
    "### Upload layers to Mapbox"
   ]
  },
  {
   "cell_type": "code",
   "execution_count": 4,
   "metadata": {},
   "outputs": [
    {
     "name": "stderr",
     "output_type": "stream",
     "text": [
      "  0%|          | 0/8 [00:00<?, ?it/s]"
     ]
    },
    {
     "name": "stdout",
     "output_type": "stream",
     "text": [
      "Model-based flood hazard\n"
     ]
    },
    {
     "name": "stderr",
     "output_type": "stream",
     "text": [
      "100%|██████████| 10/10 [00:00<00:00, 229196.94it/s]\n"
     ]
    },
    {
     "name": "stdout",
     "output_type": "stream",
     "text": [
      "EO-based flood hazard\n"
     ]
    },
    {
     "name": "stderr",
     "output_type": "stream",
     "text": [
      "100%|██████████| 2/2 [00:00<00:00, 38304.15it/s]\n"
     ]
    },
    {
     "name": "stdout",
     "output_type": "stream",
     "text": [
      "Meteorological drought hazard\n"
     ]
    },
    {
     "name": "stderr",
     "output_type": "stream",
     "text": [
      "INFO:helpers.mapbox_uploader:Uploading to Mapbox...\n"
     ]
    },
    {
     "name": "stdout",
     "output_type": "stream",
     "text": [
      "MDH_combined_spi_and_spei_indices\n"
     ]
    },
    {
     "name": "stderr",
     "output_type": "stream",
     "text": [
      "INFO:helpers.mapbox_uploader:Uploading to S3...\n",
      "  0%|          | 0/1 [00:01<?, ?it/s]\n",
      " 25%|██▌       | 2/8 [00:01<00:04,  1.22it/s]\n"
     ]
    },
    {
     "name": "stdout",
     "output_type": "stream",
     "text": [
      "upload: ../data/processed/RasterLayers/MDH_combined_spi_and_spei_indices.tif to s3://tilestream-tilesets-production/46/_pending/vk61klateom19wy2ny0vo12mc/wims\n"
     ]
    },
    {
     "ename": "KeyboardInterrupt",
     "evalue": "",
     "output_type": "error",
     "traceback": [
      "\u001b[0;31m---------------------------------------------------------------------------\u001b[0m",
      "\u001b[0;31mKeyboardInterrupt\u001b[0m                         Traceback (most recent call last)",
      "Cell \u001b[0;32mIn[4], line 41\u001b[0m\n\u001b[1;32m     38\u001b[0m     output_path \u001b[38;5;241m=\u001b[39m base_path \u001b[38;5;241m/\u001b[39m Path(file_name)\u001b[38;5;241m.\u001b[39mwith_suffix(\u001b[38;5;124m\"\u001b[39m\u001b[38;5;124m.mbtiles\u001b[39m\u001b[38;5;124m\"\u001b[39m)\n\u001b[1;32m     40\u001b[0m \u001b[38;5;66;03m# Upload to Mapbox\u001b[39;00m\n\u001b[0;32m---> 41\u001b[0m upload_name \u001b[38;5;241m=\u001b[39m \u001b[43mupload_to_mapbox\u001b[49m\u001b[43m(\u001b[49m\n\u001b[1;32m     42\u001b[0m \u001b[43m    \u001b[49m\u001b[43moutput_path\u001b[49m\u001b[43m,\u001b[49m\n\u001b[1;32m     43\u001b[0m \u001b[43m    \u001b[49m\u001b[43mfile_name\u001b[49m\u001b[43m,\u001b[49m\n\u001b[1;32m     44\u001b[0m \u001b[43m    \u001b[49m\u001b[43msettings\u001b[49m\u001b[38;5;241;43m.\u001b[39;49m\u001b[43mMAPBOX_USER\u001b[49m\u001b[43m,\u001b[49m\n\u001b[1;32m     45\u001b[0m \u001b[43m    \u001b[49m\u001b[43msettings\u001b[49m\u001b[38;5;241;43m.\u001b[39;49m\u001b[43mMAPBOX_TOKEN\u001b[49m\u001b[43m,\u001b[49m\n\u001b[1;32m     46\u001b[0m \u001b[43m\u001b[49m\u001b[43m)\u001b[49m\n\u001b[1;32m     48\u001b[0m \u001b[38;5;66;03m# Save datasets_dict to a file\u001b[39;00m\n\u001b[1;32m     49\u001b[0m \u001b[38;5;28;01mwith\u001b[39;00m \u001b[38;5;28mopen\u001b[39m(\u001b[38;5;124m\"\u001b[39m\u001b[38;5;124m../data/processed/datasets_dict_mapbox.json\u001b[39m\u001b[38;5;124m\"\u001b[39m, \u001b[38;5;124m\"\u001b[39m\u001b[38;5;124mw\u001b[39m\u001b[38;5;124m\"\u001b[39m) \u001b[38;5;28;01mas\u001b[39;00m f:\n",
      "File \u001b[0;32m~/Vizzuality/Proiektuak/wims-south-sudan/data-processing/notebooks/../src/helpers/mapbox_uploader.py:26\u001b[0m, in \u001b[0;36mupload_to_mapbox\u001b[0;34m(source, display_name, username, token)\u001b[0m\n\u001b[1;32m     23\u001b[0m tileset_name \u001b[38;5;241m=\u001b[39m source\u001b[38;5;241m.\u001b[39mstem\n\u001b[1;32m     24\u001b[0m mapbox_credentials \u001b[38;5;241m=\u001b[39m get_s3_credentials(username, token)\n\u001b[0;32m---> 26\u001b[0m upload_status \u001b[38;5;241m=\u001b[39m \u001b[43mupload_to_s3\u001b[49m\u001b[43m(\u001b[49m\u001b[43msource\u001b[49m\u001b[43m,\u001b[49m\u001b[43m \u001b[49m\u001b[43mmapbox_credentials\u001b[49m\u001b[43m)\u001b[49m\n\u001b[1;32m     27\u001b[0m logger\u001b[38;5;241m.\u001b[39minfo(upload_status)\n\u001b[1;32m     28\u001b[0m result \u001b[38;5;241m=\u001b[39m link_to_mapbox(username, token, mapbox_credentials, tileset_name, display_name)\n",
      "File \u001b[0;32m~/Vizzuality/Proiektuak/wims-south-sudan/data-processing/notebooks/../src/helpers/mapbox_uploader.py:58\u001b[0m, in \u001b[0;36mupload_to_s3\u001b[0;34m(source, credentials)\u001b[0m\n\u001b[1;32m     56\u001b[0m logger\u001b[38;5;241m.\u001b[39minfo(\u001b[38;5;124m\"\u001b[39m\u001b[38;5;124mUploading to S3...\u001b[39m\u001b[38;5;124m\"\u001b[39m)\n\u001b[1;32m     57\u001b[0m set_s3_credentials(credentials)\n\u001b[0;32m---> 58\u001b[0m status \u001b[38;5;241m=\u001b[39m \u001b[43msubprocess\u001b[49m\u001b[38;5;241;43m.\u001b[39;49m\u001b[43mrun\u001b[49m\u001b[43m(\u001b[49m\n\u001b[1;32m     59\u001b[0m \u001b[43m    \u001b[49m\u001b[38;5;124;43mf\u001b[39;49m\u001b[38;5;124;43m\"\u001b[39;49m\u001b[38;5;124;43maws s3 cp \u001b[39;49m\u001b[38;5;132;43;01m{\u001b[39;49;00m\u001b[43msource\u001b[49m\u001b[38;5;132;43;01m}\u001b[39;49;00m\u001b[38;5;124;43m s3://\u001b[39;49m\u001b[38;5;132;43;01m{\u001b[39;49;00m\u001b[43mcredentials\u001b[49m\u001b[43m[\u001b[49m\u001b[38;5;124;43m'\u001b[39;49m\u001b[38;5;124;43mbucket\u001b[39;49m\u001b[38;5;124;43m'\u001b[39;49m\u001b[43m]\u001b[49m\u001b[38;5;132;43;01m}\u001b[39;49;00m\u001b[38;5;124;43m/\u001b[39;49m\u001b[38;5;132;43;01m{\u001b[39;49;00m\u001b[43mcredentials\u001b[49m\u001b[43m[\u001b[49m\u001b[38;5;124;43m'\u001b[39;49m\u001b[38;5;124;43mkey\u001b[39;49m\u001b[38;5;124;43m'\u001b[39;49m\u001b[43m]\u001b[49m\u001b[38;5;132;43;01m}\u001b[39;49;00m\u001b[38;5;124;43m --region us-east-1\u001b[39;49m\u001b[38;5;124;43m\"\u001b[39;49m\u001b[43m,\u001b[49m\n\u001b[1;32m     60\u001b[0m \u001b[43m    \u001b[49m\u001b[43mshell\u001b[49m\u001b[38;5;241;43m=\u001b[39;49m\u001b[38;5;28;43;01mTrue\u001b[39;49;00m\u001b[43m,\u001b[49m\n\u001b[1;32m     61\u001b[0m \u001b[43m    \u001b[49m\u001b[43mcheck\u001b[49m\u001b[38;5;241;43m=\u001b[39;49m\u001b[38;5;28;43;01mTrue\u001b[39;49;00m\u001b[43m,\u001b[49m\n\u001b[1;32m     62\u001b[0m \u001b[43m\u001b[49m\u001b[43m)\u001b[49m\n\u001b[1;32m     64\u001b[0m \u001b[38;5;28;01mif\u001b[39;00m status\u001b[38;5;241m.\u001b[39mreturncode \u001b[38;5;241m!=\u001b[39m \u001b[38;5;241m0\u001b[39m:\n\u001b[1;32m     65\u001b[0m     \u001b[38;5;28;01mraise\u001b[39;00m \u001b[38;5;167;01mValueError\u001b[39;00m(\u001b[38;5;124mf\u001b[39m\u001b[38;5;124m\"\u001b[39m\u001b[38;5;124mUpload to S3 failed with status \u001b[39m\u001b[38;5;132;01m{\u001b[39;00mstatus\u001b[38;5;241m.\u001b[39mreturncode\u001b[38;5;132;01m}\u001b[39;00m\u001b[38;5;124m\"\u001b[39m)\n",
      "File \u001b[0;32m~/mambaforge/envs/south_sudan_pilot_gmv/lib/python3.12/subprocess.py:550\u001b[0m, in \u001b[0;36mrun\u001b[0;34m(input, capture_output, timeout, check, *popenargs, **kwargs)\u001b[0m\n\u001b[1;32m    548\u001b[0m \u001b[38;5;28;01mwith\u001b[39;00m Popen(\u001b[38;5;241m*\u001b[39mpopenargs, \u001b[38;5;241m*\u001b[39m\u001b[38;5;241m*\u001b[39mkwargs) \u001b[38;5;28;01mas\u001b[39;00m process:\n\u001b[1;32m    549\u001b[0m     \u001b[38;5;28;01mtry\u001b[39;00m:\n\u001b[0;32m--> 550\u001b[0m         stdout, stderr \u001b[38;5;241m=\u001b[39m \u001b[43mprocess\u001b[49m\u001b[38;5;241;43m.\u001b[39;49m\u001b[43mcommunicate\u001b[49m\u001b[43m(\u001b[49m\u001b[38;5;28;43minput\u001b[39;49m\u001b[43m,\u001b[49m\u001b[43m \u001b[49m\u001b[43mtimeout\u001b[49m\u001b[38;5;241;43m=\u001b[39;49m\u001b[43mtimeout\u001b[49m\u001b[43m)\u001b[49m\n\u001b[1;32m    551\u001b[0m     \u001b[38;5;28;01mexcept\u001b[39;00m TimeoutExpired \u001b[38;5;28;01mas\u001b[39;00m exc:\n\u001b[1;32m    552\u001b[0m         process\u001b[38;5;241m.\u001b[39mkill()\n",
      "File \u001b[0;32m~/mambaforge/envs/south_sudan_pilot_gmv/lib/python3.12/subprocess.py:1201\u001b[0m, in \u001b[0;36mPopen.communicate\u001b[0;34m(self, input, timeout)\u001b[0m\n\u001b[1;32m   1199\u001b[0m         stderr \u001b[38;5;241m=\u001b[39m \u001b[38;5;28mself\u001b[39m\u001b[38;5;241m.\u001b[39mstderr\u001b[38;5;241m.\u001b[39mread()\n\u001b[1;32m   1200\u001b[0m         \u001b[38;5;28mself\u001b[39m\u001b[38;5;241m.\u001b[39mstderr\u001b[38;5;241m.\u001b[39mclose()\n\u001b[0;32m-> 1201\u001b[0m     \u001b[38;5;28;43mself\u001b[39;49m\u001b[38;5;241;43m.\u001b[39;49m\u001b[43mwait\u001b[49m\u001b[43m(\u001b[49m\u001b[43m)\u001b[49m\n\u001b[1;32m   1202\u001b[0m \u001b[38;5;28;01melse\u001b[39;00m:\n\u001b[1;32m   1203\u001b[0m     \u001b[38;5;28;01mif\u001b[39;00m timeout \u001b[38;5;129;01mis\u001b[39;00m \u001b[38;5;129;01mnot\u001b[39;00m \u001b[38;5;28;01mNone\u001b[39;00m:\n",
      "File \u001b[0;32m~/mambaforge/envs/south_sudan_pilot_gmv/lib/python3.12/subprocess.py:1264\u001b[0m, in \u001b[0;36mPopen.wait\u001b[0;34m(self, timeout)\u001b[0m\n\u001b[1;32m   1262\u001b[0m     endtime \u001b[38;5;241m=\u001b[39m _time() \u001b[38;5;241m+\u001b[39m timeout\n\u001b[1;32m   1263\u001b[0m \u001b[38;5;28;01mtry\u001b[39;00m:\n\u001b[0;32m-> 1264\u001b[0m     \u001b[38;5;28;01mreturn\u001b[39;00m \u001b[38;5;28;43mself\u001b[39;49m\u001b[38;5;241;43m.\u001b[39;49m\u001b[43m_wait\u001b[49m\u001b[43m(\u001b[49m\u001b[43mtimeout\u001b[49m\u001b[38;5;241;43m=\u001b[39;49m\u001b[43mtimeout\u001b[49m\u001b[43m)\u001b[49m\n\u001b[1;32m   1265\u001b[0m \u001b[38;5;28;01mexcept\u001b[39;00m \u001b[38;5;167;01mKeyboardInterrupt\u001b[39;00m:\n\u001b[1;32m   1266\u001b[0m     \u001b[38;5;66;03m# https://bugs.python.org/issue25942\u001b[39;00m\n\u001b[1;32m   1267\u001b[0m     \u001b[38;5;66;03m# The first keyboard interrupt waits briefly for the child to\u001b[39;00m\n\u001b[1;32m   1268\u001b[0m     \u001b[38;5;66;03m# exit under the common assumption that it also received the ^C\u001b[39;00m\n\u001b[1;32m   1269\u001b[0m     \u001b[38;5;66;03m# generated SIGINT and will exit rapidly.\u001b[39;00m\n\u001b[1;32m   1270\u001b[0m     \u001b[38;5;28;01mif\u001b[39;00m timeout \u001b[38;5;129;01mis\u001b[39;00m \u001b[38;5;129;01mnot\u001b[39;00m \u001b[38;5;28;01mNone\u001b[39;00m:\n",
      "File \u001b[0;32m~/mambaforge/envs/south_sudan_pilot_gmv/lib/python3.12/subprocess.py:2053\u001b[0m, in \u001b[0;36mPopen._wait\u001b[0;34m(self, timeout)\u001b[0m\n\u001b[1;32m   2051\u001b[0m \u001b[38;5;28;01mif\u001b[39;00m \u001b[38;5;28mself\u001b[39m\u001b[38;5;241m.\u001b[39mreturncode \u001b[38;5;129;01mis\u001b[39;00m \u001b[38;5;129;01mnot\u001b[39;00m \u001b[38;5;28;01mNone\u001b[39;00m:\n\u001b[1;32m   2052\u001b[0m     \u001b[38;5;28;01mbreak\u001b[39;00m  \u001b[38;5;66;03m# Another thread waited.\u001b[39;00m\n\u001b[0;32m-> 2053\u001b[0m (pid, sts) \u001b[38;5;241m=\u001b[39m \u001b[38;5;28;43mself\u001b[39;49m\u001b[38;5;241;43m.\u001b[39;49m\u001b[43m_try_wait\u001b[49m\u001b[43m(\u001b[49m\u001b[38;5;241;43m0\u001b[39;49m\u001b[43m)\u001b[49m\n\u001b[1;32m   2054\u001b[0m \u001b[38;5;66;03m# Check the pid and loop as waitpid has been known to\u001b[39;00m\n\u001b[1;32m   2055\u001b[0m \u001b[38;5;66;03m# return 0 even without WNOHANG in odd situations.\u001b[39;00m\n\u001b[1;32m   2056\u001b[0m \u001b[38;5;66;03m# http://bugs.python.org/issue14396.\u001b[39;00m\n\u001b[1;32m   2057\u001b[0m \u001b[38;5;28;01mif\u001b[39;00m pid \u001b[38;5;241m==\u001b[39m \u001b[38;5;28mself\u001b[39m\u001b[38;5;241m.\u001b[39mpid:\n",
      "File \u001b[0;32m~/mambaforge/envs/south_sudan_pilot_gmv/lib/python3.12/subprocess.py:2011\u001b[0m, in \u001b[0;36mPopen._try_wait\u001b[0;34m(self, wait_flags)\u001b[0m\n\u001b[1;32m   2009\u001b[0m \u001b[38;5;250m\u001b[39m\u001b[38;5;124;03m\"\"\"All callers to this function MUST hold self._waitpid_lock.\"\"\"\u001b[39;00m\n\u001b[1;32m   2010\u001b[0m \u001b[38;5;28;01mtry\u001b[39;00m:\n\u001b[0;32m-> 2011\u001b[0m     (pid, sts) \u001b[38;5;241m=\u001b[39m \u001b[43mos\u001b[49m\u001b[38;5;241;43m.\u001b[39;49m\u001b[43mwaitpid\u001b[49m\u001b[43m(\u001b[49m\u001b[38;5;28;43mself\u001b[39;49m\u001b[38;5;241;43m.\u001b[39;49m\u001b[43mpid\u001b[49m\u001b[43m,\u001b[49m\u001b[43m \u001b[49m\u001b[43mwait_flags\u001b[49m\u001b[43m)\u001b[49m\n\u001b[1;32m   2012\u001b[0m \u001b[38;5;28;01mexcept\u001b[39;00m \u001b[38;5;167;01mChildProcessError\u001b[39;00m:\n\u001b[1;32m   2013\u001b[0m     \u001b[38;5;66;03m# This happens if SIGCLD is set to be ignored or waiting\u001b[39;00m\n\u001b[1;32m   2014\u001b[0m     \u001b[38;5;66;03m# for child processes has otherwise been disabled for our\u001b[39;00m\n\u001b[1;32m   2015\u001b[0m     \u001b[38;5;66;03m# process.  This child is dead, we can't get the status.\u001b[39;00m\n\u001b[1;32m   2016\u001b[0m     pid \u001b[38;5;241m=\u001b[39m \u001b[38;5;28mself\u001b[39m\u001b[38;5;241m.\u001b[39mpid\n",
      "\u001b[0;31mKeyboardInterrupt\u001b[0m: "
     ]
    }
   ],
   "source": [
    "datasets_list = [\n",
    "    \"Model-based flood hazard\",\n",
    "    \"EO-based flood hazard\",\n",
    "    \"Meteorological drought hazard\",\n",
    "    \"Agricultural drought hazard\",\n",
    "    \"Model-based flood exposure\",\n",
    "    \"EO-based flood exposure\",\n",
    "    \"Meteorological drought exposure\",\n",
    "    \"Agricultural drought exposure\",\n",
    "]\n",
    "\n",
    "# Load datasets_dict\n",
    "with open(\"../data/processed/datasets_dict_mapbox.json\", \"r\") as file:\n",
    "    datasets_dict = json.load(file)\n",
    "\n",
    "for dataset_name in tqdm(datasets_list):\n",
    "    print(dataset_name)\n",
    "    shortened_dataset_name = \"\".join(word[0] for word in dataset_name.split()).upper()\n",
    "\n",
    "    dataset = datasets.get(dataset_name)\n",
    "    layers = dataset.layers()\n",
    "    dataset_layers = datasets_dict.get(dataset_name, {})\n",
    "    for layer_name, layer in tqdm(layers.items()):\n",
    "        if layer_name not in dataset_layers:\n",
    "            layer_name_lower = layer_name.lower().replace(\" - \", \" \").replace(\" \", \"_\")\n",
    "            file_name = f\"{shortened_dataset_name}_{layer_name_lower}\"\n",
    "            print(f\"{shortened_dataset_name}_{layer_name_lower}\")\n",
    "            dataset_layers[layer_name] = file_name\n",
    "            datasets_dict[dataset_name] = dataset_layers\n",
    "            if layer.type == \"raster\" and layer.format == \"GeoTIFF\":\n",
    "                # Define the output path\n",
    "                base_path = Path(\"../data/processed/RasterLayers\")\n",
    "                output_path = base_path / Path(file_name).with_suffix(\".tif\")\n",
    "\n",
    "            elif layer.type == \"vector\":\n",
    "                # Define the output path\n",
    "                base_path = Path(\"../data/processed/VectorLayers\")\n",
    "                output_path = base_path / Path(file_name).with_suffix(\".mbtiles\")\n",
    "\n",
    "            # Upload to Mapbox\n",
    "            upload_name = upload_to_mapbox(\n",
    "                output_path,\n",
    "                file_name,\n",
    "                settings.MAPBOX_USER,\n",
    "                settings.MAPBOX_TOKEN,\n",
    "            )\n",
    "\n",
    "            # Save datasets_dict to a file\n",
    "            with open(\"../data/processed/datasets_dict_mapbox.json\", \"w\") as f:\n",
    "                json.dump(datasets_dict, f)"
   ]
  },
  {
   "cell_type": "markdown",
   "metadata": {},
   "source": [
    "## Animated raster data"
   ]
  },
  {
   "cell_type": "code",
   "execution_count": 19,
   "metadata": {},
   "outputs": [
    {
     "data": {
      "text/plain": [
       "{'Hydrometeorological Data': {'Evapotranspiration': <datasets.datasets.Layer at 0x7f99970f5eb0>,\n",
       "  'Precipitation': <datasets.datasets.Layer at 0x7f99970f5fa0>,\n",
       "  'Soil moisture': <datasets.datasets.Layer at 0x7f99970f4b60>,\n",
       "  'Temperature': <datasets.datasets.Layer at 0x7f99970f6c60>}}"
      ]
     },
     "execution_count": 19,
     "metadata": {},
     "output_type": "execute_result"
    }
   ],
   "source": [
    "raster_layers = {}\n",
    "for dataset_name, dataset in datasets.items():\n",
    "    layers = dataset.layers()\n",
    "    dataset_layers = {}\n",
    "    for layer_name, layer in layers.items():\n",
    "        if layer.type == \"raster\" and layer.format == \"Zarr\":\n",
    "            dataset_layers[layer_name] = layer\n",
    "    if dataset_layers:\n",
    "        raster_layers[dataset_name] = dataset_layers\n",
    "\n",
    "raster_layers"
   ]
  },
  {
   "cell_type": "code",
   "execution_count": 30,
   "metadata": {},
   "outputs": [
    {
     "name": "stdout",
     "output_type": "stream",
     "text": [
      "Loading Zarr data from gs://wbhydross_deliverables/D3-Database/02- Meteorological datasets/Evapotranspiration-WaPOR/WBHYDROSSD_WaPOR_Evapotranspiration_100m_SouthSudan_2023_20240220.zarr...\n"
     ]
    }
   ],
   "source": [
    "layer = raster_layers[\"Hydrometeorological Data\"][\"Evapotranspiration\"]\n",
    "ds = layer.get_data()"
   ]
  },
  {
   "cell_type": "code",
   "execution_count": 32,
   "metadata": {},
   "outputs": [
    {
     "data": {
      "text/html": [
       "<div><svg style=\"position: absolute; width: 0; height: 0; overflow: hidden\">\n",
       "<defs>\n",
       "<symbol id=\"icon-database\" viewBox=\"0 0 32 32\">\n",
       "<path d=\"M16 0c-8.837 0-16 2.239-16 5v4c0 2.761 7.163 5 16 5s16-2.239 16-5v-4c0-2.761-7.163-5-16-5z\"></path>\n",
       "<path d=\"M16 17c-8.837 0-16-2.239-16-5v6c0 2.761 7.163 5 16 5s16-2.239 16-5v-6c0 2.761-7.163 5-16 5z\"></path>\n",
       "<path d=\"M16 26c-8.837 0-16-2.239-16-5v6c0 2.761 7.163 5 16 5s16-2.239 16-5v-6c0 2.761-7.163 5-16 5z\"></path>\n",
       "</symbol>\n",
       "<symbol id=\"icon-file-text2\" viewBox=\"0 0 32 32\">\n",
       "<path d=\"M28.681 7.159c-0.694-0.947-1.662-2.053-2.724-3.116s-2.169-2.030-3.116-2.724c-1.612-1.182-2.393-1.319-2.841-1.319h-15.5c-1.378 0-2.5 1.121-2.5 2.5v27c0 1.378 1.122 2.5 2.5 2.5h23c1.378 0 2.5-1.122 2.5-2.5v-19.5c0-0.448-0.137-1.23-1.319-2.841zM24.543 5.457c0.959 0.959 1.712 1.825 2.268 2.543h-4.811v-4.811c0.718 0.556 1.584 1.309 2.543 2.268zM28 29.5c0 0.271-0.229 0.5-0.5 0.5h-23c-0.271 0-0.5-0.229-0.5-0.5v-27c0-0.271 0.229-0.5 0.5-0.5 0 0 15.499-0 15.5 0v7c0 0.552 0.448 1 1 1h7v19.5z\"></path>\n",
       "<path d=\"M23 26h-14c-0.552 0-1-0.448-1-1s0.448-1 1-1h14c0.552 0 1 0.448 1 1s-0.448 1-1 1z\"></path>\n",
       "<path d=\"M23 22h-14c-0.552 0-1-0.448-1-1s0.448-1 1-1h14c0.552 0 1 0.448 1 1s-0.448 1-1 1z\"></path>\n",
       "<path d=\"M23 18h-14c-0.552 0-1-0.448-1-1s0.448-1 1-1h14c0.552 0 1 0.448 1 1s-0.448 1-1 1z\"></path>\n",
       "</symbol>\n",
       "</defs>\n",
       "</svg>\n",
       "<style>/* CSS stylesheet for displaying xarray objects in jupyterlab.\n",
       " *\n",
       " */\n",
       "\n",
       ":root {\n",
       "  --xr-font-color0: var(--jp-content-font-color0, rgba(0, 0, 0, 1));\n",
       "  --xr-font-color2: var(--jp-content-font-color2, rgba(0, 0, 0, 0.54));\n",
       "  --xr-font-color3: var(--jp-content-font-color3, rgba(0, 0, 0, 0.38));\n",
       "  --xr-border-color: var(--jp-border-color2, #e0e0e0);\n",
       "  --xr-disabled-color: var(--jp-layout-color3, #bdbdbd);\n",
       "  --xr-background-color: var(--jp-layout-color0, white);\n",
       "  --xr-background-color-row-even: var(--jp-layout-color1, white);\n",
       "  --xr-background-color-row-odd: var(--jp-layout-color2, #eeeeee);\n",
       "}\n",
       "\n",
       "html[theme=dark],\n",
       "body[data-theme=dark],\n",
       "body.vscode-dark {\n",
       "  --xr-font-color0: rgba(255, 255, 255, 1);\n",
       "  --xr-font-color2: rgba(255, 255, 255, 0.54);\n",
       "  --xr-font-color3: rgba(255, 255, 255, 0.38);\n",
       "  --xr-border-color: #1F1F1F;\n",
       "  --xr-disabled-color: #515151;\n",
       "  --xr-background-color: #111111;\n",
       "  --xr-background-color-row-even: #111111;\n",
       "  --xr-background-color-row-odd: #313131;\n",
       "}\n",
       "\n",
       ".xr-wrap {\n",
       "  display: block !important;\n",
       "  min-width: 300px;\n",
       "  max-width: 700px;\n",
       "}\n",
       "\n",
       ".xr-text-repr-fallback {\n",
       "  /* fallback to plain text repr when CSS is not injected (untrusted notebook) */\n",
       "  display: none;\n",
       "}\n",
       "\n",
       ".xr-header {\n",
       "  padding-top: 6px;\n",
       "  padding-bottom: 6px;\n",
       "  margin-bottom: 4px;\n",
       "  border-bottom: solid 1px var(--xr-border-color);\n",
       "}\n",
       "\n",
       ".xr-header > div,\n",
       ".xr-header > ul {\n",
       "  display: inline;\n",
       "  margin-top: 0;\n",
       "  margin-bottom: 0;\n",
       "}\n",
       "\n",
       ".xr-obj-type,\n",
       ".xr-array-name {\n",
       "  margin-left: 2px;\n",
       "  margin-right: 10px;\n",
       "}\n",
       "\n",
       ".xr-obj-type {\n",
       "  color: var(--xr-font-color2);\n",
       "}\n",
       "\n",
       ".xr-sections {\n",
       "  padding-left: 0 !important;\n",
       "  display: grid;\n",
       "  grid-template-columns: 150px auto auto 1fr 20px 20px;\n",
       "}\n",
       "\n",
       ".xr-section-item {\n",
       "  display: contents;\n",
       "}\n",
       "\n",
       ".xr-section-item input {\n",
       "  display: none;\n",
       "}\n",
       "\n",
       ".xr-section-item input + label {\n",
       "  color: var(--xr-disabled-color);\n",
       "}\n",
       "\n",
       ".xr-section-item input:enabled + label {\n",
       "  cursor: pointer;\n",
       "  color: var(--xr-font-color2);\n",
       "}\n",
       "\n",
       ".xr-section-item input:enabled + label:hover {\n",
       "  color: var(--xr-font-color0);\n",
       "}\n",
       "\n",
       ".xr-section-summary {\n",
       "  grid-column: 1;\n",
       "  color: var(--xr-font-color2);\n",
       "  font-weight: 500;\n",
       "}\n",
       "\n",
       ".xr-section-summary > span {\n",
       "  display: inline-block;\n",
       "  padding-left: 0.5em;\n",
       "}\n",
       "\n",
       ".xr-section-summary-in:disabled + label {\n",
       "  color: var(--xr-font-color2);\n",
       "}\n",
       "\n",
       ".xr-section-summary-in + label:before {\n",
       "  display: inline-block;\n",
       "  content: '►';\n",
       "  font-size: 11px;\n",
       "  width: 15px;\n",
       "  text-align: center;\n",
       "}\n",
       "\n",
       ".xr-section-summary-in:disabled + label:before {\n",
       "  color: var(--xr-disabled-color);\n",
       "}\n",
       "\n",
       ".xr-section-summary-in:checked + label:before {\n",
       "  content: '▼';\n",
       "}\n",
       "\n",
       ".xr-section-summary-in:checked + label > span {\n",
       "  display: none;\n",
       "}\n",
       "\n",
       ".xr-section-summary,\n",
       ".xr-section-inline-details {\n",
       "  padding-top: 4px;\n",
       "  padding-bottom: 4px;\n",
       "}\n",
       "\n",
       ".xr-section-inline-details {\n",
       "  grid-column: 2 / -1;\n",
       "}\n",
       "\n",
       ".xr-section-details {\n",
       "  display: none;\n",
       "  grid-column: 1 / -1;\n",
       "  margin-bottom: 5px;\n",
       "}\n",
       "\n",
       ".xr-section-summary-in:checked ~ .xr-section-details {\n",
       "  display: contents;\n",
       "}\n",
       "\n",
       ".xr-array-wrap {\n",
       "  grid-column: 1 / -1;\n",
       "  display: grid;\n",
       "  grid-template-columns: 20px auto;\n",
       "}\n",
       "\n",
       ".xr-array-wrap > label {\n",
       "  grid-column: 1;\n",
       "  vertical-align: top;\n",
       "}\n",
       "\n",
       ".xr-preview {\n",
       "  color: var(--xr-font-color3);\n",
       "}\n",
       "\n",
       ".xr-array-preview,\n",
       ".xr-array-data {\n",
       "  padding: 0 5px !important;\n",
       "  grid-column: 2;\n",
       "}\n",
       "\n",
       ".xr-array-data,\n",
       ".xr-array-in:checked ~ .xr-array-preview {\n",
       "  display: none;\n",
       "}\n",
       "\n",
       ".xr-array-in:checked ~ .xr-array-data,\n",
       ".xr-array-preview {\n",
       "  display: inline-block;\n",
       "}\n",
       "\n",
       ".xr-dim-list {\n",
       "  display: inline-block !important;\n",
       "  list-style: none;\n",
       "  padding: 0 !important;\n",
       "  margin: 0;\n",
       "}\n",
       "\n",
       ".xr-dim-list li {\n",
       "  display: inline-block;\n",
       "  padding: 0;\n",
       "  margin: 0;\n",
       "}\n",
       "\n",
       ".xr-dim-list:before {\n",
       "  content: '(';\n",
       "}\n",
       "\n",
       ".xr-dim-list:after {\n",
       "  content: ')';\n",
       "}\n",
       "\n",
       ".xr-dim-list li:not(:last-child):after {\n",
       "  content: ',';\n",
       "  padding-right: 5px;\n",
       "}\n",
       "\n",
       ".xr-has-index {\n",
       "  font-weight: bold;\n",
       "}\n",
       "\n",
       ".xr-var-list,\n",
       ".xr-var-item {\n",
       "  display: contents;\n",
       "}\n",
       "\n",
       ".xr-var-item > div,\n",
       ".xr-var-item label,\n",
       ".xr-var-item > .xr-var-name span {\n",
       "  background-color: var(--xr-background-color-row-even);\n",
       "  margin-bottom: 0;\n",
       "}\n",
       "\n",
       ".xr-var-item > .xr-var-name:hover span {\n",
       "  padding-right: 5px;\n",
       "}\n",
       "\n",
       ".xr-var-list > li:nth-child(odd) > div,\n",
       ".xr-var-list > li:nth-child(odd) > label,\n",
       ".xr-var-list > li:nth-child(odd) > .xr-var-name span {\n",
       "  background-color: var(--xr-background-color-row-odd);\n",
       "}\n",
       "\n",
       ".xr-var-name {\n",
       "  grid-column: 1;\n",
       "}\n",
       "\n",
       ".xr-var-dims {\n",
       "  grid-column: 2;\n",
       "}\n",
       "\n",
       ".xr-var-dtype {\n",
       "  grid-column: 3;\n",
       "  text-align: right;\n",
       "  color: var(--xr-font-color2);\n",
       "}\n",
       "\n",
       ".xr-var-preview {\n",
       "  grid-column: 4;\n",
       "}\n",
       "\n",
       ".xr-index-preview {\n",
       "  grid-column: 2 / 5;\n",
       "  color: var(--xr-font-color2);\n",
       "}\n",
       "\n",
       ".xr-var-name,\n",
       ".xr-var-dims,\n",
       ".xr-var-dtype,\n",
       ".xr-preview,\n",
       ".xr-attrs dt {\n",
       "  white-space: nowrap;\n",
       "  overflow: hidden;\n",
       "  text-overflow: ellipsis;\n",
       "  padding-right: 10px;\n",
       "}\n",
       "\n",
       ".xr-var-name:hover,\n",
       ".xr-var-dims:hover,\n",
       ".xr-var-dtype:hover,\n",
       ".xr-attrs dt:hover {\n",
       "  overflow: visible;\n",
       "  width: auto;\n",
       "  z-index: 1;\n",
       "}\n",
       "\n",
       ".xr-var-attrs,\n",
       ".xr-var-data,\n",
       ".xr-index-data {\n",
       "  display: none;\n",
       "  background-color: var(--xr-background-color) !important;\n",
       "  padding-bottom: 5px !important;\n",
       "}\n",
       "\n",
       ".xr-var-attrs-in:checked ~ .xr-var-attrs,\n",
       ".xr-var-data-in:checked ~ .xr-var-data,\n",
       ".xr-index-data-in:checked ~ .xr-index-data {\n",
       "  display: block;\n",
       "}\n",
       "\n",
       ".xr-var-data > table {\n",
       "  float: right;\n",
       "}\n",
       "\n",
       ".xr-var-name span,\n",
       ".xr-var-data,\n",
       ".xr-index-name div,\n",
       ".xr-index-data,\n",
       ".xr-attrs {\n",
       "  padding-left: 25px !important;\n",
       "}\n",
       "\n",
       ".xr-attrs,\n",
       ".xr-var-attrs,\n",
       ".xr-var-data,\n",
       ".xr-index-data {\n",
       "  grid-column: 1 / -1;\n",
       "}\n",
       "\n",
       "dl.xr-attrs {\n",
       "  padding: 0;\n",
       "  margin: 0;\n",
       "  display: grid;\n",
       "  grid-template-columns: 125px auto;\n",
       "}\n",
       "\n",
       ".xr-attrs dt,\n",
       ".xr-attrs dd {\n",
       "  padding: 0;\n",
       "  margin: 0;\n",
       "  float: left;\n",
       "  padding-right: 10px;\n",
       "  width: auto;\n",
       "}\n",
       "\n",
       ".xr-attrs dt {\n",
       "  font-weight: normal;\n",
       "  grid-column: 1;\n",
       "}\n",
       "\n",
       ".xr-attrs dt:hover span {\n",
       "  display: inline-block;\n",
       "  background: var(--xr-background-color);\n",
       "  padding-right: 10px;\n",
       "}\n",
       "\n",
       ".xr-attrs dd {\n",
       "  grid-column: 2;\n",
       "  white-space: pre-wrap;\n",
       "  word-break: break-all;\n",
       "}\n",
       "\n",
       ".xr-icon-database,\n",
       ".xr-icon-file-text2,\n",
       ".xr-no-icon {\n",
       "  display: inline-block;\n",
       "  vertical-align: middle;\n",
       "  width: 1em;\n",
       "  height: 1.5em !important;\n",
       "  stroke-width: 0;\n",
       "  stroke: currentColor;\n",
       "  fill: currentColor;\n",
       "}\n",
       "</style><pre class='xr-text-repr-fallback'>&lt;xarray.Dataset&gt; Size: 12GB\n",
       "Dimensions:      (months: 12, y: 9728, x: 12800)\n",
       "Coordinates:\n",
       "  * months       (months) int32 48B 1 2 3 4 5 6 7 8 9 10 11 12\n",
       "  * x            (x) float64 102kB 23.83 23.83 23.83 23.83 ... 36.33 36.33 36.33\n",
       "  * y            (y) float64 78kB 12.7 12.7 12.7 12.7 ... 3.203 3.202 3.201 3.2\n",
       "Data variables:\n",
       "    AETI         (months, y, x) float64 12GB dask.array&lt;chunksize=(1, 9728, 12800), meta=np.ndarray&gt;\n",
       "    spatial_ref  int32 4B ...</pre><div class='xr-wrap' style='display:none'><div class='xr-header'><div class='xr-obj-type'>xarray.Dataset</div></div><ul class='xr-sections'><li class='xr-section-item'><input id='section-5932e99c-bf83-4634-9598-fb08d8d4b447' class='xr-section-summary-in' type='checkbox' disabled ><label for='section-5932e99c-bf83-4634-9598-fb08d8d4b447' class='xr-section-summary'  title='Expand/collapse section'>Dimensions:</label><div class='xr-section-inline-details'><ul class='xr-dim-list'><li><span class='xr-has-index'>months</span>: 12</li><li><span class='xr-has-index'>y</span>: 9728</li><li><span class='xr-has-index'>x</span>: 12800</li></ul></div><div class='xr-section-details'></div></li><li class='xr-section-item'><input id='section-bf395851-3c9a-4483-9517-a51529eed1af' class='xr-section-summary-in' type='checkbox'  checked><label for='section-bf395851-3c9a-4483-9517-a51529eed1af' class='xr-section-summary' >Coordinates: <span>(3)</span></label><div class='xr-section-inline-details'></div><div class='xr-section-details'><ul class='xr-var-list'><li class='xr-var-item'><div class='xr-var-name'><span class='xr-has-index'>months</span></div><div class='xr-var-dims'>(months)</div><div class='xr-var-dtype'>int32</div><div class='xr-var-preview xr-preview'>1 2 3 4 5 6 7 8 9 10 11 12</div><input id='attrs-e07cd79a-4209-4ff6-ae9b-eaea5ebc81bb' class='xr-var-attrs-in' type='checkbox' disabled><label for='attrs-e07cd79a-4209-4ff6-ae9b-eaea5ebc81bb' title='Show/Hide attributes'><svg class='icon xr-icon-file-text2'><use xlink:href='#icon-file-text2'></use></svg></label><input id='data-b1adf691-2e3f-4c74-b829-73a5bc132e7c' class='xr-var-data-in' type='checkbox'><label for='data-b1adf691-2e3f-4c74-b829-73a5bc132e7c' title='Show/Hide data repr'><svg class='icon xr-icon-database'><use xlink:href='#icon-database'></use></svg></label><div class='xr-var-attrs'><dl class='xr-attrs'></dl></div><div class='xr-var-data'><pre>array([ 1,  2,  3,  4,  5,  6,  7,  8,  9, 10, 11, 12], dtype=int32)</pre></div></li><li class='xr-var-item'><div class='xr-var-name'><span class='xr-has-index'>x</span></div><div class='xr-var-dims'>(x)</div><div class='xr-var-dtype'>float64</div><div class='xr-var-preview xr-preview'>23.83 23.83 23.83 ... 36.33 36.33</div><input id='attrs-f9e9802d-fa19-4707-ad67-28f9de1bdb9d' class='xr-var-attrs-in' type='checkbox' disabled><label for='attrs-f9e9802d-fa19-4707-ad67-28f9de1bdb9d' title='Show/Hide attributes'><svg class='icon xr-icon-file-text2'><use xlink:href='#icon-file-text2'></use></svg></label><input id='data-0e09a6e9-51a4-4757-b211-d94ea13928f3' class='xr-var-data-in' type='checkbox'><label for='data-0e09a6e9-51a4-4757-b211-d94ea13928f3' title='Show/Hide data repr'><svg class='icon xr-icon-database'><use xlink:href='#icon-database'></use></svg></label><div class='xr-var-attrs'><dl class='xr-attrs'></dl></div><div class='xr-var-data'><pre>array([23.82959 , 23.830566, 23.831543, ..., 36.32666 , 36.327637, 36.328613])</pre></div></li><li class='xr-var-item'><div class='xr-var-name'><span class='xr-has-index'>y</span></div><div class='xr-var-dims'>(y)</div><div class='xr-var-dtype'>float64</div><div class='xr-var-preview xr-preview'>12.7 12.7 12.7 ... 3.202 3.201 3.2</div><input id='attrs-e37f970a-f278-47aa-8f54-483f3566f304' class='xr-var-attrs-in' type='checkbox' disabled><label for='attrs-e37f970a-f278-47aa-8f54-483f3566f304' title='Show/Hide attributes'><svg class='icon xr-icon-file-text2'><use xlink:href='#icon-file-text2'></use></svg></label><input id='data-b63e2854-bfdd-49e2-8c22-7f8b13da79e7' class='xr-var-data-in' type='checkbox'><label for='data-b63e2854-bfdd-49e2-8c22-7f8b13da79e7' title='Show/Hide data repr'><svg class='icon xr-icon-database'><use xlink:href='#icon-database'></use></svg></label><div class='xr-var-attrs'><dl class='xr-attrs'></dl></div><div class='xr-var-data'><pre>array([12.69873 , 12.697754, 12.696777, ...,  3.20166 ,  3.200684,  3.199707])</pre></div></li></ul></div></li><li class='xr-section-item'><input id='section-bfbf11e2-13c4-4e07-87d8-4a07b04da71e' class='xr-section-summary-in' type='checkbox'  checked><label for='section-bfbf11e2-13c4-4e07-87d8-4a07b04da71e' class='xr-section-summary' >Data variables: <span>(2)</span></label><div class='xr-section-inline-details'></div><div class='xr-section-details'><ul class='xr-var-list'><li class='xr-var-item'><div class='xr-var-name'><span>AETI</span></div><div class='xr-var-dims'>(months, y, x)</div><div class='xr-var-dtype'>float64</div><div class='xr-var-preview xr-preview'>dask.array&lt;chunksize=(1, 9728, 12800), meta=np.ndarray&gt;</div><input id='attrs-4aad989a-1b7a-483c-b8ea-4331e9835ce6' class='xr-var-attrs-in' type='checkbox' ><label for='attrs-4aad989a-1b7a-483c-b8ea-4331e9835ce6' title='Show/Hide attributes'><svg class='icon xr-icon-file-text2'><use xlink:href='#icon-file-text2'></use></svg></label><input id='data-005ee864-c715-4c4c-979d-41e50baba9bf' class='xr-var-data-in' type='checkbox'><label for='data-005ee864-c715-4c4c-979d-41e50baba9bf' title='Show/Hide data repr'><svg class='icon xr-icon-database'><use xlink:href='#icon-database'></use></svg></label><div class='xr-var-attrs'><dl class='xr-attrs'><dt><span>grid_mapping :</span></dt><dd>spatial_ref</dd></dl></div><div class='xr-var-data'><table>\n",
       "    <tr>\n",
       "        <td>\n",
       "            <table style=\"border-collapse: collapse;\">\n",
       "                <thead>\n",
       "                    <tr>\n",
       "                        <td> </td>\n",
       "                        <th> Array </th>\n",
       "                        <th> Chunk </th>\n",
       "                    </tr>\n",
       "                </thead>\n",
       "                <tbody>\n",
       "                    \n",
       "                    <tr>\n",
       "                        <th> Bytes </th>\n",
       "                        <td> 11.13 GiB </td>\n",
       "                        <td> 0.93 GiB </td>\n",
       "                    </tr>\n",
       "                    \n",
       "                    <tr>\n",
       "                        <th> Shape </th>\n",
       "                        <td> (12, 9728, 12800) </td>\n",
       "                        <td> (1, 9728, 12800) </td>\n",
       "                    </tr>\n",
       "                    <tr>\n",
       "                        <th> Dask graph </th>\n",
       "                        <td colspan=\"2\"> 12 chunks in 2 graph layers </td>\n",
       "                    </tr>\n",
       "                    <tr>\n",
       "                        <th> Data type </th>\n",
       "                        <td colspan=\"2\"> float64 numpy.ndarray </td>\n",
       "                    </tr>\n",
       "                </tbody>\n",
       "            </table>\n",
       "        </td>\n",
       "        <td>\n",
       "        <svg width=\"194\" height=\"156\" style=\"stroke:rgb(0,0,0);stroke-width:1\" >\n",
       "\n",
       "  <!-- Horizontal lines -->\n",
       "  <line x1=\"10\" y1=\"0\" x2=\"24\" y2=\"14\" style=\"stroke-width:2\" />\n",
       "  <line x1=\"10\" y1=\"91\" x2=\"24\" y2=\"106\" style=\"stroke-width:2\" />\n",
       "\n",
       "  <!-- Vertical lines -->\n",
       "  <line x1=\"10\" y1=\"0\" x2=\"10\" y2=\"91\" style=\"stroke-width:2\" />\n",
       "  <line x1=\"11\" y1=\"1\" x2=\"11\" y2=\"92\" />\n",
       "  <line x1=\"12\" y1=\"2\" x2=\"12\" y2=\"93\" />\n",
       "  <line x1=\"13\" y1=\"3\" x2=\"13\" y2=\"94\" />\n",
       "  <line x1=\"14\" y1=\"4\" x2=\"14\" y2=\"96\" />\n",
       "  <line x1=\"16\" y1=\"6\" x2=\"16\" y2=\"97\" />\n",
       "  <line x1=\"17\" y1=\"7\" x2=\"17\" y2=\"98\" />\n",
       "  <line x1=\"18\" y1=\"8\" x2=\"18\" y2=\"99\" />\n",
       "  <line x1=\"19\" y1=\"9\" x2=\"19\" y2=\"101\" />\n",
       "  <line x1=\"21\" y1=\"11\" x2=\"21\" y2=\"102\" />\n",
       "  <line x1=\"22\" y1=\"12\" x2=\"22\" y2=\"103\" />\n",
       "  <line x1=\"23\" y1=\"13\" x2=\"23\" y2=\"104\" />\n",
       "  <line x1=\"24\" y1=\"14\" x2=\"24\" y2=\"106\" style=\"stroke-width:2\" />\n",
       "\n",
       "  <!-- Colored Rectangle -->\n",
       "  <polygon points=\"10.0,0.0 24.9485979497544,14.948597949754403 24.9485979497544,106.14859794975439 10.0,91.19999999999999\" style=\"fill:#ECB172A0;stroke-width:0\"/>\n",
       "\n",
       "  <!-- Horizontal lines -->\n",
       "  <line x1=\"10\" y1=\"0\" x2=\"130\" y2=\"0\" style=\"stroke-width:2\" />\n",
       "  <line x1=\"11\" y1=\"1\" x2=\"131\" y2=\"1\" />\n",
       "  <line x1=\"12\" y1=\"2\" x2=\"132\" y2=\"2\" />\n",
       "  <line x1=\"13\" y1=\"3\" x2=\"133\" y2=\"3\" />\n",
       "  <line x1=\"14\" y1=\"4\" x2=\"134\" y2=\"4\" />\n",
       "  <line x1=\"16\" y1=\"6\" x2=\"136\" y2=\"6\" />\n",
       "  <line x1=\"17\" y1=\"7\" x2=\"137\" y2=\"7\" />\n",
       "  <line x1=\"18\" y1=\"8\" x2=\"138\" y2=\"8\" />\n",
       "  <line x1=\"19\" y1=\"9\" x2=\"139\" y2=\"9\" />\n",
       "  <line x1=\"21\" y1=\"11\" x2=\"141\" y2=\"11\" />\n",
       "  <line x1=\"22\" y1=\"12\" x2=\"142\" y2=\"12\" />\n",
       "  <line x1=\"23\" y1=\"13\" x2=\"143\" y2=\"13\" />\n",
       "  <line x1=\"24\" y1=\"14\" x2=\"144\" y2=\"14\" style=\"stroke-width:2\" />\n",
       "\n",
       "  <!-- Vertical lines -->\n",
       "  <line x1=\"10\" y1=\"0\" x2=\"24\" y2=\"14\" style=\"stroke-width:2\" />\n",
       "  <line x1=\"130\" y1=\"0\" x2=\"144\" y2=\"14\" style=\"stroke-width:2\" />\n",
       "\n",
       "  <!-- Colored Rectangle -->\n",
       "  <polygon points=\"10.0,0.0 130.0,0.0 144.9485979497544,14.948597949754403 24.9485979497544,14.948597949754403\" style=\"fill:#ECB172A0;stroke-width:0\"/>\n",
       "\n",
       "  <!-- Horizontal lines -->\n",
       "  <line x1=\"24\" y1=\"14\" x2=\"144\" y2=\"14\" style=\"stroke-width:2\" />\n",
       "  <line x1=\"24\" y1=\"106\" x2=\"144\" y2=\"106\" style=\"stroke-width:2\" />\n",
       "\n",
       "  <!-- Vertical lines -->\n",
       "  <line x1=\"24\" y1=\"14\" x2=\"24\" y2=\"106\" style=\"stroke-width:2\" />\n",
       "  <line x1=\"144\" y1=\"14\" x2=\"144\" y2=\"106\" style=\"stroke-width:2\" />\n",
       "\n",
       "  <!-- Colored Rectangle -->\n",
       "  <polygon points=\"24.9485979497544,14.948597949754403 144.9485979497544,14.948597949754403 144.9485979497544,106.14859794975439 24.9485979497544,106.14859794975439\" style=\"fill:#ECB172A0;stroke-width:0\"/>\n",
       "\n",
       "  <!-- Text -->\n",
       "  <text x=\"84.948598\" y=\"126.148598\" font-size=\"1.0rem\" font-weight=\"100\" text-anchor=\"middle\" >12800</text>\n",
       "  <text x=\"164.948598\" y=\"60.548598\" font-size=\"1.0rem\" font-weight=\"100\" text-anchor=\"middle\" transform=\"rotate(-90,164.948598,60.548598)\">9728</text>\n",
       "  <text x=\"7.474299\" y=\"118.674299\" font-size=\"1.0rem\" font-weight=\"100\" text-anchor=\"middle\" transform=\"rotate(45,7.474299,118.674299)\">12</text>\n",
       "</svg>\n",
       "        </td>\n",
       "    </tr>\n",
       "</table></div></li><li class='xr-var-item'><div class='xr-var-name'><span>spatial_ref</span></div><div class='xr-var-dims'>()</div><div class='xr-var-dtype'>int32</div><div class='xr-var-preview xr-preview'>...</div><input id='attrs-eef4fd28-f9cd-4572-9f85-a145d9f0f686' class='xr-var-attrs-in' type='checkbox' ><label for='attrs-eef4fd28-f9cd-4572-9f85-a145d9f0f686' title='Show/Hide attributes'><svg class='icon xr-icon-file-text2'><use xlink:href='#icon-file-text2'></use></svg></label><input id='data-6220ef67-8099-4a42-81ce-38e8be587250' class='xr-var-data-in' type='checkbox'><label for='data-6220ef67-8099-4a42-81ce-38e8be587250' title='Show/Hide data repr'><svg class='icon xr-icon-database'><use xlink:href='#icon-database'></use></svg></label><div class='xr-var-attrs'><dl class='xr-attrs'><dt><span>GeoTransform :</span></dt><dd>23.8291015625 0.0009765625 0.0 12.69921875 0.0 -0.0009765625</dd><dt><span>crs_wkt :</span></dt><dd>GEOGCS[&quot;WGS 84&quot;,DATUM[&quot;World Geodetic System 1984&quot;,SPHEROID[&quot;WGS 84&quot;,6378137,298.257223563]],PRIMEM[&quot;Greenwich&quot;,0],UNIT[&quot;degree&quot;,0.0174532925199433,AUTHORITY[&quot;EPSG&quot;,&quot;9122&quot;]],AXIS[&quot;Latitude&quot;,NORTH],AXIS[&quot;Longitude&quot;,EAST]]</dd><dt><span>geographic_crs_name :</span></dt><dd>WGS 84</dd><dt><span>grid_mapping_name :</span></dt><dd>latitude_longitude</dd><dt><span>inverse_flattening :</span></dt><dd>298.257223563</dd><dt><span>longitude_of_prime_meridian :</span></dt><dd>0.0</dd><dt><span>prime_meridian_name :</span></dt><dd>Greenwich</dd><dt><span>reference_ellipsoid_name :</span></dt><dd>WGS 84</dd><dt><span>semi_major_axis :</span></dt><dd>6378137.0</dd><dt><span>semi_minor_axis :</span></dt><dd>6356752.314245179</dd><dt><span>spatial_ref :</span></dt><dd>GEOGCS[&quot;WGS 84&quot;,DATUM[&quot;World Geodetic System 1984&quot;,SPHEROID[&quot;WGS 84&quot;,6378137,298.257223563]],PRIMEM[&quot;Greenwich&quot;,0],UNIT[&quot;degree&quot;,0.0174532925199433,AUTHORITY[&quot;EPSG&quot;,&quot;9122&quot;]],AXIS[&quot;Latitude&quot;,NORTH],AXIS[&quot;Longitude&quot;,EAST]]</dd></dl></div><div class='xr-var-data'><pre>[1 values with dtype=int32]</pre></div></li></ul></div></li><li class='xr-section-item'><input id='section-6e70fc18-0d64-4e49-852e-c7e33cbdd7b0' class='xr-section-summary-in' type='checkbox'  ><label for='section-6e70fc18-0d64-4e49-852e-c7e33cbdd7b0' class='xr-section-summary' >Indexes: <span>(3)</span></label><div class='xr-section-inline-details'></div><div class='xr-section-details'><ul class='xr-var-list'><li class='xr-var-item'><div class='xr-index-name'><div>months</div></div><div class='xr-index-preview'>PandasIndex</div><div></div><input id='index-fa0a1e80-0791-4f3d-b1b5-e08fb474dee3' class='xr-index-data-in' type='checkbox'/><label for='index-fa0a1e80-0791-4f3d-b1b5-e08fb474dee3' title='Show/Hide index repr'><svg class='icon xr-icon-database'><use xlink:href='#icon-database'></use></svg></label><div class='xr-index-data'><pre>PandasIndex(Index([1, 2, 3, 4, 5, 6, 7, 8, 9, 10, 11, 12], dtype=&#x27;int32&#x27;, name=&#x27;months&#x27;))</pre></div></li><li class='xr-var-item'><div class='xr-index-name'><div>x</div></div><div class='xr-index-preview'>PandasIndex</div><div></div><input id='index-b931a6f8-6165-4f06-b222-dd2e5dcbf3f9' class='xr-index-data-in' type='checkbox'/><label for='index-b931a6f8-6165-4f06-b222-dd2e5dcbf3f9' title='Show/Hide index repr'><svg class='icon xr-icon-database'><use xlink:href='#icon-database'></use></svg></label><div class='xr-index-data'><pre>PandasIndex(Index([23.82958984375, 23.83056640625, 23.83154296875, 23.83251953125,\n",
       "       23.83349609375, 23.83447265625, 23.83544921875, 23.83642578125,\n",
       "       23.83740234375, 23.83837890625,\n",
       "       ...\n",
       "       36.31982421875, 36.32080078125, 36.32177734375, 36.32275390625,\n",
       "       36.32373046875, 36.32470703125, 36.32568359375, 36.32666015625,\n",
       "       36.32763671875, 36.32861328125],\n",
       "      dtype=&#x27;float64&#x27;, name=&#x27;x&#x27;, length=12800))</pre></div></li><li class='xr-var-item'><div class='xr-index-name'><div>y</div></div><div class='xr-index-preview'>PandasIndex</div><div></div><input id='index-955f9e98-e33c-4eae-af4a-e5eb2ab6f158' class='xr-index-data-in' type='checkbox'/><label for='index-955f9e98-e33c-4eae-af4a-e5eb2ab6f158' title='Show/Hide index repr'><svg class='icon xr-icon-database'><use xlink:href='#icon-database'></use></svg></label><div class='xr-index-data'><pre>PandasIndex(Index([12.69873046875, 12.69775390625, 12.69677734375, 12.69580078125,\n",
       "       12.69482421875, 12.69384765625, 12.69287109375, 12.69189453125,\n",
       "       12.69091796875, 12.68994140625,\n",
       "       ...\n",
       "        3.20849609375,  3.20751953125,  3.20654296875,  3.20556640625,\n",
       "        3.20458984375,  3.20361328125,  3.20263671875,  3.20166015625,\n",
       "        3.20068359375,  3.19970703125],\n",
       "      dtype=&#x27;float64&#x27;, name=&#x27;y&#x27;, length=9728))</pre></div></li></ul></div></li><li class='xr-section-item'><input id='section-b04c03a9-ccb8-4f22-b0fb-47c9a697bf30' class='xr-section-summary-in' type='checkbox' disabled ><label for='section-b04c03a9-ccb8-4f22-b0fb-47c9a697bf30' class='xr-section-summary'  title='Expand/collapse section'>Attributes: <span>(0)</span></label><div class='xr-section-inline-details'></div><div class='xr-section-details'><dl class='xr-attrs'></dl></div></li></ul></div></div>"
      ],
      "text/plain": [
       "<xarray.Dataset> Size: 12GB\n",
       "Dimensions:      (months: 12, y: 9728, x: 12800)\n",
       "Coordinates:\n",
       "  * months       (months) int32 48B 1 2 3 4 5 6 7 8 9 10 11 12\n",
       "  * x            (x) float64 102kB 23.83 23.83 23.83 23.83 ... 36.33 36.33 36.33\n",
       "  * y            (y) float64 78kB 12.7 12.7 12.7 12.7 ... 3.203 3.202 3.201 3.2\n",
       "Data variables:\n",
       "    AETI         (months, y, x) float64 12GB dask.array<chunksize=(1, 9728, 12800), meta=np.ndarray>\n",
       "    spatial_ref  int32 4B ..."
      ]
     },
     "execution_count": 32,
     "metadata": {},
     "output_type": "execute_result"
    }
   ],
   "source": [
    "ds"
   ]
  },
  {
   "cell_type": "code",
   "execution_count": 33,
   "metadata": {},
   "outputs": [],
   "source": [
    "data = ds.isel(months=0)\n",
    "data = data.rio.write_crs(\"EPSG:4326\")\n",
    "# Save as COG\n",
    "output_path = \"../data/processed/evapotranspiration.tif\"\n",
    "data.rio.to_raster(output_path, driver=\"COG\")"
   ]
  }
 ],
 "metadata": {
  "kernelspec": {
   "display_name": "qgis",
   "language": "python",
   "name": "python3"
  },
  "language_info": {
   "codemirror_mode": {
    "name": "ipython",
    "version": 3
   },
   "file_extension": ".py",
   "mimetype": "text/x-python",
   "name": "python",
   "nbconvert_exporter": "python",
   "pygments_lexer": "ipython3",
   "version": "3.12.5"
  }
 },
 "nbformat": 4,
 "nbformat_minor": 0
}
